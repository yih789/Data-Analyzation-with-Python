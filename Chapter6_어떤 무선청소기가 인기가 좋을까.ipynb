{
 "cells": [
  {
   "cell_type": "markdown",
   "metadata": {},
   "source": [
    "# 6.1 데이터 수집 1 - 한 페이지 크롤링"
   ]
  },
  {
   "cell_type": "markdown",
   "metadata": {},
   "source": [
    "## 6.1.1 다나와 소개\n",
    "- 가격비교 사이트\n",
    "- 무선청소기 제품의 가격과 스펙 목록 수집"
   ]
  },
  {
   "cell_type": "markdown",
   "metadata": {},
   "source": [
    "## 6.1.2 다나와 검색 페이지 접속"
   ]
  },
  {
   "cell_type": "code",
   "execution_count": 1,
   "metadata": {},
   "outputs": [],
   "source": [
    "from selenium import webdriver\n",
    "driver = webdriver.Chrome('C:/Users/YHI/chromedriver.exe')\n",
    "url = 'http://search.danawa.com/dsearch.php?query=무선청소기&tab=main'\n",
    "driver.get(url)"
   ]
  },
  {
   "cell_type": "markdown",
   "metadata": {},
   "source": [
    "## 6.1.3 다나와 검색 웹 페이지에서 상품 정보 가져오기"
   ]
  },
  {
   "cell_type": "code",
   "execution_count": 2,
   "metadata": {},
   "outputs": [],
   "source": [
    "from bs4 import BeautifulSoup\n",
    "# 1페이지 나온 상품정보 수집해보기\n",
    "html= driver.page_source\n",
    "soup = BeautifulSoup(html, 'html.parser')"
   ]
  },
  {
   "cell_type": "code",
   "execution_count": 3,
   "metadata": {},
   "outputs": [
    {
     "data": {
      "text/plain": [
       "44"
      ]
     },
     "execution_count": 3,
     "metadata": {},
     "output_type": "execute_result"
    }
   ],
   "source": [
    "prod_items = soup.select('li.prod_item')\n",
    "len(prod_items)"
   ]
  },
  {
   "cell_type": "code",
   "execution_count": 4,
   "metadata": {},
   "outputs": [
    {
     "data": {
      "text/plain": [
       "44"
      ]
     },
     "execution_count": 4,
     "metadata": {},
     "output_type": "execute_result"
    }
   ],
   "source": [
    "prod_items = soup.select('ul.product_list > li.prod_item')\n",
    "len(prod_items)"
   ]
  },
  {
   "cell_type": "code",
   "execution_count": 5,
   "metadata": {},
   "outputs": [
    {
     "data": {
      "text/plain": [
       "41"
      ]
     },
     "execution_count": 5,
     "metadata": {},
     "output_type": "execute_result"
    }
   ],
   "source": [
    "prod_items = soup.select('div.main_prodlist > ul.product_list > li.prod_item')\n",
    "len(prod_items)"
   ]
  },
  {
   "cell_type": "code",
   "execution_count": 6,
   "metadata": {},
   "outputs": [
    {
     "data": {
      "text/plain": [
       "'샤오미 차량용 청소기 무선 3세대 (해외구매)'"
      ]
     },
     "execution_count": 6,
     "metadata": {},
     "output_type": "execute_result"
    }
   ],
   "source": [
    "# 상품명 정보 가져오기\n",
    "title = prod_items[0].select('p.prod_name > a')[0].text.strip()\n",
    "title"
   ]
  },
  {
   "cell_type": "code",
   "execution_count": 7,
   "metadata": {},
   "outputs": [
    {
     "data": {
      "text/plain": [
       "'차량용청소기 / 무선 / 흡입력: 16,800Pa / 최대출력: 120W / 헤파필터 / 추가노즐: 틈새, 솔브러쉬, 연장호스 / 사용시간: 25분 / 크기 : 369x72mm / 무게 : 560g'"
      ]
     },
     "execution_count": 7,
     "metadata": {},
     "output_type": "execute_result"
    }
   ],
   "source": [
    "# 스펙 목록 정보 가져오기\n",
    "spec_list = prod_items[0].select('div.spec_list')[0].text.strip()\n",
    "spec_list"
   ]
  },
  {
   "cell_type": "code",
   "execution_count": 8,
   "metadata": {},
   "outputs": [
    {
     "data": {
      "text/plain": [
       "'52120'"
      ]
     },
     "execution_count": 8,
     "metadata": {},
     "output_type": "execute_result"
    }
   ],
   "source": [
    "price = prod_items[0].select('p.price_sect > a > strong')[0].text.strip().replace(\",\", \"\")\n",
    "price"
   ]
  },
  {
   "cell_type": "code",
   "execution_count": 9,
   "metadata": {},
   "outputs": [
    {
     "name": "stdout",
     "output_type": "stream",
     "text": [
      "41\n",
      "[['샤오미 차량용 청소기 무선 3세대 (해외구매)', '차량용청소기 / 무선 / 흡입력: 16,800Pa / 최대출력: 120W / 헤파필터 / 추가노즐: 틈새, 솔브러쉬, 연장호스 / 사용시간: 25분 / 크기 : 369x72mm / 무게 : 560g', 52120], ['LG전자 코드제로 A9S A9700', '핸디/스틱청소기 / 핸디+스틱형 / 무선형 / 헤파필터 / 2중터보싸이클론 / 5단계여과 / 인버터모터 / 흡입력: 200W / 충전시간: 4시간 / 사용시간: 2시간 / 배터리: 리튬이온 (2개) / 구성: 바닥, 물걸레, 침구, 솔형, 굳은먼지, 상부청소, 틈새, 긴틈새, 매트리스, 연장툴, 거치대 / 자동물공급 / 디스플레이표시창 / 배터리잔량표시 / WiFi / 색상:판타지실버 / 소비전력: 590W / 미세먼지인증(SLG) / 크기(가로x세로x깊이): 250x1120x260mm', 1032630], ['9dtSQumlgj', '9dtSQumlgj975866', 975866], ['샤오미 드리미 V10', '핸디/스틱청소기 / 핸디+스틱형 / 무선형 / 전압: 25.2V / 헤파필터 / H12급 / 5단계여과 / 흡입력: 140AW / 흡입력: 22000Pa / 먼지통용량: 0.5L / 충전시간: 3시간30분 / 사용시간: 1시간 / 용량: 2500mAh / 구성: 바닥, 침구, 솔형, 틈새, 연장툴, 거치대 / 무게: 1.5kg / 색상:화이트 / 소비전력: 450W', 146400], ['삼성전자 제트 VS15R8500BF', '핸디/스틱청소기 / 핸디+스틱형 / 무선형 / 전압: 21.6V / 헤파필터 / 싸이클론 / 5단계여과 / 인버터모터 / 흡입력: 150W / 먼지통용량: 0.5L / 충전시간: 3시간30분 / 사용시간: 40분 / 배터리: 리튬이온 / 구성: 바닥, 솔형, 틈새, 거치대 / 디스플레이표시창 / 프리볼트 / 무게: 2.57kg / 색상:틸민트 / 소비전력: 410W / 알레르기인증(BAF) / 미세먼지인증(SLG) / 크기(가로x세로x깊이): 250x1123x215mm', 385200], ['삼성전자 제트 VS20T9213QDCS', '핸디/스틱청소기 / 핸디+스틱형 / 무선형 / 전압: 21.6V / 헤파필터 / 싸이클론 / 5단계여과 / 인버터모터 / 흡입력: 200W / 먼지통용량: 0.5L / 충전시간: 3시간30분 / 사용시간: 1시간 / 배터리: 리튬이온 / 구성: 바닥, 솔형, 틈새, 거치대 / 디스플레이표시창 / 프리볼트 / 무게: 2.64kg / 색상:티탄+그레이 / 소비전력: 550W / 알레르기인증(BAF) / 미세먼지인증(SLG) / 크기(가로x세로x깊이): 250x1123x215mm / [VCA-SAE90A] 청정스테이션 / 색상: 블랙 / 크기(가로x세로x깊이): 185x600x180mm', 631720], ['샤오미 TROUVER TECH SOLO10', '핸디/스틱청소기 / 핸디+스틱형 / 무선형 / 전압: 21.6V / 5단계여과 / BLDC모터 / 흡입력: 85AW / 흡입력: 18000Pa / 먼지통용량: 0.4L / 충전시간: 3시간30분 / 사용시간: 48분 / 용량: 2000mAh / 구성: 바닥, 솔형, 틈새 / 디스플레이표시창 / 배터리잔량표시 / 무게: 1.4kg / 색상:화이트+레드 / 소비전력: 300W', 97500], ['다이슨 V10 카본파이버', '핸디/스틱청소기 / 핸디+스틱형 / 무선형 / 전압: 25.2V / 싸이클론 / 흡입력: 160AW / 충전시간: 3시간30분 / 사용시간: 1시간 / 배터리: 리튬이온 / 구성: 소프트롤러, 토크드라이브, 미니모터, 솔형, 더스팅, 틈새, 긴틈새, 연장툴, 도킹스테이션 / 무게: 2.5kg / 소비전력: 525W / 크기(가로x세로x깊이): 250x1241x256mm', 584910], ['삼성전자 제트 VS20T9258SDCS', '핸디/스틱청소기 / 핸디+스틱형 / 무선형 / 전압: 21.6V / 헤파필터 / 싸이클론 / 5단계여과 / 인버터모터 / 흡입력: 200W / 먼지통용량: 0.5L / 충전시간: 3시간30분 / 사용시간: 2시간 / 배터리: 리튬이온 (2개) / 구성: 바닥, 물걸레, 침구, 솔형, 틈새, 연장툴, 거치대 / 디스플레이표시창 / 프리볼트 / 무게: 2.64kg / 색상:티탄+그레이 / 소비전력: 550W / 알레르기인증(BAF) / 미세먼지인증(SLG) / 크기(가로x세로x깊이): 250x1123x215mm / [VCA-SAE90A] 청정스테이션 / 색상: 블랙 / 크기(가로x세로x깊이): 185x600x180mm', 899000], ['LG전자 코드제로 A9S A9570', '핸디/스틱청소기 / 핸디+스틱형 / 무선형 / 헤파필터 / 2중터보싸이클론 / 5단계여과 / 인버터모터 / 흡입력: 200W / 충전시간: 4시간 / 사용시간: 2시간 / 배터리: 리튬이온 (2개) / 구성: 바닥, 물걸레, 침구, 솔형, 굳은먼지, 틈새, 매트리스, 거치대 / 자동물공급 / 디스플레이표시창 / 배터리잔량표시 / WiFi / 색상:판타지실버 / 소비전력: 590W / 미세먼지인증(SLG) / 크기(가로x세로x깊이): 250x1120x260mm', 980950], ['삼성전자 제트 VS20T9213QDCSW', '핸디/스틱청소기 / 핸디+스틱형 / 무선형 / 전압: 21.6V / 헤파필터 / 싸이클론 / 5단계여과 / 인버터모터 / 흡입력: 200W / 먼지통용량: 0.5L / 충전시간: 3시간30분 / 사용시간: 1시간 / 배터리: 리튬이온 / 구성: 바닥, 물걸레, 솔형, 틈새, 거치대 / 디스플레이표시창 / 프리볼트 / 무게: 2.64kg / 색상:티탄+그레이 / 소비전력: 550W / 알레르기인증(BAF) / 미세먼지인증(SLG) / 크기(가로x세로x깊이): 250x1123x215mm / [VCA-SAE90A] 청정스테이션 / 색상: 블랙 / 크기(가로x세로x깊이): 185x600x180mm', 712100], ['일렉트로룩스 ZB3302AK', '핸디/스틱청소기 / 핸디+스틱형 / 무선형 / 전압: 14.4V / 4단계여과 / 먼지통용량: 0.42L / 충전시간: 4시간 / 사용시간: 42분 / 배터리: 리튬이온 / 구성: 바닥, 침구, 틈새, 긴틈새, 패브릭, 연장툴, 거치대 / 브러쉬자동청소 / 셀프스탠딩 / LED라이트 / 배터리잔량표시 / 무게: 3.22kg / 색상:스페이스틸 / 알레르기인증(BAF) / 크기(가로x세로x깊이): 303x690x162mm', 146850], ['다이슨 옴니 글라이드 컴플리트+', '핸디/스틱청소기 / 핸디+스틱형 / 무선형 / 싸이클론 / 5단계여과 / 흡입력: 50AW / 먼지통용량: 0.2L / 충전시간: 3시간30분 / 사용시간: 20분 / 배터리: 리튬이온 / 구성: 전방향플러피, 미니모터, 솔형, 틈새, 서페이스, 연장툴, 거치대, 도킹스테이션 / 무게: 1.9kg / 색상:퍼플 / 크기(가로x세로x깊이): 208x1077x92mm', 542870], ['다이슨 디지털 슬림 플러피+', '핸디/스틱청소기 / 핸디+스틱형 / 무선형 / 싸이클론 / 5단계여과 / 흡입력: 100AW / 먼지통용량: 0.3L / 충전시간: 3시간30분 / 사용시간: 40분 / 구성: 슬림소프트롤러, 미니모터, 솔형, 스터번더트, 틈새, 매트리스, 연장툴, 거치대, 도킹스테이션 / 디스플레이표시창 / 무게: 1.9kg / 색상:오렌지 / 크기(가로x세로x깊이): 250x1100x250mm', 716000], ['다이슨 V8 플러피', '핸디/스틱청소기 / 핸디+스틱형 / 무선형 / 전압: 21.6V / 싸이클론 / 흡입력: 155AW / 충전시간: 5시간 / 사용시간: 40분 / 배터리: 리튬이온 / 구성: 소프트롤러, 미니모터, 솔형, 더스팅, 틈새, 매트리스, 연장툴, 도킹스테이션 / 무게: 2.58kg / 소비전력: 485W / 크기(가로x세로x깊이): 250x1264x224mm', 416530], ['한샘 HSBC-6000W', '욕실청소기 / 핸디형 / 무선형 / 충전시간: 4시간 / 사용시간: 1시간40분 / 용량: 2000mAh / 프리볼트 / 색상:화이트 / 소비전력: 30W / 완전방수 / 브러쉬: 평면, 틈새, 스크럽', 51760], ['샤오미 SHUNZAO 차량용 무선청소기 2세대 Z1 PRO (해외구매)', '차량용청소기 / 무선 / 흡입력: 12,000Pa / 최대출력: 120W / 2중필터 / 추가노즐: 틈새, 솔브러쉬 / LED라이트 / 사용시간: 30분 / 충전시간: 2시간30분 / 충전방식: USB C타입 / 크기: 73x76x336mm / 무게: 610g', 42370], ['LG전자 코드제로 A9S A9300', '핸디/스틱청소기 / 핸디+스틱형 / 무선형 / 헤파필터 / 2중터보싸이클론 / 5단계여과 / 인버터모터 / 흡입력: 200W / 충전시간: 4시간 / 사용시간: 1시간 / 배터리: 리튬이온 / 구성: 바닥, 솔형, 굳은먼지, 틈새, 매트리스, 거치대 / 디스플레이표시창 / 배터리잔량표시 / WiFi / 색상:아이언그레이 / 소비전력: 590W / 미세먼지인증(SLG) / 크기(가로x세로x깊이): 250x1120x260mm', 708390], ['삼성전자 제트 VS20R9078S2', '핸디/스틱청소기 / 핸디+스틱형 / 무선형 / 전압: 21.9V / 헤파필터 / 싸이클론 / 5단계여과 / 인버터모터 / 흡입력: 200W / 먼지통용량: 0.5L / 충전시간: 3시간30분 / 사용시간: 2시간 / 배터리: 리튬이온 (2개) / 구성: 바닥, 물걸레, 침구, 솔형, 틈새, 연장툴, 거치대 / 물걸레 / 디스플레이표시창 / 프리볼트 / 무게: 2.7kg / 색상:티탄+블루 / 소비전력: 550W / 알레르기인증(BAF) / 미세먼지인증(SLG) / 크기(가로x세로x깊이): 250x1136x215mm', 628280], ['샤오미 SHUNZAO 차량용 무선청소기 2세대 Z1 (해외구매)', '차량용청소기 / 무선 / 흡입력: 7,000Pa / 최대출력: 90W / 2중필터 / 추가노즐: 틈새, 솔브러쉬 / LED라이트 / 사용시간: 30분 / 충전방식: USB C타입 / 충전시간: 2시간30분 / 크기: 73x76x336mm / 무게: 700g', 24750], ['휴스톰 HS-10000', '물걸레청소기 / 스틱형 / 회전식 / 무선형 / 전압: 14.6V / 충전시간: 2시간30분 / 사용시간: 30분 / 배터리: 리튬이온 / 용량: 2750mAh / LED라이트 / 가구손상방지 / 각도조절 / 셀프스탠딩 / 배터리잔량표시 / 프리볼트 / 무게: 3.7kg / 색상:블랙 / 모터과열방지 / 과충전방지 / 오토스토핑 / 패드: 극세사(벨크로형) / 크기(가로x세로x깊이): 410x1180x205mm', 145460], ['다이슨 V11 컴플리트', '핸디/스틱청소기 / 핸디+스틱형 / 무선형 / 싸이클론 / 흡입력: 185AW / 먼지통용량: 0.54L / 충전시간: 4시간30분 / 사용시간: 1시간 / 구성: 하이토크, 소프트롤러, 미니모터, 솔형, 더스팅, 스터번더트, 틈새, 매트리스, 거치대, 도킹스테이션 / 디스플레이표시창 / 무게: 2.95kg / 색상:니켈블루 / 크기(가로x세로x깊이): 250x1280x261mm', 854950], ['LG전자 코드제로 A9 A9100', '핸디/스틱청소기 / 핸디+스틱형 / 무선형 / 헤파필터 / 2중터보싸이클론 / 5단계여과 / 인버터모터 / 충전시간: 3시간30분 / 사용시간: 40분 / 배터리: 리튬이온 / 구성: 바닥, 솔형, 틈새, 거치대 / 배터리잔량표시 / 색상:판타지실버 / 소비전력: 450W / 알레르기인증(BAF) / 미세먼지인증(SLG) / 크기(가로x세로x깊이): 250x1120x260mm', 519390], ['샤오미 미지아 차량용 핸디 무선 청소기 (해외구매)', '차량용청소기 / 무선 / 흡입력: 13,000Pa / 최대출력: 120W / 헤파필터 / 추가노즐: 틈새, 솔브러쉬 / 사용시간: 9~30분 / 버튼 잠금 장치 / 2단 세기 조절 / 크기: 55x267mm / 무게: 500g', 33900], ['샤오미 SHUNZAO Z11', '핸디/스틱청소기 / 핸디+스틱형 / 무선형 / 전압: 25.2V / 헤파필터 / 싸이클론 / 5단계여과 / 흡입력: 150AW / 흡입력: 26000Pa / 먼지통용량: 0.5L / 충전시간: 3시간 / 사용시간: 1시간 / 배터리: 리튬이온 / 용량: 2500mAh / 구성: 바닥, 침구, 솔형, 틈새, 연장툴, 거치대 / 디스플레이표시창 / 배터리잔량표시 / 색상:화이트', 0], ['LG전자 코드제로 A9S A9400', '핸디/스틱청소기 / 핸디+스틱형 / 무선형 / 헤파필터 / 2중터보싸이클론 / 5단계여과 / 인버터모터 / 흡입력: 200W / 충전시간: 4시간 / 사용시간: 2시간 / 배터리: 리튬이온 (2개) / 구성: 바닥, 솔형, 굳은먼지, 틈새, 매트리스, 거치대 / 디스플레이표시창 / 배터리잔량표시 / WiFi / 색상:판타지실버 / 소비전력: 590W / 미세먼지인증(SLG) / 크기(가로x세로x깊이): 250x1120x260mm', 800800], ['샤오미 드리미 V11', '핸디/스틱청소기 / 핸디+스틱형 / 무선형 / 전압: 25.2V / 멀티싸이클론 / 5단계여과 / BLDC모터 / 흡입력: 150AW / 흡입력: 25000Pa / 먼지통용량: 0.5L / 충전시간: 4시간 / 사용시간: 1시간30분 / 용량: 3000mAh / 구성: 바닥, 침구, 솔형, 틈새, 연장툴, 거치대 / 디스플레이표시창 / 무게: 1.6kg / 색상:레드 / 소비전력: 450W / 크기(가로x세로): 202x1221mm', 262990], ['리하스 차량용 미니 무선 청소기 TEB-4120', '차량용청소기 / 무선 / 흡입력: 15,000Pa / 최대출력: 120W / 헤파필터 / 스테인리스 필터 / 추가노즐: 틈새, 솔브러쉬, 연장호스 / 사용시간: 15~28분 / 충전시간: 4~5시간 / 색상: 블랙, 스카이블루, 화이트 / 크기: 415mm / 무게: 520g', 99000], ['LG전자 코드제로 A9S A9500', '핸디/스틱청소기 / 핸디+스틱형 / 무선형 / 헤파필터 / 2중터보싸이클론 / 5단계여과 / 인버터모터 / 흡입력: 200W / 충전시간: 4시간 / 사용시간: 2시간 / 배터리: 리튬이온 (2개) / 구성: 바닥, 침구, 솔형, 굳은먼지, 틈새, 매트리스, 거치대 / 디스플레이표시창 / 배터리잔량표시 / WiFi / 색상:아이언그레이 / 소비전력: 590W / 미세먼지인증(SLG) / 크기(가로x세로x깊이): 250x1120x260mm', 844090], ['일렉트로룩스 WELL Q6 WQ61-1OGG', '핸디/스틱청소기 / 핸디+스틱형 / 무선형 / 전압: 18V / 싸이클론 / 5단계여과 / 먼지통용량: 0.3L / 충전시간: 4시간30분 / 사용시간: 45분 / 배터리: 리튬이온 / 구성: 바닥, 솔형, 틈새, 거치대 / 브러쉬자동청소 / 셀프스탠딩 / LED라이트 / 배터리잔량표시 / 무게: 2.65kg / 색상:그라나이트그레이 / 크기(가로x세로x깊이): 386x692x146mm', 184810], ['LG전자 코드제로 A9S A9470', '핸디/스틱청소기 / 핸디+스틱형 / 무선형 / 헤파필터 / 2중터보싸이클론 / 5단계여과 / 인버터모터 / 충전시간: 4시간 / 사용시간: 2시간 / 배터리: 리튬이온 (2개) / 구성: 바닥, 물걸레, 솔형, 틈새, 거치대 / 자동물공급 / 디스플레이표시창 / 배터리잔량표시 / WiFi / 색상:아이언그레이 / 소비전력: 590W / 미세먼지인증(SLG) / 크기(가로x세로x깊이): 250x1120x260mm', 1007300], ['다이슨 V8 앱솔루트', '핸디/스틱청소기 / 핸디+스틱형 / 무선형 / 싸이클론 / 흡입력: 155AW / 충전시간: 5시간 / 사용시간: 40분 / 배터리: 리튬이온 / 구성: 소프트롤러, 다이렉트드라이브, 미니모터, 솔형, 더스팅, 스터번더트, 틈새, 매트리스, 연장툴, 도킹스테이션 / 무게: 2.58kg / 소비전력: 485W / 크기(가로x세로x깊이): 250x1244x224mm', 437350], ['일렉트로룩스 PURE Q9 PQ91-2OG', '핸디/스틱청소기 / 핸디+스틱형 / 무선형 / 전압: 21.6V / 싸이클론 / 5단계여과 / 먼지통용량: 0.3L / 충전시간: 3시간30분 / 사용시간: 50분 / 배터리: 리튬이온 / 구성: 바닥, 솔형, 틈새, 거치대 / 브러쉬자동청소 / 셀프스탠딩 / LED라이트 / 무게: 2.7kg / 색상:그라나이트그레이 / 크기(가로x세로x깊이): 234x1056x163mm', 252950], ['LG전자 코드제로 A9S A9370', '핸디/스틱청소기 / 핸디+스틱형 / 무선형 / 헤파필터 / 2중터보싸이클론 / 5단계여과 / 인버터모터 / 충전시간: 4시간 / 사용시간: 1시간 / 배터리: 리튬이온 / 구성: 바닥, 물걸레, 솔형, 틈새, 거치대 / 자동물공급 / 디스플레이표시창 / 배터리잔량표시 / WiFi / 색상:아이언그레이 / 소비전력: 590W / 미세먼지인증(SLG) / 크기(가로x세로x깊이): 250x1120x260mm', 823550], ['삼성전자 제트 VS20T9278S3CS', '핸디/스틱청소기 / 핸디+스틱형 / 무선형 / 전압: 21.9V / 헤파필터 / 싸이클론 / 5단계여과 / 인버터모터 / 흡입력: 200W / 먼지통용량: 0.5L / 충전시간: 3시간30분 / 사용시간: 2시간 / 배터리: 리튬이온 (2개) / 구성: 바닥, 물걸레, 침구, 솔형, 틈새, 연장툴, 거치대 / 디스플레이표시창 / 프리볼트 / 색상:티탄+실버 / 소비전력: 550W / 미세먼지인증(SLG) / 크기(가로x세로x깊이): 250x1136x215mm / [VCA-SAE90A] 청정스테이션 / 색상: 블랙 / 크기(가로x세로x깊이): 185x600x180mm', 872200], ['다이슨 V11 220 에어와트 CF+', '핸디/스틱청소기 / 핸디+스틱형 / 무선형 / 싸이클론 / 6단계여과 / 흡입력: 220AW / 먼지통용량: 0.54L / 충전시간: 4시간30분 / 사용시간: 1시간 / 구성: 하이토크, 소프트롤러, 미니모터, 솔형, 더스팅, 스터번더트, 틈새, 매트리스, 거치대, 도킹스테이션 / 디스플레이표시창 / 무게: 2.95kg / 크기(가로x세로x깊이): 250x1280x261mm', 1080950], ['ABKO 오엘라 네오스핀 OBC-AW09WH', '욕실청소기 / 스틱형 / 무선형 / 전압: 3.7V / 충전시간: 4~5시간 / 사용시간: 50분 / 배터리: 리튬이온 / 용량: 1950mAh / 무게: 0.86kg / 소비전력: 8W / 생활방수 / 브러쉬: 원형, 평면, 틈새', 64800], ['샤오미 SWDK-D260', '물걸레청소기 / 스틱형 / 왕복식 / 무선형 / 전압: 12.6V / 충전시간: 3시간 / 사용시간: 50분 / 배터리: 리튬이온 / 용량: 2000mAh / 물분사 / LED라이트 / 프리볼트 / 무게: 2.4kg / 색상:화이트 / 110V / 변환어댑터: 필요', 105910], ['휴스톰 HS-9000', '물걸레청소기 / 스틱형 / 회전식 / 무선형 / 전압: 14.6V / 충전시간: 4시간 / 사용시간: 30분 / 배터리: 리튬이온 / 용량: 2850mAh / LED라이트 / 가구손상방지 / 각도조절 / 셀프스탠딩 / 무게: 3.6kg / 색상:블랙 / 모터과열방지 / 과충전방지 / 오토스토핑 / 패드: 극세사(벨크로형) / 크기(가로x세로x깊이): 410x860x256mm', 137030], ['DIBEA DW200', '핸디/스틱청소기 / 핸디+스틱형 / 무선형 / 전압: 22.2V / 싸이클론 / 4단계여과 / 흡입력: 10000Pa / 먼지통용량: 0.5L / 충전시간: 4~5시간 / 사용시간: 35분 / 배터리: 리튬이온 / 용량: 2200mAh / 구성: 바닥, 솔형, 틈새, 연장툴 / 무게: 2kg / 색상:화이트 / 소비전력: 150W / 100V / 변환어댑터: 필요 / 크기(가로x세로x깊이): 210x1040x104mm', 66340], ['삼성전자 제트 VS15R8543S1CW', '핸디/스틱청소기 / 핸디+스틱형 / 무선형 / 전압: 21.6V / 헤파필터 / 싸이클론 / 5단계여과 / 인버터모터 / 흡입력: 150W / 먼지통용량: 0.5L / 충전시간: 3시간30분 / 사용시간: 40분 / 배터리: 리튬이온 / 구성: 바닥, 솔형, 틈새, 연장툴, 거치대 / 디스플레이표시창 / 프리볼트 / 무게: 2.57kg / 색상:틸민트 / 소비전력: 410W / 알레르기인증(BAF) / 미세먼지인증(SLG) / 크기(가로x세로x깊이): 250x1123x215mm / [VCA-SAE90A] 청정스테이션 / 색상: 화이트 / 크기(가로x세로x깊이): 185x600x180mm', 507390]]\n"
     ]
    }
   ],
   "source": [
    "# 반복문으로 검색 결과의 1페이지에 대한 상품 정보 추출\n",
    "prod_data = []\n",
    "for prod_item in prod_items:\n",
    "    try:\n",
    "        title = prod_item.select('p.prod_name > a')[0].text.strip()\n",
    "    except:\n",
    "        title = ''\n",
    "    try:\n",
    "        spec_list = prod_item.select('div.spec_list')[0].text.strip()\n",
    "    except:\n",
    "        spec_list = ''\n",
    "    try:\n",
    "        price = int(prod_item.select('p.price_sect > a > strong')[0].text.strip().replace(\",\", \"\"))\n",
    "    except:\n",
    "        price = 0\n",
    "    prod_data.append([title, spec_list, price])\n",
    "    \n",
    "print(len(prod_data))\n",
    "print(prod_data)"
   ]
  },
  {
   "cell_type": "code",
   "execution_count": 10,
   "metadata": {},
   "outputs": [],
   "source": [
    "# 상품 정보 태그에서 원하는 정보를 추출하는 함수\n",
    "def get_prod_items(prod_itmes):\n",
    "    prod_data = []\n",
    "    \n",
    "    for prod_item in prod_items:\n",
    "        try:\n",
    "            title = prod_item.select('p.prod_name > a')[0].text.strip()\n",
    "        except:\n",
    "            title = ''\n",
    "        try:\n",
    "            spec_list = prod_item.select('div.spec_list')[0].text.strip()\n",
    "        except:\n",
    "            spec_list = ''\n",
    "        try:\n",
    "            price = int(prod_item.select('p.price_sect > a > strong')[0].text.strip().replace(\",\", \"\"))\n",
    "        except:\n",
    "            price = 0\n",
    "        prod_data.append([title, spec_list, price])\n",
    "        \n",
    "    return prod_data"
   ]
  },
  {
   "cell_type": "code",
   "execution_count": 11,
   "metadata": {},
   "outputs": [
    {
     "name": "stdout",
     "output_type": "stream",
     "text": [
      "41\n"
     ]
    }
   ],
   "source": [
    "# 상품 정보를 가져오는 함수 테스트\n",
    "prod_items = soup.select('#productListArea div.main_prodlist.main_prodlist_list ul.product_list li.prod_item')\n",
    "prod_data = get_prod_items(prod_items)\n",
    "print(len(prod_data))"
   ]
  },
  {
   "cell_type": "markdown",
   "metadata": {},
   "source": [
    "# 6.2 데이터 수집 2 - 여러 페이지에 걸친 검색 페이지 크롤링"
   ]
  },
  {
   "cell_type": "markdown",
   "metadata": {},
   "source": [
    "## 6.2.1 다나와 검색 결과 페이지 URL 분석"
   ]
  },
  {
   "cell_type": "code",
   "execution_count": 12,
   "metadata": {},
   "outputs": [],
   "source": [
    "def get_search_page_url(keyword, page):\n",
    "    return 'http://search.danawa.com/dsearch.php?query={}&volumeType=allvs&page={}&limit=30&sort=saveDESC&list=list&boost=true&addDelivery=N&tab=goods&tab=goods'.format(keyword, page)\n",
    "\n",
    "keyword = '무선청소기'\n",
    "page = 1\n",
    "url = get_search_page_url(keyword, page)"
   ]
  },
  {
   "cell_type": "markdown",
   "metadata": {},
   "source": [
    "\n",
    "## 6.2.2 주피터 노트북의 진행표시줄 처리"
   ]
  },
  {
   "cell_type": "code",
   "execution_count": 36,
   "metadata": {},
   "outputs": [
    {
     "name": "stderr",
     "output_type": "stream",
     "text": [
      "c:\\users\\yhi\\anaconda3\\envs\\tensorflow\\lib\\site-packages\\ipykernel_launcher.py:6: TqdmDeprecationWarning: This function will be removed in tqdm==5.0.0\n",
      "Please use `tqdm.notebook.tqdm` instead of `tqdm.tqdm_notebook`\n",
      "  \n"
     ]
    },
    {
     "data": {
      "application/vnd.jupyter.widget-view+json": {
       "model_id": "4aa315ce699245598eff469c61c51d8c",
       "version_major": 2,
       "version_minor": 0
      },
      "text/plain": [
       "HBox(children=(FloatProgress(value=0.0, max=10.0), HTML(value='')))"
      ]
     },
     "metadata": {},
     "output_type": "display_data"
    },
    {
     "name": "stdout",
     "output_type": "stream",
     "text": [
      "\n"
     ]
    }
   ],
   "source": [
    "# tqdm 사용법\n",
    "import time\n",
    "from tqdm import tqdm_notebook\n",
    "\n",
    "total_page = 10\n",
    "for page in tqdm_notebook(range(1, total_page+1)):\n",
    "    # 페이지가 로딩 완료되기 위한 시간을 2초로 준다.\n",
    "    time.sleep(2)    "
   ]
  },
  {
   "cell_type": "code",
   "execution_count": null,
   "metadata": {},
   "outputs": [],
   "source": []
  },
  {
   "cell_type": "markdown",
   "metadata": {},
   "source": [
    "## 6.2.3 여러 페이지에 걸친 상품 정보 수집"
   ]
  },
  {
   "cell_type": "code",
   "execution_count": 13,
   "metadata": {},
   "outputs": [
    {
     "name": "stderr",
     "output_type": "stream",
     "text": [
      "c:\\users\\yhi\\anaconda3\\envs\\tensorflow\\lib\\site-packages\\ipykernel_launcher.py:16: TqdmDeprecationWarning: This function will be removed in tqdm==5.0.0\n",
      "Please use `tqdm.notebook.tqdm` instead of `tqdm.tqdm_notebook`\n",
      "  app.launch_new_instance()\n"
     ]
    },
    {
     "data": {
      "application/vnd.jupyter.widget-view+json": {
       "model_id": "ef066e5becb74215bba99bcbbee5d9b0",
       "version_major": 2,
       "version_minor": 0
      },
      "text/plain": [
       "HBox(children=(FloatProgress(value=0.0, max=10.0), HTML(value='')))"
      ]
     },
     "metadata": {},
     "output_type": "display_data"
    },
    {
     "name": "stdout",
     "output_type": "stream",
     "text": [
      "\n"
     ]
    }
   ],
   "source": [
    "# 실전 다나와 크롤링\n",
    "from selenium import webdriver\n",
    "import time\n",
    "from bs4 import BeautifulSoup\n",
    "from tqdm import tqdm_notebook\n",
    "\n",
    "driver = webdriver.Chrome('C:/Users/YHI/chromedriver.exe')\n",
    "# 암묵적으로 웹 자원 로드를 위해 3초까지 기다림\n",
    "driver.implicitly_wait(3)\n",
    "\n",
    "keyword = '무선청소기'\n",
    "total_page = 10\n",
    "prod_data_total = []\n",
    "\n",
    "# 진행 정도를 표현하는 tqdm\n",
    "for page in tqdm_notebook(range(1, total_page+1)):\n",
    "    # 검색 페이지 이동\n",
    "    url = get_search_page_url(keyword, page)\n",
    "    driver.get(url)\n",
    "    # 로딩시간 5초 부여\n",
    "    time.sleep(5)\n",
    "    \n",
    "    # 현재 페이지의 HTML 정보 가져오기\n",
    "    html= driver.page_source\n",
    "    soup = BeautifulSoup(html, 'html.parser')\n",
    "    \n",
    "    # 상품 정보 추출\n",
    "    prod_items = soup.select('#productListArea div.main_prodlist.main_prodlist_list ul.product_list li.prod_item')\n",
    "    prod_item_list = get_prod_items(prod_items)\n",
    "    \n",
    "    # 추출 데이터 저장\n",
    "    prod_data_total = prod_data_total + prod_item_list"
   ]
  },
  {
   "cell_type": "markdown",
   "metadata": {},
   "source": [
    "## 6.2.4 수집 데이터 저장"
   ]
  },
  {
   "cell_type": "code",
   "execution_count": 14,
   "metadata": {},
   "outputs": [],
   "source": [
    "import pandas as pd\n",
    "data = pd.DataFrame(prod_data_total)\n",
    "data.columns = ['상품명', '스펙목록', '가격']\n",
    "data.to_excel('files/danawa_crawling_result.xlsx', index=False)"
   ]
  },
  {
   "cell_type": "markdown",
   "metadata": {},
   "source": [
    "# 6.3 다나와 크롤링 데이터 전처리\n",
    "- 1. 상품명 데이터에서 회사명과 제품명 분리\n",
    "- 2. 일반 문자열로 저장된 스펙목록을 필요한 스펙으로 분류 및 단위 통합"
   ]
  },
  {
   "cell_type": "markdown",
   "metadata": {},
   "source": [
    "## 6.3.1 다나와 크롤링 데이터 불러오기"
   ]
  },
  {
   "cell_type": "code",
   "execution_count": 16,
   "metadata": {},
   "outputs": [
    {
     "name": "stdout",
     "output_type": "stream",
     "text": [
      "<class 'pandas.core.frame.DataFrame'>\n",
      "RangeIndex: 400 entries, 0 to 399\n",
      "Data columns (total 3 columns):\n",
      " #   Column  Non-Null Count  Dtype \n",
      "---  ------  --------------  ----- \n",
      " 0   상품명     400 non-null    object\n",
      " 1   스펙목록    400 non-null    object\n",
      " 2   가격      400 non-null    int64 \n",
      "dtypes: int64(1), object(2)\n",
      "memory usage: 9.5+ KB\n"
     ]
    },
    {
     "data": {
      "text/html": [
       "<div>\n",
       "<style scoped>\n",
       "    .dataframe tbody tr th:only-of-type {\n",
       "        vertical-align: middle;\n",
       "    }\n",
       "\n",
       "    .dataframe tbody tr th {\n",
       "        vertical-align: top;\n",
       "    }\n",
       "\n",
       "    .dataframe thead th {\n",
       "        text-align: right;\n",
       "    }\n",
       "</style>\n",
       "<table border=\"1\" class=\"dataframe\">\n",
       "  <thead>\n",
       "    <tr style=\"text-align: right;\">\n",
       "      <th></th>\n",
       "      <th>상품명</th>\n",
       "      <th>스펙목록</th>\n",
       "      <th>가격</th>\n",
       "    </tr>\n",
       "  </thead>\n",
       "  <tbody>\n",
       "    <tr>\n",
       "      <th>0</th>\n",
       "      <td>샤오미 차량용 청소기 무선 3세대 (해외구매)</td>\n",
       "      <td>차량용청소기 / 무선 / 흡입력: 16,800Pa / 최대출력: 120W / 헤파필...</td>\n",
       "      <td>52120</td>\n",
       "    </tr>\n",
       "    <tr>\n",
       "      <th>1</th>\n",
       "      <td>LG전자 코드제로 A9S A9700</td>\n",
       "      <td>핸디/스틱청소기 / 핸디+스틱형 / 무선형 / 헤파필터 / 2중터보싸이클론 / 5단...</td>\n",
       "      <td>1032630</td>\n",
       "    </tr>\n",
       "    <tr>\n",
       "      <th>2</th>\n",
       "      <td>샤오미 드리미 V10</td>\n",
       "      <td>핸디/스틱청소기 / 핸디+스틱형 / 무선형 / 전압: 25.2V / 헤파필터 / H...</td>\n",
       "      <td>146400</td>\n",
       "    </tr>\n",
       "    <tr>\n",
       "      <th>3</th>\n",
       "      <td>삼성전자 제트 VS15R8500BF</td>\n",
       "      <td>핸디/스틱청소기 / 핸디+스틱형 / 무선형 / 전압: 21.6V / 헤파필터 / 싸...</td>\n",
       "      <td>385200</td>\n",
       "    </tr>\n",
       "    <tr>\n",
       "      <th>4</th>\n",
       "      <td>삼성전자 제트 VS20T9213QDCS</td>\n",
       "      <td>핸디/스틱청소기 / 핸디+스틱형 / 무선형 / 전압: 21.6V / 헤파필터 / 싸...</td>\n",
       "      <td>631720</td>\n",
       "    </tr>\n",
       "  </tbody>\n",
       "</table>\n",
       "</div>"
      ],
      "text/plain": [
       "                         상품명  \\\n",
       "0  샤오미 차량용 청소기 무선 3세대 (해외구매)   \n",
       "1        LG전자 코드제로 A9S A9700   \n",
       "2                샤오미 드리미 V10   \n",
       "3        삼성전자 제트 VS15R8500BF   \n",
       "4      삼성전자 제트 VS20T9213QDCS   \n",
       "\n",
       "                                                스펙목록       가격  \n",
       "0  차량용청소기 / 무선 / 흡입력: 16,800Pa / 최대출력: 120W / 헤파필...    52120  \n",
       "1  핸디/스틱청소기 / 핸디+스틱형 / 무선형 / 헤파필터 / 2중터보싸이클론 / 5단...  1032630  \n",
       "2  핸디/스틱청소기 / 핸디+스틱형 / 무선형 / 전압: 25.2V / 헤파필터 / H...   146400  \n",
       "3  핸디/스틱청소기 / 핸디+스틱형 / 무선형 / 전압: 21.6V / 헤파필터 / 싸...   385200  \n",
       "4  핸디/스틱청소기 / 핸디+스틱형 / 무선형 / 전압: 21.6V / 헤파필터 / 싸...   631720  "
      ]
     },
     "execution_count": 16,
     "metadata": {},
     "output_type": "execute_result"
    }
   ],
   "source": [
    "import pandas as pd\n",
    "data = pd.read_excel('files/danawa_crawling_result.xlsx')\n",
    "data.info()\n",
    "data.head()"
   ]
  },
  {
   "cell_type": "markdown",
   "metadata": {},
   "source": [
    "## 6.3.2 회사명, 모델명 정리"
   ]
  },
  {
   "cell_type": "code",
   "execution_count": 17,
   "metadata": {},
   "outputs": [],
   "source": [
    "company_list = []\n",
    "product_list = []\n",
    "\n",
    "for title in data['상품명']:\n",
    "    title_info = title.split(' ', 1)\n",
    "    company_name = title_info[0]\n",
    "    product_name = title_info[1]\n",
    "    company_list.append(company_name)\n",
    "    product_list.append(product_name)"
   ]
  },
  {
   "cell_type": "markdown",
   "metadata": {},
   "source": [
    "## 6.3.3 스펙 목록 데이터 살펴보기"
   ]
  },
  {
   "cell_type": "code",
   "execution_count": 18,
   "metadata": {},
   "outputs": [
    {
     "data": {
      "text/plain": [
       "'차량용청소기 / 무선 / 흡입력: 16,800Pa / 최대출력: 120W / 헤파필터 / 추가노즐: 틈새, 솔브러쉬, 연장호스 / 사용시간: 25분 / 크기 : 369x72mm / 무게 : 560g'"
      ]
     },
     "execution_count": 18,
     "metadata": {},
     "output_type": "execute_result"
    }
   ],
   "source": [
    "data['스펙목록'][0]"
   ]
  },
  {
   "cell_type": "code",
   "execution_count": 19,
   "metadata": {},
   "outputs": [
    {
     "data": {
      "text/plain": [
       "['차량용청소기',\n",
       " '무선',\n",
       " '흡입력: 16,800Pa',\n",
       " '최대출력: 120W',\n",
       " '헤파필터',\n",
       " '추가노즐: 틈새, 솔브러쉬, 연장호스',\n",
       " '사용시간: 25분',\n",
       " '크기 : 369x72mm',\n",
       " '무게 : 560g']"
      ]
     },
     "execution_count": 19,
     "metadata": {},
     "output_type": "execute_result"
    }
   ],
   "source": [
    "# 첫 번째 제품의 스펙 목록 분리\n",
    "spec_list = data['스펙목록'][0].split(' / ')\n",
    "spec_list"
   ]
  },
  {
   "cell_type": "code",
   "execution_count": 20,
   "metadata": {},
   "outputs": [
    {
     "data": {
      "text/plain": [
       "'차량용청소기'"
      ]
     },
     "execution_count": 20,
     "metadata": {},
     "output_type": "execute_result"
    }
   ],
   "source": [
    "# 카테고리 정보 추출\n",
    "category = spec_list[0]\n",
    "category"
   ]
  },
  {
   "cell_type": "markdown",
   "metadata": {},
   "source": [
    "## 6.3.4 스펙 목록에서 카테고리, 사용시간, 흡입력을 추출 후 정리"
   ]
  },
  {
   "cell_type": "code",
   "execution_count": 21,
   "metadata": {},
   "outputs": [
    {
     "name": "stdout",
     "output_type": "stream",
     "text": [
      "사용시간: 25분\n",
      "흡입력: 16,800Pa\n"
     ]
    }
   ],
   "source": [
    "# '사용시간', '흡입력'이 포함된 원소 추출\n",
    "for spec in spec_list:\n",
    "    if '사용시간' in spec:\n",
    "        use_time_spec = spec\n",
    "    elif '흡입력' in spec:\n",
    "        suction_spec = spec\n",
    "\n",
    "print(use_time_spec)\n",
    "print(suction_spec)"
   ]
  },
  {
   "cell_type": "code",
   "execution_count": 22,
   "metadata": {},
   "outputs": [
    {
     "name": "stdout",
     "output_type": "stream",
     "text": [
      "25분\n",
      "16,800Pa\n"
     ]
    }
   ],
   "source": [
    "# 정량적인 수치 추출 \n",
    "use_time_value = use_time_spec.split(' ')[1].strip() \n",
    "suction_value = suction_spec.split(' ')[1].strip()\n",
    "print(use_time_value)\n",
    "print(suction_value)"
   ]
  },
  {
   "cell_type": "code",
   "execution_count": 23,
   "metadata": {},
   "outputs": [],
   "source": [
    "category_list = []\n",
    "use_time_list = []\n",
    "suction_list = []\n",
    "\n",
    "for spec_data in data['스펙목록']:\n",
    "    # ' / '기준으로 분리\n",
    "    spec_list = spec_data.split(' / ')\n",
    "    \n",
    "    # 카테고리 추출하기\n",
    "    category = spec_list[0]\n",
    "    category_list.append(category)\n",
    "    \n",
    "     # 사용시간, 흡입력 추출 \n",
    "    ## 사용시간, 흡입력 정보가 없는 제품을 위해 변수를 생성 \n",
    "    use_time_value = None \n",
    "    suction_value = None \n",
    "    \n",
    "    ## spec_list의 각 원소에서 사용시간, 흡입력 수치 추출\n",
    "    for spec in spec_list:\n",
    "        if '사용시간' in spec: \n",
    "            use_time_value = spec.split(' ')[1].strip()             \n",
    "        if '흡입력' in spec:\n",
    "            suction_value = spec.split(' ')[1].strip() \n",
    "    use_time_list.append(use_time_value)\n",
    "    suction_list.append(suction_value)"
   ]
  },
  {
   "cell_type": "code",
   "execution_count": 24,
   "metadata": {},
   "outputs": [
    {
     "name": "stdout",
     "output_type": "stream",
     "text": [
      "카테고리 400 ['차량용청소기', '핸디/스틱청소기', '핸디/스틱청소기', '핸디/스틱청소기', '핸디/스틱청소기']\n",
      "사용시간 400 ['25분', '2시간', '1시간', '40분', '1시간']\n",
      "흡입력 7 ['16,800Pa', '200W', '22000Pa', '150W', '200W']\n"
     ]
    }
   ],
   "source": [
    "# 카테고리, 사용시간, 흡입력에 대한 전처리 결과 확인\n",
    "print(\"카테고리\", len(category_list), category_list[0:5])\n",
    "print(\"사용시간\", len(use_time_list), use_time_list[0:5])\n",
    "print(\"흡입력\", len(suction_value), suction_list[0:5])"
   ]
  },
  {
   "cell_type": "code",
   "execution_count": 25,
   "metadata": {},
   "outputs": [],
   "source": [
    "time_list = pd.DataFrame(use_time_list)\n",
    "time_list.to_excel('files/time_list_sample.xlsx', index = False)"
   ]
  },
  {
   "cell_type": "markdown",
   "metadata": {},
   "source": [
    "## 6.3.5 무선청소기 사용시간 단위 통일시기키"
   ]
  },
  {
   "cell_type": "code",
   "execution_count": 26,
   "metadata": {},
   "outputs": [],
   "source": [
    "def convert_time_minute(time):\n",
    "    try:\n",
    "        if '시간' in time:\n",
    "            if '~' in time:\n",
    "                hour1, hour2 = time.split('시간')[0].split('~')\n",
    "                hour = (int(hour1) + int(hour2))/2\n",
    "            else:\n",
    "                hour = time.split('시간')[0]\n",
    "            if '분' in time:\n",
    "                minute = time.split('시간')[-1].split('분')[0]\n",
    "            else:\n",
    "                minute = 0\n",
    "        else:\n",
    "            hour = 0\n",
    "            if '~' in time:\n",
    "                min1, min2 = time.split('분')[0].split('~')\n",
    "                minute = (int(min1) + int(min2))/2\n",
    "            else:\n",
    "                minute = time.split('분')[0]\n",
    "        return float(hour)*60 + int(minute)\n",
    "    except:\n",
    "        return None"
   ]
  },
  {
   "cell_type": "code",
   "execution_count": 27,
   "metadata": {},
   "outputs": [
    {
     "name": "stdout",
     "output_type": "stream",
     "text": [
      "40분 = 40.0\n",
      "4분 = 4.0\n",
      "1시간 = 60.0\n",
      "3시간30분 = 210.0\n",
      "4시간 = 240.0\n",
      "2~3시간 = 150.0\n",
      "20~30분 = 25.0\n"
     ]
    }
   ],
   "source": [
    "# 사용시간을 분 단위로 조정하는 함수의 테스트\n",
    "times = [\"40분\", \"4분\", \"1시간\", \"3시간30분\", \"4시간\", \"2~3시간\", \"20~30분\"]\n",
    "for time in times:\n",
    "    time_value = convert_time_minute(time)\n",
    "    print(time, \"=\", time_value)"
   ]
  },
  {
   "cell_type": "code",
   "execution_count": 28,
   "metadata": {},
   "outputs": [
    {
     "name": "stdout",
     "output_type": "stream",
     "text": [
      "400\n",
      "[25.0, 120.0, 60.0, 40.0, 60.0, 48.0, 60.0, 120.0, 120.0, 60.0]\n"
     ]
    }
   ],
   "source": [
    "# 모델별 사용시간을 분 단위로 통일하기\n",
    "new_use_time_list = []\n",
    "for time in use_time_list:\n",
    "    value = convert_time_minute(time)\n",
    "    new_use_time_list.append(value)\n",
    "    \n",
    "print(len(new_use_time_list))\n",
    "print(new_use_time_list[0:10])"
   ]
  },
  {
   "cell_type": "markdown",
   "metadata": {},
   "source": [
    "## 6.3.6 무선 청소기 흡입력 단위 통일시키기"
   ]
  },
  {
   "cell_type": "code",
   "execution_count": 29,
   "metadata": {},
   "outputs": [],
   "source": [
    "# 흡입력 단위 통일 함수\n",
    "def get_suction(value):\n",
    "    try:\n",
    "        value = value.upper()\n",
    "        if \"AW\" in value or \"W\" in value:\n",
    "            result = value.replace(\"A\", \"\").replace(\"W\",\"\")\n",
    "            result = int(result.replace(\",\",\"\"))\n",
    "        elif \"PA\" in value:\n",
    "            result = value.replace(\"PA\",\"\")\n",
    "            result = int(result.replace(\",\",\"\"))/100\n",
    "        else:\n",
    "            result = None\n",
    "        return result\n",
    "    except:\n",
    "        return None "
   ]
  },
  {
   "cell_type": "code",
   "execution_count": 30,
   "metadata": {},
   "outputs": [
    {
     "name": "stdout",
     "output_type": "stream",
     "text": [
      "400\n",
      "[168.0, 200, 220.0, 150, 200, 180.0, 160, 200, 200, 200]\n"
     ]
    }
   ],
   "source": [
    "# 흡입력 단위 통일시키기\n",
    "new_suction_list = []\n",
    "for power in suction_list:\n",
    "    value = get_suction (power)\n",
    "    new_suction_list.append(value)\n",
    "\n",
    "print(len(new_suction_list))\n",
    "print(new_suction_list[0:10])"
   ]
  },
  {
   "cell_type": "markdown",
   "metadata": {},
   "source": [
    "## 6.3.7 다나와 전처리 결과를 엑셀로 저장"
   ]
  },
  {
   "cell_type": "code",
   "execution_count": 31,
   "metadata": {},
   "outputs": [
    {
     "data": {
      "text/html": [
       "<div>\n",
       "<style scoped>\n",
       "    .dataframe tbody tr th:only-of-type {\n",
       "        vertical-align: middle;\n",
       "    }\n",
       "\n",
       "    .dataframe tbody tr th {\n",
       "        vertical-align: top;\n",
       "    }\n",
       "\n",
       "    .dataframe thead th {\n",
       "        text-align: right;\n",
       "    }\n",
       "</style>\n",
       "<table border=\"1\" class=\"dataframe\">\n",
       "  <thead>\n",
       "    <tr style=\"text-align: right;\">\n",
       "      <th></th>\n",
       "      <th>카테고리</th>\n",
       "      <th>회사명</th>\n",
       "      <th>제품</th>\n",
       "      <th>가격</th>\n",
       "      <th>사용시간</th>\n",
       "      <th>흡입력</th>\n",
       "    </tr>\n",
       "  </thead>\n",
       "  <tbody>\n",
       "    <tr>\n",
       "      <th>0</th>\n",
       "      <td>차량용청소기</td>\n",
       "      <td>샤오미</td>\n",
       "      <td>차량용 청소기 무선 3세대 (해외구매)</td>\n",
       "      <td>52120</td>\n",
       "      <td>25.0</td>\n",
       "      <td>168.0</td>\n",
       "    </tr>\n",
       "    <tr>\n",
       "      <th>1</th>\n",
       "      <td>핸디/스틱청소기</td>\n",
       "      <td>LG전자</td>\n",
       "      <td>코드제로 A9S A9700</td>\n",
       "      <td>1032630</td>\n",
       "      <td>120.0</td>\n",
       "      <td>200.0</td>\n",
       "    </tr>\n",
       "    <tr>\n",
       "      <th>2</th>\n",
       "      <td>핸디/스틱청소기</td>\n",
       "      <td>샤오미</td>\n",
       "      <td>드리미 V10</td>\n",
       "      <td>146400</td>\n",
       "      <td>60.0</td>\n",
       "      <td>220.0</td>\n",
       "    </tr>\n",
       "    <tr>\n",
       "      <th>3</th>\n",
       "      <td>핸디/스틱청소기</td>\n",
       "      <td>삼성전자</td>\n",
       "      <td>제트 VS15R8500BF</td>\n",
       "      <td>385200</td>\n",
       "      <td>40.0</td>\n",
       "      <td>150.0</td>\n",
       "    </tr>\n",
       "    <tr>\n",
       "      <th>4</th>\n",
       "      <td>핸디/스틱청소기</td>\n",
       "      <td>삼성전자</td>\n",
       "      <td>제트 VS20T9213QDCS</td>\n",
       "      <td>631720</td>\n",
       "      <td>60.0</td>\n",
       "      <td>200.0</td>\n",
       "    </tr>\n",
       "  </tbody>\n",
       "</table>\n",
       "</div>"
      ],
      "text/plain": [
       "       카테고리   회사명                     제품       가격   사용시간    흡입력\n",
       "0    차량용청소기   샤오미  차량용 청소기 무선 3세대 (해외구매)    52120   25.0  168.0\n",
       "1  핸디/스틱청소기  LG전자         코드제로 A9S A9700  1032630  120.0  200.0\n",
       "2  핸디/스틱청소기   샤오미                드리미 V10   146400   60.0  220.0\n",
       "3  핸디/스틱청소기  삼성전자         제트 VS15R8500BF   385200   40.0  150.0\n",
       "4  핸디/스틱청소기  삼성전자       제트 VS20T9213QDCS   631720   60.0  200.0"
      ]
     },
     "execution_count": 31,
     "metadata": {},
     "output_type": "execute_result"
    }
   ],
   "source": [
    "pd_data = pd.DataFrame()\n",
    "pd_data['카테고리'] = category_list\n",
    "pd_data['회사명'] = company_list\n",
    "pd_data['제품'] = product_list\n",
    "pd_data['가격'] = data['가격']\n",
    "pd_data['사용시간'] = new_use_time_list\n",
    "pd_data['흡입력'] = new_suction_list\n",
    "pd_data.head()"
   ]
  },
  {
   "cell_type": "code",
   "execution_count": 32,
   "metadata": {},
   "outputs": [
    {
     "name": "stdout",
     "output_type": "stream",
     "text": [
      "<class 'pandas.core.frame.DataFrame'>\n",
      "RangeIndex: 400 entries, 0 to 399\n",
      "Data columns (total 6 columns):\n",
      " #   Column  Non-Null Count  Dtype  \n",
      "---  ------  --------------  -----  \n",
      " 0   카테고리    400 non-null    object \n",
      " 1   회사명     400 non-null    object \n",
      " 2   제품      400 non-null    object \n",
      " 3   가격      400 non-null    int64  \n",
      " 4   사용시간    372 non-null    float64\n",
      " 5   흡입력     221 non-null    float64\n",
      "dtypes: float64(2), int64(1), object(3)\n",
      "memory usage: 18.9+ KB\n"
     ]
    }
   ],
   "source": [
    "pd_data.info()"
   ]
  },
  {
   "cell_type": "code",
   "execution_count": 33,
   "metadata": {},
   "outputs": [
    {
     "data": {
      "text/plain": [
       "핸디/스틱청소기    313\n",
       "물걸레청소기       38\n",
       "차량용청소기       28\n",
       "욕실청소기         9\n",
       "침구청소기         6\n",
       "업소용청소기        4\n",
       "진공청소기         2\n",
       "Name: 카테고리, dtype: int64"
      ]
     },
     "execution_count": 33,
     "metadata": {},
     "output_type": "execute_result"
    }
   ],
   "source": [
    "pd_data['카테고리'].value_counts()"
   ]
  },
  {
   "cell_type": "code",
   "execution_count": 34,
   "metadata": {},
   "outputs": [
    {
     "data": {
      "text/html": [
       "<div>\n",
       "<style scoped>\n",
       "    .dataframe tbody tr th:only-of-type {\n",
       "        vertical-align: middle;\n",
       "    }\n",
       "\n",
       "    .dataframe tbody tr th {\n",
       "        vertical-align: top;\n",
       "    }\n",
       "\n",
       "    .dataframe thead th {\n",
       "        text-align: right;\n",
       "    }\n",
       "</style>\n",
       "<table border=\"1\" class=\"dataframe\">\n",
       "  <thead>\n",
       "    <tr style=\"text-align: right;\">\n",
       "      <th></th>\n",
       "      <th>카테고리</th>\n",
       "      <th>회사명</th>\n",
       "      <th>제품</th>\n",
       "      <th>가격</th>\n",
       "      <th>사용시간</th>\n",
       "      <th>흡입력</th>\n",
       "    </tr>\n",
       "  </thead>\n",
       "  <tbody>\n",
       "    <tr>\n",
       "      <th>1</th>\n",
       "      <td>핸디/스틱청소기</td>\n",
       "      <td>LG전자</td>\n",
       "      <td>코드제로 A9S A9700</td>\n",
       "      <td>1032630</td>\n",
       "      <td>120.0</td>\n",
       "      <td>200.0</td>\n",
       "    </tr>\n",
       "    <tr>\n",
       "      <th>2</th>\n",
       "      <td>핸디/스틱청소기</td>\n",
       "      <td>샤오미</td>\n",
       "      <td>드리미 V10</td>\n",
       "      <td>146400</td>\n",
       "      <td>60.0</td>\n",
       "      <td>220.0</td>\n",
       "    </tr>\n",
       "    <tr>\n",
       "      <th>3</th>\n",
       "      <td>핸디/스틱청소기</td>\n",
       "      <td>삼성전자</td>\n",
       "      <td>제트 VS15R8500BF</td>\n",
       "      <td>385200</td>\n",
       "      <td>40.0</td>\n",
       "      <td>150.0</td>\n",
       "    </tr>\n",
       "    <tr>\n",
       "      <th>4</th>\n",
       "      <td>핸디/스틱청소기</td>\n",
       "      <td>삼성전자</td>\n",
       "      <td>제트 VS20T9213QDCS</td>\n",
       "      <td>631720</td>\n",
       "      <td>60.0</td>\n",
       "      <td>200.0</td>\n",
       "    </tr>\n",
       "    <tr>\n",
       "      <th>5</th>\n",
       "      <td>핸디/스틱청소기</td>\n",
       "      <td>샤오미</td>\n",
       "      <td>TROUVER TECH SOLO10</td>\n",
       "      <td>97500</td>\n",
       "      <td>48.0</td>\n",
       "      <td>180.0</td>\n",
       "    </tr>\n",
       "  </tbody>\n",
       "</table>\n",
       "</div>"
      ],
      "text/plain": [
       "       카테고리   회사명                   제품       가격   사용시간    흡입력\n",
       "1  핸디/스틱청소기  LG전자       코드제로 A9S A9700  1032630  120.0  200.0\n",
       "2  핸디/스틱청소기   샤오미              드리미 V10   146400   60.0  220.0\n",
       "3  핸디/스틱청소기  삼성전자       제트 VS15R8500BF   385200   40.0  150.0\n",
       "4  핸디/스틱청소기  삼성전자     제트 VS20T9213QDCS   631720   60.0  200.0\n",
       "5  핸디/스틱청소기   샤오미  TROUVER TECH SOLO10    97500   48.0  180.0"
      ]
     },
     "execution_count": 34,
     "metadata": {},
     "output_type": "execute_result"
    }
   ],
   "source": [
    "# 핸디/스틱청소기만 선택\n",
    "pd_data_final = pd_data[pd_data['카테고리'].isin(['핸디/스틱청소기'])]\n",
    "len(pd_data_final)\n",
    "pd_data_final.head()"
   ]
  },
  {
   "cell_type": "code",
   "execution_count": 35,
   "metadata": {},
   "outputs": [],
   "source": [
    "# 엑셀로 저장\n",
    "pd_data_final.to_excel('files/danawa_data_final.xlsx', index = False)"
   ]
  },
  {
   "cell_type": "markdown",
   "metadata": {},
   "source": [
    "# 6.4 무선청소기 모델별 비교 분석"
   ]
  },
  {
   "cell_type": "markdown",
   "metadata": {},
   "source": [
    "## 6.4.1 데이터 살펴보기"
   ]
  },
  {
   "cell_type": "code",
   "execution_count": 36,
   "metadata": {},
   "outputs": [
    {
     "data": {
      "text/html": [
       "<div>\n",
       "<style scoped>\n",
       "    .dataframe tbody tr th:only-of-type {\n",
       "        vertical-align: middle;\n",
       "    }\n",
       "\n",
       "    .dataframe tbody tr th {\n",
       "        vertical-align: top;\n",
       "    }\n",
       "\n",
       "    .dataframe thead th {\n",
       "        text-align: right;\n",
       "    }\n",
       "</style>\n",
       "<table border=\"1\" class=\"dataframe\">\n",
       "  <thead>\n",
       "    <tr style=\"text-align: right;\">\n",
       "      <th></th>\n",
       "      <th>카테고리</th>\n",
       "      <th>회사명</th>\n",
       "      <th>제품</th>\n",
       "      <th>가격</th>\n",
       "      <th>사용시간</th>\n",
       "      <th>흡입력</th>\n",
       "    </tr>\n",
       "  </thead>\n",
       "  <tbody>\n",
       "    <tr>\n",
       "      <th>0</th>\n",
       "      <td>핸디/스틱청소기</td>\n",
       "      <td>LG전자</td>\n",
       "      <td>코드제로 A9S A9700</td>\n",
       "      <td>1032630</td>\n",
       "      <td>120.0</td>\n",
       "      <td>200.0</td>\n",
       "    </tr>\n",
       "    <tr>\n",
       "      <th>1</th>\n",
       "      <td>핸디/스틱청소기</td>\n",
       "      <td>샤오미</td>\n",
       "      <td>드리미 V10</td>\n",
       "      <td>146400</td>\n",
       "      <td>60.0</td>\n",
       "      <td>220.0</td>\n",
       "    </tr>\n",
       "    <tr>\n",
       "      <th>2</th>\n",
       "      <td>핸디/스틱청소기</td>\n",
       "      <td>삼성전자</td>\n",
       "      <td>제트 VS15R8500BF</td>\n",
       "      <td>385200</td>\n",
       "      <td>40.0</td>\n",
       "      <td>150.0</td>\n",
       "    </tr>\n",
       "    <tr>\n",
       "      <th>3</th>\n",
       "      <td>핸디/스틱청소기</td>\n",
       "      <td>삼성전자</td>\n",
       "      <td>제트 VS20T9213QDCS</td>\n",
       "      <td>631720</td>\n",
       "      <td>60.0</td>\n",
       "      <td>200.0</td>\n",
       "    </tr>\n",
       "    <tr>\n",
       "      <th>4</th>\n",
       "      <td>핸디/스틱청소기</td>\n",
       "      <td>샤오미</td>\n",
       "      <td>TROUVER TECH SOLO10</td>\n",
       "      <td>97500</td>\n",
       "      <td>48.0</td>\n",
       "      <td>180.0</td>\n",
       "    </tr>\n",
       "  </tbody>\n",
       "</table>\n",
       "</div>"
      ],
      "text/plain": [
       "       카테고리   회사명                   제품       가격   사용시간    흡입력\n",
       "0  핸디/스틱청소기  LG전자       코드제로 A9S A9700  1032630  120.0  200.0\n",
       "1  핸디/스틱청소기   샤오미              드리미 V10   146400   60.0  220.0\n",
       "2  핸디/스틱청소기  삼성전자       제트 VS15R8500BF   385200   40.0  150.0\n",
       "3  핸디/스틱청소기  삼성전자     제트 VS20T9213QDCS   631720   60.0  200.0\n",
       "4  핸디/스틱청소기   샤오미  TROUVER TECH SOLO10    97500   48.0  180.0"
      ]
     },
     "execution_count": 36,
     "metadata": {},
     "output_type": "execute_result"
    }
   ],
   "source": [
    "import pandas as pd\n",
    "danawa_data = pd.read_excel('files/danawa_data_final.xlsx')\n",
    "danawa_data.head()"
   ]
  },
  {
   "cell_type": "code",
   "execution_count": 37,
   "metadata": {},
   "outputs": [
    {
     "data": {
      "text/html": [
       "<div>\n",
       "<style scoped>\n",
       "    .dataframe tbody tr th:only-of-type {\n",
       "        vertical-align: middle;\n",
       "    }\n",
       "\n",
       "    .dataframe tbody tr th {\n",
       "        vertical-align: top;\n",
       "    }\n",
       "\n",
       "    .dataframe thead th {\n",
       "        text-align: right;\n",
       "    }\n",
       "</style>\n",
       "<table border=\"1\" class=\"dataframe\">\n",
       "  <thead>\n",
       "    <tr style=\"text-align: right;\">\n",
       "      <th></th>\n",
       "      <th>카테고리</th>\n",
       "      <th>회사명</th>\n",
       "      <th>제품</th>\n",
       "      <th>가격</th>\n",
       "      <th>사용시간</th>\n",
       "      <th>흡입력</th>\n",
       "    </tr>\n",
       "  </thead>\n",
       "  <tbody>\n",
       "    <tr>\n",
       "      <th>216</th>\n",
       "      <td>핸디/스틱청소기</td>\n",
       "      <td>리하스</td>\n",
       "      <td>LH20</td>\n",
       "      <td>284050</td>\n",
       "      <td>120.0</td>\n",
       "      <td>330.0</td>\n",
       "    </tr>\n",
       "    <tr>\n",
       "      <th>185</th>\n",
       "      <td>핸디/스틱청소기</td>\n",
       "      <td>캐치웰</td>\n",
       "      <td>NEW F8</td>\n",
       "      <td>199000</td>\n",
       "      <td>25.0</td>\n",
       "      <td>290.0</td>\n",
       "    </tr>\n",
       "    <tr>\n",
       "      <th>202</th>\n",
       "      <td>핸디/스틱청소기</td>\n",
       "      <td>퍼피유</td>\n",
       "      <td>T12R</td>\n",
       "      <td>383950</td>\n",
       "      <td>60.0</td>\n",
       "      <td>290.0</td>\n",
       "    </tr>\n",
       "    <tr>\n",
       "      <th>152</th>\n",
       "      <td>핸디/스틱청소기</td>\n",
       "      <td>샤오미</td>\n",
       "      <td>드리미 V12</td>\n",
       "      <td>389000</td>\n",
       "      <td>90.0</td>\n",
       "      <td>270.0</td>\n",
       "    </tr>\n",
       "    <tr>\n",
       "      <th>44</th>\n",
       "      <td>핸디/스틱청소기</td>\n",
       "      <td>샤오미</td>\n",
       "      <td>SHUNZAO Z11 PRO</td>\n",
       "      <td>203410</td>\n",
       "      <td>60.0</td>\n",
       "      <td>260.0</td>\n",
       "    </tr>\n",
       "  </tbody>\n",
       "</table>\n",
       "</div>"
      ],
      "text/plain": [
       "         카테고리  회사명               제품      가격   사용시간    흡입력\n",
       "216  핸디/스틱청소기  리하스             LH20  284050  120.0  330.0\n",
       "185  핸디/스틱청소기  캐치웰           NEW F8  199000   25.0  290.0\n",
       "202  핸디/스틱청소기  퍼피유             T12R  383950   60.0  290.0\n",
       "152  핸디/스틱청소기  샤오미          드리미 V12  389000   90.0  270.0\n",
       "44   핸디/스틱청소기  샤오미  SHUNZAO Z11 PRO  203410   60.0  260.0"
      ]
     },
     "execution_count": 37,
     "metadata": {},
     "output_type": "execute_result"
    }
   ],
   "source": [
    "top_list = danawa_data.sort_values(['흡입력'], ascending = False)\n",
    "top_list.head()"
   ]
  },
  {
   "cell_type": "code",
   "execution_count": 38,
   "metadata": {},
   "outputs": [
    {
     "data": {
      "text/html": [
       "<div>\n",
       "<style scoped>\n",
       "    .dataframe tbody tr th:only-of-type {\n",
       "        vertical-align: middle;\n",
       "    }\n",
       "\n",
       "    .dataframe tbody tr th {\n",
       "        vertical-align: top;\n",
       "    }\n",
       "\n",
       "    .dataframe thead th {\n",
       "        text-align: right;\n",
       "    }\n",
       "</style>\n",
       "<table border=\"1\" class=\"dataframe\">\n",
       "  <thead>\n",
       "    <tr style=\"text-align: right;\">\n",
       "      <th></th>\n",
       "      <th>카테고리</th>\n",
       "      <th>회사명</th>\n",
       "      <th>제품</th>\n",
       "      <th>가격</th>\n",
       "      <th>사용시간</th>\n",
       "      <th>흡입력</th>\n",
       "    </tr>\n",
       "  </thead>\n",
       "  <tbody>\n",
       "    <tr>\n",
       "      <th>0</th>\n",
       "      <td>핸디/스틱청소기</td>\n",
       "      <td>LG전자</td>\n",
       "      <td>코드제로 A9S A9700</td>\n",
       "      <td>1032630</td>\n",
       "      <td>120.0</td>\n",
       "      <td>200.0</td>\n",
       "    </tr>\n",
       "    <tr>\n",
       "      <th>56</th>\n",
       "      <td>핸디/스틱청소기</td>\n",
       "      <td>LG전자</td>\n",
       "      <td>코드제로 A9S 펫 A9700</td>\n",
       "      <td>1095120</td>\n",
       "      <td>120.0</td>\n",
       "      <td>200.0</td>\n",
       "    </tr>\n",
       "    <tr>\n",
       "      <th>35</th>\n",
       "      <td>핸디/스틱청소기</td>\n",
       "      <td>삼성전자</td>\n",
       "      <td>제트 VS20T9279S6CS</td>\n",
       "      <td>854950</td>\n",
       "      <td>120.0</td>\n",
       "      <td>200.0</td>\n",
       "    </tr>\n",
       "    <tr>\n",
       "      <th>144</th>\n",
       "      <td>핸디/스틱청소기</td>\n",
       "      <td>삼성전자</td>\n",
       "      <td>제트 VS20T9257SD</td>\n",
       "      <td>687250</td>\n",
       "      <td>120.0</td>\n",
       "      <td>200.0</td>\n",
       "    </tr>\n",
       "    <tr>\n",
       "      <th>190</th>\n",
       "      <td>핸디/스틱청소기</td>\n",
       "      <td>삼성전자</td>\n",
       "      <td>제트 VS20R9078S2CS</td>\n",
       "      <td>821370</td>\n",
       "      <td>120.0</td>\n",
       "      <td>200.0</td>\n",
       "    </tr>\n",
       "  </tbody>\n",
       "</table>\n",
       "</div>"
      ],
      "text/plain": [
       "         카테고리   회사명                제품       가격   사용시간    흡입력\n",
       "0    핸디/스틱청소기  LG전자    코드제로 A9S A9700  1032630  120.0  200.0\n",
       "56   핸디/스틱청소기  LG전자  코드제로 A9S 펫 A9700  1095120  120.0  200.0\n",
       "35   핸디/스틱청소기  삼성전자  제트 VS20T9279S6CS   854950  120.0  200.0\n",
       "144  핸디/스틱청소기  삼성전자    제트 VS20T9257SD   687250  120.0  200.0\n",
       "190  핸디/스틱청소기  삼성전자  제트 VS20R9078S2CS   821370  120.0  200.0"
      ]
     },
     "execution_count": 38,
     "metadata": {},
     "output_type": "execute_result"
    }
   ],
   "source": [
    "top_list = danawa_data.sort_values(['사용시간'], ascending = False)\n",
    "top_list.head()"
   ]
  },
  {
   "cell_type": "code",
   "execution_count": 102,
   "metadata": {},
   "outputs": [],
   "source": []
  },
  {
   "cell_type": "code",
   "execution_count": 39,
   "metadata": {},
   "outputs": [
    {
     "data": {
      "text/html": [
       "<div>\n",
       "<style scoped>\n",
       "    .dataframe tbody tr th:only-of-type {\n",
       "        vertical-align: middle;\n",
       "    }\n",
       "\n",
       "    .dataframe tbody tr th {\n",
       "        vertical-align: top;\n",
       "    }\n",
       "\n",
       "    .dataframe thead th {\n",
       "        text-align: right;\n",
       "    }\n",
       "</style>\n",
       "<table border=\"1\" class=\"dataframe\">\n",
       "  <thead>\n",
       "    <tr style=\"text-align: right;\">\n",
       "      <th></th>\n",
       "      <th>카테고리</th>\n",
       "      <th>회사명</th>\n",
       "      <th>제품</th>\n",
       "      <th>가격</th>\n",
       "      <th>사용시간</th>\n",
       "      <th>흡입력</th>\n",
       "    </tr>\n",
       "  </thead>\n",
       "  <tbody>\n",
       "    <tr>\n",
       "      <th>216</th>\n",
       "      <td>핸디/스틱청소기</td>\n",
       "      <td>리하스</td>\n",
       "      <td>LH20</td>\n",
       "      <td>284050</td>\n",
       "      <td>120.0</td>\n",
       "      <td>330.0</td>\n",
       "    </tr>\n",
       "    <tr>\n",
       "      <th>0</th>\n",
       "      <td>핸디/스틱청소기</td>\n",
       "      <td>LG전자</td>\n",
       "      <td>코드제로 A9S A9700</td>\n",
       "      <td>1032630</td>\n",
       "      <td>120.0</td>\n",
       "      <td>200.0</td>\n",
       "    </tr>\n",
       "    <tr>\n",
       "      <th>6</th>\n",
       "      <td>핸디/스틱청소기</td>\n",
       "      <td>삼성전자</td>\n",
       "      <td>제트 VS20T9258SDCS</td>\n",
       "      <td>899000</td>\n",
       "      <td>120.0</td>\n",
       "      <td>200.0</td>\n",
       "    </tr>\n",
       "    <tr>\n",
       "      <th>7</th>\n",
       "      <td>핸디/스틱청소기</td>\n",
       "      <td>LG전자</td>\n",
       "      <td>코드제로 A9S A9570</td>\n",
       "      <td>980950</td>\n",
       "      <td>120.0</td>\n",
       "      <td>200.0</td>\n",
       "    </tr>\n",
       "    <tr>\n",
       "      <th>14</th>\n",
       "      <td>핸디/스틱청소기</td>\n",
       "      <td>삼성전자</td>\n",
       "      <td>제트 VS20R9078S2</td>\n",
       "      <td>628280</td>\n",
       "      <td>120.0</td>\n",
       "      <td>200.0</td>\n",
       "    </tr>\n",
       "  </tbody>\n",
       "</table>\n",
       "</div>"
      ],
      "text/plain": [
       "         카테고리   회사명                제품       가격   사용시간    흡입력\n",
       "216  핸디/스틱청소기   리하스              LH20   284050  120.0  330.0\n",
       "0    핸디/스틱청소기  LG전자    코드제로 A9S A9700  1032630  120.0  200.0\n",
       "6    핸디/스틱청소기  삼성전자  제트 VS20T9258SDCS   899000  120.0  200.0\n",
       "7    핸디/스틱청소기  LG전자    코드제로 A9S A9570   980950  120.0  200.0\n",
       "14   핸디/스틱청소기  삼성전자    제트 VS20R9078S2   628280  120.0  200.0"
      ]
     },
     "execution_count": 39,
     "metadata": {},
     "output_type": "execute_result"
    }
   ],
   "source": [
    "# 사용시간을 우선순위로 두고, 같은 값일 경우 흡입력으로 우선순위를 매긴다.\n",
    "top_list = danawa_data.sort_values([\"사용시간\",\"흡입력\"], ascending = False)\n",
    "top_list.head()"
   ]
  },
  {
   "cell_type": "markdown",
   "metadata": {},
   "source": [
    "## 6.4.2 가성비 좋은 제품 찾아보기"
   ]
  },
  {
   "cell_type": "code",
   "execution_count": 40,
   "metadata": {},
   "outputs": [
    {
     "name": "stdout",
     "output_type": "stream",
     "text": [
      "가격 평균값 375835.69009584666\n",
      "흡입력 평균값 162.83937823834196\n",
      "사용시간 평균값 48.0271186440678\n"
     ]
    }
   ],
   "source": [
    "# 가격, 사용시간, 흡입력 평균값\n",
    "price_mean_value = danawa_data['가격'].mean()\n",
    "suction_mean_value = danawa_data['흡입력'].mean()\n",
    "use_time_mean_value = danawa_data['사용시간'].mean()\n",
    "print(\"가격 평균값\", price_mean_value)\n",
    "print(\"흡입력 평균값\", suction_mean_value)\n",
    "print(\"사용시간 평균값\", use_time_mean_value)"
   ]
  },
  {
   "cell_type": "code",
   "execution_count": 41,
   "metadata": {},
   "outputs": [
    {
     "data": {
      "text/html": [
       "<div>\n",
       "<style scoped>\n",
       "    .dataframe tbody tr th:only-of-type {\n",
       "        vertical-align: middle;\n",
       "    }\n",
       "\n",
       "    .dataframe tbody tr th {\n",
       "        vertical-align: top;\n",
       "    }\n",
       "\n",
       "    .dataframe thead th {\n",
       "        text-align: right;\n",
       "    }\n",
       "</style>\n",
       "<table border=\"1\" class=\"dataframe\">\n",
       "  <thead>\n",
       "    <tr style=\"text-align: right;\">\n",
       "      <th></th>\n",
       "      <th>카테고리</th>\n",
       "      <th>회사명</th>\n",
       "      <th>제품</th>\n",
       "      <th>가격</th>\n",
       "      <th>사용시간</th>\n",
       "      <th>흡입력</th>\n",
       "    </tr>\n",
       "  </thead>\n",
       "  <tbody>\n",
       "    <tr>\n",
       "      <th>1</th>\n",
       "      <td>핸디/스틱청소기</td>\n",
       "      <td>샤오미</td>\n",
       "      <td>드리미 V10</td>\n",
       "      <td>146400</td>\n",
       "      <td>60.0</td>\n",
       "      <td>220.0</td>\n",
       "    </tr>\n",
       "    <tr>\n",
       "      <th>17</th>\n",
       "      <td>핸디/스틱청소기</td>\n",
       "      <td>샤오미</td>\n",
       "      <td>SHUNZAO Z11</td>\n",
       "      <td>0</td>\n",
       "      <td>60.0</td>\n",
       "      <td>260.0</td>\n",
       "    </tr>\n",
       "    <tr>\n",
       "      <th>19</th>\n",
       "      <td>핸디/스틱청소기</td>\n",
       "      <td>샤오미</td>\n",
       "      <td>드리미 V11</td>\n",
       "      <td>262990</td>\n",
       "      <td>90.0</td>\n",
       "      <td>250.0</td>\n",
       "    </tr>\n",
       "    <tr>\n",
       "      <th>37</th>\n",
       "      <td>핸디/스틱청소기</td>\n",
       "      <td>샤오미</td>\n",
       "      <td>드리미 V9</td>\n",
       "      <td>286080</td>\n",
       "      <td>60.0</td>\n",
       "      <td>200.0</td>\n",
       "    </tr>\n",
       "    <tr>\n",
       "      <th>44</th>\n",
       "      <td>핸디/스틱청소기</td>\n",
       "      <td>샤오미</td>\n",
       "      <td>SHUNZAO Z11 PRO</td>\n",
       "      <td>203410</td>\n",
       "      <td>60.0</td>\n",
       "      <td>260.0</td>\n",
       "    </tr>\n",
       "    <tr>\n",
       "      <th>45</th>\n",
       "      <td>핸디/스틱청소기</td>\n",
       "      <td>델로라</td>\n",
       "      <td>V11 파워 300W</td>\n",
       "      <td>138950</td>\n",
       "      <td>70.0</td>\n",
       "      <td>220.0</td>\n",
       "    </tr>\n",
       "    <tr>\n",
       "      <th>58</th>\n",
       "      <td>핸디/스틱청소기</td>\n",
       "      <td>샤오미</td>\n",
       "      <td>드리미 V10P</td>\n",
       "      <td>237360</td>\n",
       "      <td>60.0</td>\n",
       "      <td>220.0</td>\n",
       "    </tr>\n",
       "    <tr>\n",
       "      <th>91</th>\n",
       "      <td>핸디/스틱청소기</td>\n",
       "      <td>샤오미</td>\n",
       "      <td>로이드미 제로</td>\n",
       "      <td>221040</td>\n",
       "      <td>60.0</td>\n",
       "      <td>220.0</td>\n",
       "    </tr>\n",
       "    <tr>\n",
       "      <th>129</th>\n",
       "      <td>핸디/스틱청소기</td>\n",
       "      <td>캐치웰</td>\n",
       "      <td>코드엑스</td>\n",
       "      <td>199000</td>\n",
       "      <td>60.0</td>\n",
       "      <td>220.0</td>\n",
       "    </tr>\n",
       "    <tr>\n",
       "      <th>131</th>\n",
       "      <td>핸디/스틱청소기</td>\n",
       "      <td>샤오미</td>\n",
       "      <td>드리미 V9P</td>\n",
       "      <td>173940</td>\n",
       "      <td>60.0</td>\n",
       "      <td>200.0</td>\n",
       "    </tr>\n",
       "    <tr>\n",
       "      <th>133</th>\n",
       "      <td>핸디/스틱청소기</td>\n",
       "      <td>원더스리빙</td>\n",
       "      <td>원더스 다이나킹 Z9</td>\n",
       "      <td>299000</td>\n",
       "      <td>65.0</td>\n",
       "      <td>220.0</td>\n",
       "    </tr>\n",
       "    <tr>\n",
       "      <th>134</th>\n",
       "      <td>핸디/스틱청소기</td>\n",
       "      <td>DIBEA</td>\n",
       "      <td>X20</td>\n",
       "      <td>239000</td>\n",
       "      <td>50.0</td>\n",
       "      <td>200.0</td>\n",
       "    </tr>\n",
       "    <tr>\n",
       "      <th>140</th>\n",
       "      <td>핸디/스틱청소기</td>\n",
       "      <td>DIBEA</td>\n",
       "      <td>F20 맥스</td>\n",
       "      <td>199000</td>\n",
       "      <td>50.0</td>\n",
       "      <td>250.0</td>\n",
       "    </tr>\n",
       "    <tr>\n",
       "      <th>167</th>\n",
       "      <td>핸디/스틱청소기</td>\n",
       "      <td>DIBEA</td>\n",
       "      <td>X30</td>\n",
       "      <td>199000</td>\n",
       "      <td>50.0</td>\n",
       "      <td>250.0</td>\n",
       "    </tr>\n",
       "    <tr>\n",
       "      <th>176</th>\n",
       "      <td>핸디/스틱청소기</td>\n",
       "      <td>DIBEA</td>\n",
       "      <td>PLA25</td>\n",
       "      <td>199000</td>\n",
       "      <td>50.0</td>\n",
       "      <td>250.0</td>\n",
       "    </tr>\n",
       "    <tr>\n",
       "      <th>187</th>\n",
       "      <td>핸디/스틱청소기</td>\n",
       "      <td>아이닉</td>\n",
       "      <td>i20</td>\n",
       "      <td>238000</td>\n",
       "      <td>50.0</td>\n",
       "      <td>250.0</td>\n",
       "    </tr>\n",
       "    <tr>\n",
       "      <th>188</th>\n",
       "      <td>핸디/스틱청소기</td>\n",
       "      <td>샤오미</td>\n",
       "      <td>VIOMI A9 V-HWVC12A</td>\n",
       "      <td>260930</td>\n",
       "      <td>60.0</td>\n",
       "      <td>230.0</td>\n",
       "    </tr>\n",
       "    <tr>\n",
       "      <th>216</th>\n",
       "      <td>핸디/스틱청소기</td>\n",
       "      <td>리하스</td>\n",
       "      <td>LH20</td>\n",
       "      <td>284050</td>\n",
       "      <td>120.0</td>\n",
       "      <td>330.0</td>\n",
       "    </tr>\n",
       "    <tr>\n",
       "      <th>243</th>\n",
       "      <td>핸디/스틱청소기</td>\n",
       "      <td>DIBEA</td>\n",
       "      <td>M500 퀀텀</td>\n",
       "      <td>239000</td>\n",
       "      <td>50.0</td>\n",
       "      <td>250.0</td>\n",
       "    </tr>\n",
       "    <tr>\n",
       "      <th>256</th>\n",
       "      <td>핸디/스틱청소기</td>\n",
       "      <td>샤오미</td>\n",
       "      <td>로이드미 넥스 XCQ06RM</td>\n",
       "      <td>357750</td>\n",
       "      <td>60.0</td>\n",
       "      <td>235.0</td>\n",
       "    </tr>\n",
       "    <tr>\n",
       "      <th>264</th>\n",
       "      <td>핸디/스틱청소기</td>\n",
       "      <td>캐치웰</td>\n",
       "      <td>CX11</td>\n",
       "      <td>169000</td>\n",
       "      <td>60.0</td>\n",
       "      <td>200.0</td>\n",
       "    </tr>\n",
       "    <tr>\n",
       "      <th>309</th>\n",
       "      <td>핸디/스틱청소기</td>\n",
       "      <td>에이스전자</td>\n",
       "      <td>에이스 K7</td>\n",
       "      <td>360310</td>\n",
       "      <td>70.0</td>\n",
       "      <td>200.0</td>\n",
       "    </tr>\n",
       "  </tbody>\n",
       "</table>\n",
       "</div>"
      ],
      "text/plain": [
       "         카테고리    회사명                  제품      가격   사용시간    흡입력\n",
       "1    핸디/스틱청소기    샤오미             드리미 V10  146400   60.0  220.0\n",
       "17   핸디/스틱청소기    샤오미         SHUNZAO Z11       0   60.0  260.0\n",
       "19   핸디/스틱청소기    샤오미             드리미 V11  262990   90.0  250.0\n",
       "37   핸디/스틱청소기    샤오미              드리미 V9  286080   60.0  200.0\n",
       "44   핸디/스틱청소기    샤오미     SHUNZAO Z11 PRO  203410   60.0  260.0\n",
       "45   핸디/스틱청소기    델로라         V11 파워 300W  138950   70.0  220.0\n",
       "58   핸디/스틱청소기    샤오미            드리미 V10P  237360   60.0  220.0\n",
       "91   핸디/스틱청소기    샤오미             로이드미 제로  221040   60.0  220.0\n",
       "129  핸디/스틱청소기    캐치웰                코드엑스  199000   60.0  220.0\n",
       "131  핸디/스틱청소기    샤오미             드리미 V9P  173940   60.0  200.0\n",
       "133  핸디/스틱청소기  원더스리빙         원더스 다이나킹 Z9  299000   65.0  220.0\n",
       "134  핸디/스틱청소기  DIBEA                 X20  239000   50.0  200.0\n",
       "140  핸디/스틱청소기  DIBEA              F20 맥스  199000   50.0  250.0\n",
       "167  핸디/스틱청소기  DIBEA                 X30  199000   50.0  250.0\n",
       "176  핸디/스틱청소기  DIBEA               PLA25  199000   50.0  250.0\n",
       "187  핸디/스틱청소기    아이닉                 i20  238000   50.0  250.0\n",
       "188  핸디/스틱청소기    샤오미  VIOMI A9 V-HWVC12A  260930   60.0  230.0\n",
       "216  핸디/스틱청소기    리하스                LH20  284050  120.0  330.0\n",
       "243  핸디/스틱청소기  DIBEA             M500 퀀텀  239000   50.0  250.0\n",
       "256  핸디/스틱청소기    샤오미     로이드미 넥스 XCQ06RM  357750   60.0  235.0\n",
       "264  핸디/스틱청소기    캐치웰                CX11  169000   60.0  200.0\n",
       "309  핸디/스틱청소기  에이스전자              에이스 K7  360310   70.0  200.0"
      ]
     },
     "execution_count": 41,
     "metadata": {},
     "output_type": "execute_result"
    }
   ],
   "source": [
    "# 가성비 좋은 제품 탐색\n",
    "condition_data = danawa_data [\n",
    "    (danawa_data['가격'] <= price_mean_value) & \n",
    "    (danawa_data['흡입력'] >= suction_mean_value) & \n",
    "    (danawa_data['사용시간'] >= use_time_mean_value)]\n",
    "condition_data"
   ]
  },
  {
   "cell_type": "markdown",
   "metadata": {},
   "source": [
    "## 6.4.3 데이터 시각화"
   ]
  },
  {
   "cell_type": "code",
   "execution_count": 42,
   "metadata": {},
   "outputs": [],
   "source": [
    "# 라이브러리 임포트 및 한글 글꼴 설정\n",
    "from matplotlib import font_manager, rc\n",
    "import matplotlib.pyplot as plt\n",
    "import seaborn as sns\n",
    "import platform \n",
    "# 그래프에서 한글 표기를 위한 글꼴 변경(윈도우, macOS에 대해 처리)\n",
    "font_path = ''\n",
    "if platform.system() == 'Windows': \n",
    "    font_path = 'c:/Windows/Fonts/malgun.ttf'\n",
    "    font_name = font_manager.FontProperties(fname = font_path).get_name()\n",
    "    rc('font', family = font_name)\n",
    "elif platform.system() == 'Darwin':\n",
    "    font_path = '/Users/$USER/Library/Fonts/AppleGothic.ttf'\n",
    "    rc('font', family = 'AppleGothic')\n",
    "else: \n",
    "    print('Check your OS system')\n",
    "    \n",
    "%matplotlib inline"
   ]
  },
  {
   "cell_type": "code",
   "execution_count": 43,
   "metadata": {},
   "outputs": [
    {
     "data": {
      "text/plain": [
       "188"
      ]
     },
     "execution_count": 43,
     "metadata": {},
     "output_type": "execute_result"
    }
   ],
   "source": [
    "# 결측값 없애기\n",
    "chart_data = danawa_data.dropna(axis = 0)\n",
    "len(chart_data)"
   ]
  },
  {
   "cell_type": "code",
   "execution_count": 44,
   "metadata": {},
   "outputs": [],
   "source": [
    "# 흡입력, 사용시간 최대, 최소\n",
    "suction_max_value = chart_data['흡입력'].max()\n",
    "suction_mean_value = chart_data['흡입력'].mean()\n",
    "use_time_max_value = chart_data['사용시간'].max()\n",
    "use_time_mean_value = chart_data['사용시간'].mean()"
   ]
  },
  {
   "cell_type": "code",
   "execution_count": 45,
   "metadata": {},
   "outputs": [
    {
     "data": {
      "image/png": "[encoded data removed]",
      "text/plain": [
       "<Figure size 1440x720 with 1 Axes>"
      ]
     },
     "metadata": {
      "needs_background": "light"
     },
     "output_type": "display_data"
    }
   ],
   "source": [
    "# 청소기 성능 시각화\n",
    "plt.figure(figsize=(20, 10))\n",
    "plt.title(\"무선 핸디/스틱청소기 차트\")\n",
    "sns.scatterplot(x = '흡입력', y = '사용시간', size = '가격', hue = chart_data['회사명'], \n",
    "             data = chart_data, sizes = (10, 1000), legend = False)\n",
    "plt.plot([0, suction_max_value], \n",
    "          [use_time_mean_value, use_time_mean_value], \n",
    "          'r--', \n",
    "          lw = 1 )\n",
    "plt.plot([suction_mean_value, suction_mean_value], \n",
    "          [0, use_time_max_value], \n",
    "          'r--', \n",
    "          lw = 1 )\n",
    "plt.show()"
   ]
  },
  {
   "cell_type": "markdown",
   "metadata": {},
   "source": [
    "## 6.4.4 인기 제품의 데이터 시각화"
   ]
  },
  {
   "cell_type": "code",
   "execution_count": 46,
   "metadata": {},
   "outputs": [
    {
     "data": {
      "text/plain": [
       "20"
      ]
     },
     "execution_count": 46,
     "metadata": {},
     "output_type": "execute_result"
    }
   ],
   "source": [
    "# 인기 제품 선택\n",
    "chart_data_selected = chart_data[:20]\n",
    "len(chart_data_selected)"
   ]
  },
  {
   "cell_type": "code",
   "execution_count": 47,
   "metadata": {},
   "outputs": [
    {
     "data": {
      "image/png": "[encoded data removed]",
      "text/plain": [
       "<Figure size 1440x720 with 1 Axes>"
      ]
     },
     "metadata": {
      "needs_background": "light"
     },
     "output_type": "display_data"
    }
   ],
   "source": [
    "# 예제 7-45 흡입력, 사용시간의 최댓값/최솟값 정리\n",
    "suction_max_value = chart_data_selected['흡입력'].max()\n",
    "suction_mean_value = chart_data_selected['흡입력'].mean()\n",
    "use_time_max_value = chart_data_selected['사용시간'].max()\n",
    "use_time_mean_value = chart_data_selected['사용시간'].mean()\n",
    "\n",
    "plt.figure(figsize=(20, 10))\n",
    "plt.title(\"무선 핸디/스틱청소기 TOP 20\")\n",
    "sns.scatterplot(x = '흡입력', \n",
    "                  y = '사용시간', \n",
    "                  size = '가격', \n",
    "                  hue = chart_data_selected['회사명'], \n",
    "                  data = chart_data_selected, sizes = (100, 2000),\n",
    "                  legend = False)\n",
    "plt.plot([60, suction_max_value], \n",
    "          [use_time_mean_value, use_time_mean_value], \n",
    "          'r--', \n",
    "          lw = 1 )\n",
    "plt.plot([suction_mean_value, suction_mean_value], \n",
    "          [20, use_time_max_value], \n",
    "          'r--', \n",
    "          lw = 1 )\n",
    "for index, row in chart_data_selected.iterrows():\n",
    "    x = row['흡입력']\n",
    "    y = row['사용시간']\n",
    "    s = row['제품'].split(' ')[0]\n",
    "    plt.text(x, y, s, size=20)\n",
    "plt.show()"
   ]
  },
  {
   "cell_type": "code",
   "execution_count": null,
   "metadata": {},
   "outputs": [],
   "source": []
  }
 ],
 "metadata": {
  "kernelspec": {
   "display_name": "Python 3",
   "language": "python",
   "name": "python3"
  },
  "language_info": {
   "codemirror_mode": {
    "name": "ipython",
    "version": 3
   },
   "file_extension": ".py",
   "mimetype": "text/x-python",
   "name": "python",
   "nbconvert_exporter": "python",
   "pygments_lexer": "ipython3",
   "version": "3.6.10"
  }
 },
 "nbformat": 4,
 "nbformat_minor": 4
}
