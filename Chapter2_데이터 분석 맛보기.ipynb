{
 "cells": [
  {
   "cell_type": "markdown",
   "metadata": {},
   "source": [
    "# 2.1 pandas 맛보기"
   ]
  },
  {
   "cell_type": "markdown",
   "metadata": {},
   "source": [
    "## 2.1.1 pandas란?\n",
    "- 테이블 형태(엑셀)의 데이터를 쉽게 다룰 수 있는 파이썬 라이브러리이다."
   ]
  },
  {
   "cell_type": "markdown",
   "metadata": {},
   "source": [
    "## 2.1.2 데이터 불러오기(read_excel)"
   ]
  },
  {
   "cell_type": "code",
   "execution_count": 1,
   "metadata": {},
   "outputs": [],
   "source": [
    "import pandas as pd"
   ]
  },
  {
   "cell_type": "code",
   "execution_count": 10,
   "metadata": {},
   "outputs": [
    {
     "data": {
      "text/html": [
       "<div>\n",
       "<style scoped>\n",
       "    .dataframe tbody tr th:only-of-type {\n",
       "        vertical-align: middle;\n",
       "    }\n",
       "\n",
       "    .dataframe tbody tr th {\n",
       "        vertical-align: top;\n",
       "    }\n",
       "\n",
       "    .dataframe thead th {\n",
       "        text-align: right;\n",
       "    }\n",
       "</style>\n",
       "<table border=\"1\" class=\"dataframe\">\n",
       "  <thead>\n",
       "    <tr style=\"text-align: right;\">\n",
       "      <th></th>\n",
       "      <th>국적코드</th>\n",
       "      <th>성별</th>\n",
       "      <th>입국객수</th>\n",
       "    </tr>\n",
       "  </thead>\n",
       "  <tbody>\n",
       "    <tr>\n",
       "      <th>0</th>\n",
       "      <td>A01</td>\n",
       "      <td>남성</td>\n",
       "      <td>106320</td>\n",
       "    </tr>\n",
       "    <tr>\n",
       "      <th>1</th>\n",
       "      <td>A01</td>\n",
       "      <td>여성</td>\n",
       "      <td>191436</td>\n",
       "    </tr>\n",
       "    <tr>\n",
       "      <th>2</th>\n",
       "      <td>A31</td>\n",
       "      <td>남성</td>\n",
       "      <td>319</td>\n",
       "    </tr>\n",
       "  </tbody>\n",
       "</table>\n",
       "</div>"
      ],
      "text/plain": [
       "  국적코드  성별    입국객수\n",
       "0  A01  남성  106320\n",
       "1  A01  여성  191436\n",
       "2  A31  남성     319"
      ]
     },
     "execution_count": 10,
     "metadata": {},
     "output_type": "execute_result"
    }
   ],
   "source": [
    "sample_1 = pd.read_excel('sample_1.xlsx', # 파일 경로\n",
    "                         header = 1, # 칼럼명 위치 # 인덱스 1은 두 번째 줄\n",
    "                         skipfooter = 2, # 마지막 로우에서 두 줄 생략\n",
    "                         usecols = 'A:C')# 사용할 칼럼\n",
    "\n",
    "sample_1.head(3) # 처음부터 3번째 로우까지 보여준다."
   ]
  },
  {
   "cell_type": "code",
   "execution_count": 12,
   "metadata": {},
   "outputs": [
    {
     "data": {
      "text/html": [
       "<div>\n",
       "<style scoped>\n",
       "    .dataframe tbody tr th:only-of-type {\n",
       "        vertical-align: middle;\n",
       "    }\n",
       "\n",
       "    .dataframe tbody tr th {\n",
       "        vertical-align: top;\n",
       "    }\n",
       "\n",
       "    .dataframe thead th {\n",
       "        text-align: right;\n",
       "    }\n",
       "</style>\n",
       "<table border=\"1\" class=\"dataframe\">\n",
       "  <thead>\n",
       "    <tr style=\"text-align: right;\">\n",
       "      <th></th>\n",
       "      <th>국적코드</th>\n",
       "      <th>성별</th>\n",
       "      <th>입국객수</th>\n",
       "    </tr>\n",
       "  </thead>\n",
       "  <tbody>\n",
       "    <tr>\n",
       "      <th>3</th>\n",
       "      <td>A31</td>\n",
       "      <td>여성</td>\n",
       "      <td>42</td>\n",
       "    </tr>\n",
       "    <tr>\n",
       "      <th>4</th>\n",
       "      <td>A18</td>\n",
       "      <td>남성</td>\n",
       "      <td>158912</td>\n",
       "    </tr>\n",
       "    <tr>\n",
       "      <th>5</th>\n",
       "      <td>A18</td>\n",
       "      <td>여성</td>\n",
       "      <td>232943</td>\n",
       "    </tr>\n",
       "  </tbody>\n",
       "</table>\n",
       "</div>"
      ],
      "text/plain": [
       "  국적코드  성별    입국객수\n",
       "3  A31  여성      42\n",
       "4  A18  남성  158912\n",
       "5  A18  여성  232943"
      ]
     },
     "execution_count": 12,
     "metadata": {},
     "output_type": "execute_result"
    }
   ],
   "source": [
    "sample_1.tail(3) # 마지막부터 3개의 로우까지 보여준다."
   ]
  },
  {
   "cell_type": "markdown",
   "metadata": {},
   "source": [
    "* 위의 head()와 tail()을 이용하여 정보를 제대로 받아왔는지 확인"
   ]
  },
  {
   "cell_type": "code",
   "execution_count": null,
   "metadata": {},
   "outputs": [],
   "source": []
  },
  {
   "cell_type": "markdown",
   "metadata": {},
   "source": [
    "* sample_1의 정보 확인"
   ]
  },
  {
   "cell_type": "code",
   "execution_count": 16,
   "metadata": {},
   "outputs": [
    {
     "name": "stdout",
     "output_type": "stream",
     "text": [
      "<class 'pandas.core.frame.DataFrame'>\n",
      "RangeIndex: 6 entries, 0 to 5\n",
      "Data columns (total 3 columns):\n",
      " #   Column  Non-Null Count  Dtype \n",
      "---  ------  --------------  ----- \n",
      " 0   국적코드    6 non-null      object\n",
      " 1   성별      6 non-null      object\n",
      " 2   입국객수    6 non-null      int64 \n",
      "dtypes: int64(1), object(2)\n",
      "memory usage: 272.0+ bytes\n"
     ]
    }
   ],
   "source": [
    "sample_1.info()"
   ]
  },
  {
   "cell_type": "markdown",
   "metadata": {},
   "source": [
    "* sample_1 데이터의 기초통계량 확인"
   ]
  },
  {
   "cell_type": "code",
   "execution_count": 18,
   "metadata": {},
   "outputs": [
    {
     "data": {
      "text/html": [
       "<div>\n",
       "<style scoped>\n",
       "    .dataframe tbody tr th:only-of-type {\n",
       "        vertical-align: middle;\n",
       "    }\n",
       "\n",
       "    .dataframe tbody tr th {\n",
       "        vertical-align: top;\n",
       "    }\n",
       "\n",
       "    .dataframe thead th {\n",
       "        text-align: right;\n",
       "    }\n",
       "</style>\n",
       "<table border=\"1\" class=\"dataframe\">\n",
       "  <thead>\n",
       "    <tr style=\"text-align: right;\">\n",
       "      <th></th>\n",
       "      <th>입국객수</th>\n",
       "    </tr>\n",
       "  </thead>\n",
       "  <tbody>\n",
       "    <tr>\n",
       "      <th>count</th>\n",
       "      <td>6.000000</td>\n",
       "    </tr>\n",
       "    <tr>\n",
       "      <th>mean</th>\n",
       "      <td>114995.333333</td>\n",
       "    </tr>\n",
       "    <tr>\n",
       "      <th>std</th>\n",
       "      <td>98105.752006</td>\n",
       "    </tr>\n",
       "    <tr>\n",
       "      <th>min</th>\n",
       "      <td>42.000000</td>\n",
       "    </tr>\n",
       "    <tr>\n",
       "      <th>25%</th>\n",
       "      <td>26819.250000</td>\n",
       "    </tr>\n",
       "    <tr>\n",
       "      <th>50%</th>\n",
       "      <td>132616.000000</td>\n",
       "    </tr>\n",
       "    <tr>\n",
       "      <th>75%</th>\n",
       "      <td>183305.000000</td>\n",
       "    </tr>\n",
       "    <tr>\n",
       "      <th>max</th>\n",
       "      <td>232943.000000</td>\n",
       "    </tr>\n",
       "  </tbody>\n",
       "</table>\n",
       "</div>"
      ],
      "text/plain": [
       "                입국객수\n",
       "count       6.000000\n",
       "mean   114995.333333\n",
       "std     98105.752006\n",
       "min        42.000000\n",
       "25%     26819.250000\n",
       "50%    132616.000000\n",
       "75%    183305.000000\n",
       "max    232943.000000"
      ]
     },
     "execution_count": 18,
     "metadata": {},
     "output_type": "execute_result"
    }
   ],
   "source": [
    "sample_1.describe() # 숫자 형 변수에 대한 여러 가지 통계량을 출력하는 함수"
   ]
  },
  {
   "cell_type": "markdown",
   "metadata": {},
   "source": [
    "## 2.1.3 데이터 선택 1) - 칼럼 기준"
   ]
  },
  {
   "cell_type": "code",
   "execution_count": 19,
   "metadata": {},
   "outputs": [],
   "source": [
    "# 한 개의 칼럼 선택"
   ]
  },
  {
   "cell_type": "code",
   "execution_count": 20,
   "metadata": {},
   "outputs": [
    {
     "data": {
      "text/plain": [
       "0    106320\n",
       "1    191436\n",
       "2       319\n",
       "3        42\n",
       "4    158912\n",
       "5    232943\n",
       "Name: 입국객수, dtype: int64"
      ]
     },
     "execution_count": 20,
     "metadata": {},
     "output_type": "execute_result"
    }
   ],
   "source": [
    "sample_1['입국객수']"
   ]
  },
  {
   "cell_type": "code",
   "execution_count": 21,
   "metadata": {},
   "outputs": [],
   "source": [
    "# 두 가지의 칼럼 선택"
   ]
  },
  {
   "cell_type": "code",
   "execution_count": 22,
   "metadata": {},
   "outputs": [
    {
     "data": {
      "text/html": [
       "<div>\n",
       "<style scoped>\n",
       "    .dataframe tbody tr th:only-of-type {\n",
       "        vertical-align: middle;\n",
       "    }\n",
       "\n",
       "    .dataframe tbody tr th {\n",
       "        vertical-align: top;\n",
       "    }\n",
       "\n",
       "    .dataframe thead th {\n",
       "        text-align: right;\n",
       "    }\n",
       "</style>\n",
       "<table border=\"1\" class=\"dataframe\">\n",
       "  <thead>\n",
       "    <tr style=\"text-align: right;\">\n",
       "      <th></th>\n",
       "      <th>국적코드</th>\n",
       "      <th>입국객수</th>\n",
       "    </tr>\n",
       "  </thead>\n",
       "  <tbody>\n",
       "    <tr>\n",
       "      <th>0</th>\n",
       "      <td>A01</td>\n",
       "      <td>106320</td>\n",
       "    </tr>\n",
       "    <tr>\n",
       "      <th>1</th>\n",
       "      <td>A01</td>\n",
       "      <td>191436</td>\n",
       "    </tr>\n",
       "    <tr>\n",
       "      <th>2</th>\n",
       "      <td>A31</td>\n",
       "      <td>319</td>\n",
       "    </tr>\n",
       "    <tr>\n",
       "      <th>3</th>\n",
       "      <td>A31</td>\n",
       "      <td>42</td>\n",
       "    </tr>\n",
       "    <tr>\n",
       "      <th>4</th>\n",
       "      <td>A18</td>\n",
       "      <td>158912</td>\n",
       "    </tr>\n",
       "    <tr>\n",
       "      <th>5</th>\n",
       "      <td>A18</td>\n",
       "      <td>232943</td>\n",
       "    </tr>\n",
       "  </tbody>\n",
       "</table>\n",
       "</div>"
      ],
      "text/plain": [
       "  국적코드    입국객수\n",
       "0  A01  106320\n",
       "1  A01  191436\n",
       "2  A31     319\n",
       "3  A31      42\n",
       "4  A18  158912\n",
       "5  A18  232943"
      ]
     },
     "execution_count": 22,
     "metadata": {},
     "output_type": "execute_result"
    }
   ],
   "source": [
    "sample_1[['국적코드', '입국객수']]"
   ]
  },
  {
   "cell_type": "code",
   "execution_count": 24,
   "metadata": {},
   "outputs": [],
   "source": [
    "# 칼럼 생성"
   ]
  },
  {
   "cell_type": "code",
   "execution_count": 25,
   "metadata": {},
   "outputs": [
    {
     "data": {
      "text/html": [
       "<div>\n",
       "<style scoped>\n",
       "    .dataframe tbody tr th:only-of-type {\n",
       "        vertical-align: middle;\n",
       "    }\n",
       "\n",
       "    .dataframe tbody tr th {\n",
       "        vertical-align: top;\n",
       "    }\n",
       "\n",
       "    .dataframe thead th {\n",
       "        text-align: right;\n",
       "    }\n",
       "</style>\n",
       "<table border=\"1\" class=\"dataframe\">\n",
       "  <thead>\n",
       "    <tr style=\"text-align: right;\">\n",
       "      <th></th>\n",
       "      <th>국적코드</th>\n",
       "      <th>성별</th>\n",
       "      <th>입국객수</th>\n",
       "      <th>기준년월</th>\n",
       "    </tr>\n",
       "  </thead>\n",
       "  <tbody>\n",
       "    <tr>\n",
       "      <th>0</th>\n",
       "      <td>A01</td>\n",
       "      <td>남성</td>\n",
       "      <td>106320</td>\n",
       "      <td>2019-11</td>\n",
       "    </tr>\n",
       "    <tr>\n",
       "      <th>1</th>\n",
       "      <td>A01</td>\n",
       "      <td>여성</td>\n",
       "      <td>191436</td>\n",
       "      <td>2019-11</td>\n",
       "    </tr>\n",
       "    <tr>\n",
       "      <th>2</th>\n",
       "      <td>A31</td>\n",
       "      <td>남성</td>\n",
       "      <td>319</td>\n",
       "      <td>2019-11</td>\n",
       "    </tr>\n",
       "    <tr>\n",
       "      <th>3</th>\n",
       "      <td>A31</td>\n",
       "      <td>여성</td>\n",
       "      <td>42</td>\n",
       "      <td>2019-11</td>\n",
       "    </tr>\n",
       "    <tr>\n",
       "      <th>4</th>\n",
       "      <td>A18</td>\n",
       "      <td>남성</td>\n",
       "      <td>158912</td>\n",
       "      <td>2019-11</td>\n",
       "    </tr>\n",
       "    <tr>\n",
       "      <th>5</th>\n",
       "      <td>A18</td>\n",
       "      <td>여성</td>\n",
       "      <td>232943</td>\n",
       "      <td>2019-11</td>\n",
       "    </tr>\n",
       "  </tbody>\n",
       "</table>\n",
       "</div>"
      ],
      "text/plain": [
       "  국적코드  성별    입국객수     기준년월\n",
       "0  A01  남성  106320  2019-11\n",
       "1  A01  여성  191436  2019-11\n",
       "2  A31  남성     319  2019-11\n",
       "3  A31  여성      42  2019-11\n",
       "4  A18  남성  158912  2019-11\n",
       "5  A18  여성  232943  2019-11"
      ]
     },
     "execution_count": 25,
     "metadata": {},
     "output_type": "execute_result"
    }
   ],
   "source": [
    "sample_1['기준년월'] = '2019-11'\n",
    "sample_1"
   ]
  },
  {
   "cell_type": "markdown",
   "metadata": {},
   "source": [
    "## * 데이터 선택 2) - 로우 기준"
   ]
  },
  {
   "cell_type": "code",
   "execution_count": 26,
   "metadata": {},
   "outputs": [],
   "source": [
    "# 특정 조건에 맞는 데이터를 필터링한 결과를 찾을 때"
   ]
  },
  {
   "cell_type": "code",
   "execution_count": 28,
   "metadata": {},
   "outputs": [
    {
     "data": {
      "text/plain": [
       "0     True\n",
       "1    False\n",
       "2     True\n",
       "3    False\n",
       "4     True\n",
       "5    False\n",
       "Name: 성별, dtype: bool"
      ]
     },
     "execution_count": 28,
     "metadata": {},
     "output_type": "execute_result"
    }
   ],
   "source": [
    "condition = (sample_1['성별'] == '남성')\n",
    "condition"
   ]
  },
  {
   "cell_type": "code",
   "execution_count": 29,
   "metadata": {},
   "outputs": [],
   "source": [
    "# sample_1에 condition적용"
   ]
  },
  {
   "cell_type": "code",
   "execution_count": 30,
   "metadata": {},
   "outputs": [
    {
     "data": {
      "text/html": [
       "<div>\n",
       "<style scoped>\n",
       "    .dataframe tbody tr th:only-of-type {\n",
       "        vertical-align: middle;\n",
       "    }\n",
       "\n",
       "    .dataframe tbody tr th {\n",
       "        vertical-align: top;\n",
       "    }\n",
       "\n",
       "    .dataframe thead th {\n",
       "        text-align: right;\n",
       "    }\n",
       "</style>\n",
       "<table border=\"1\" class=\"dataframe\">\n",
       "  <thead>\n",
       "    <tr style=\"text-align: right;\">\n",
       "      <th></th>\n",
       "      <th>국적코드</th>\n",
       "      <th>성별</th>\n",
       "      <th>입국객수</th>\n",
       "      <th>기준년월</th>\n",
       "    </tr>\n",
       "  </thead>\n",
       "  <tbody>\n",
       "    <tr>\n",
       "      <th>0</th>\n",
       "      <td>A01</td>\n",
       "      <td>남성</td>\n",
       "      <td>106320</td>\n",
       "      <td>2019-11</td>\n",
       "    </tr>\n",
       "    <tr>\n",
       "      <th>2</th>\n",
       "      <td>A31</td>\n",
       "      <td>남성</td>\n",
       "      <td>319</td>\n",
       "      <td>2019-11</td>\n",
       "    </tr>\n",
       "    <tr>\n",
       "      <th>4</th>\n",
       "      <td>A18</td>\n",
       "      <td>남성</td>\n",
       "      <td>158912</td>\n",
       "      <td>2019-11</td>\n",
       "    </tr>\n",
       "  </tbody>\n",
       "</table>\n",
       "</div>"
      ],
      "text/plain": [
       "  국적코드  성별    입국객수     기준년월\n",
       "0  A01  남성  106320  2019-11\n",
       "2  A31  남성     319  2019-11\n",
       "4  A18  남성  158912  2019-11"
      ]
     },
     "execution_count": 30,
     "metadata": {},
     "output_type": "execute_result"
    }
   ],
   "source": [
    "sample_1[condition]"
   ]
  },
  {
   "cell_type": "code",
   "execution_count": 31,
   "metadata": {},
   "outputs": [
    {
     "data": {
      "text/plain": [
       "0    False\n",
       "1     True\n",
       "2    False\n",
       "3    False\n",
       "4     True\n",
       "5     True\n",
       "Name: 입국객수, dtype: bool"
      ]
     },
     "execution_count": 31,
     "metadata": {},
     "output_type": "execute_result"
    }
   ],
   "source": [
    "condition = sample_1['입국객수'] >= 150000\n",
    "condition"
   ]
  },
  {
   "cell_type": "code",
   "execution_count": 42,
   "metadata": {},
   "outputs": [
    {
     "data": {
      "text/html": [
       "<div>\n",
       "<style scoped>\n",
       "    .dataframe tbody tr th:only-of-type {\n",
       "        vertical-align: middle;\n",
       "    }\n",
       "\n",
       "    .dataframe tbody tr th {\n",
       "        vertical-align: top;\n",
       "    }\n",
       "\n",
       "    .dataframe thead th {\n",
       "        text-align: right;\n",
       "    }\n",
       "</style>\n",
       "<table border=\"1\" class=\"dataframe\">\n",
       "  <thead>\n",
       "    <tr style=\"text-align: right;\">\n",
       "      <th></th>\n",
       "      <th>국적코드</th>\n",
       "      <th>성별</th>\n",
       "      <th>입국객수</th>\n",
       "      <th>기준년월</th>\n",
       "    </tr>\n",
       "  </thead>\n",
       "  <tbody>\n",
       "    <tr>\n",
       "      <th>0</th>\n",
       "      <td>A01</td>\n",
       "      <td>남성</td>\n",
       "      <td>106320</td>\n",
       "      <td>2019-11</td>\n",
       "    </tr>\n",
       "    <tr>\n",
       "      <th>1</th>\n",
       "      <td>A01</td>\n",
       "      <td>여성</td>\n",
       "      <td>191436</td>\n",
       "      <td>2019-11</td>\n",
       "    </tr>\n",
       "    <tr>\n",
       "      <th>2</th>\n",
       "      <td>A31</td>\n",
       "      <td>남성</td>\n",
       "      <td>319</td>\n",
       "      <td>2019-11</td>\n",
       "    </tr>\n",
       "    <tr>\n",
       "      <th>4</th>\n",
       "      <td>A18</td>\n",
       "      <td>남성</td>\n",
       "      <td>158912</td>\n",
       "      <td>2019-11</td>\n",
       "    </tr>\n",
       "    <tr>\n",
       "      <th>5</th>\n",
       "      <td>A18</td>\n",
       "      <td>여성</td>\n",
       "      <td>232943</td>\n",
       "      <td>2019-11</td>\n",
       "    </tr>\n",
       "  </tbody>\n",
       "</table>\n",
       "</div>"
      ],
      "text/plain": [
       "  국적코드  성별    입국객수     기준년월\n",
       "0  A01  남성  106320  2019-11\n",
       "1  A01  여성  191436  2019-11\n",
       "2  A31  남성     319  2019-11\n",
       "4  A18  남성  158912  2019-11\n",
       "5  A18  여성  232943  2019-11"
      ]
     },
     "execution_count": 42,
     "metadata": {},
     "output_type": "execute_result"
    }
   ],
   "source": [
    "sample_1[condition]"
   ]
  },
  {
   "cell_type": "code",
   "execution_count": null,
   "metadata": {},
   "outputs": [],
   "source": []
  },
  {
   "cell_type": "markdown",
   "metadata": {},
   "source": [
    "* &, | 연산자 사용하기"
   ]
  },
  {
   "cell_type": "code",
   "execution_count": 37,
   "metadata": {},
   "outputs": [
    {
     "data": {
      "text/plain": [
       "0    False\n",
       "1    False\n",
       "2    False\n",
       "3    False\n",
       "4     True\n",
       "5    False\n",
       "dtype: bool"
      ]
     },
     "execution_count": 37,
     "metadata": {},
     "output_type": "execute_result"
    }
   ],
   "source": [
    "condition = (sample_1['성별'] == '남성') & (sample_1['입국객수'] >= 150000)\n",
    "condition"
   ]
  },
  {
   "cell_type": "code",
   "execution_count": 38,
   "metadata": {},
   "outputs": [
    {
     "data": {
      "text/html": [
       "<div>\n",
       "<style scoped>\n",
       "    .dataframe tbody tr th:only-of-type {\n",
       "        vertical-align: middle;\n",
       "    }\n",
       "\n",
       "    .dataframe tbody tr th {\n",
       "        vertical-align: top;\n",
       "    }\n",
       "\n",
       "    .dataframe thead th {\n",
       "        text-align: right;\n",
       "    }\n",
       "</style>\n",
       "<table border=\"1\" class=\"dataframe\">\n",
       "  <thead>\n",
       "    <tr style=\"text-align: right;\">\n",
       "      <th></th>\n",
       "      <th>국적코드</th>\n",
       "      <th>성별</th>\n",
       "      <th>입국객수</th>\n",
       "      <th>기준년월</th>\n",
       "    </tr>\n",
       "  </thead>\n",
       "  <tbody>\n",
       "    <tr>\n",
       "      <th>4</th>\n",
       "      <td>A18</td>\n",
       "      <td>남성</td>\n",
       "      <td>158912</td>\n",
       "      <td>2019-11</td>\n",
       "    </tr>\n",
       "  </tbody>\n",
       "</table>\n",
       "</div>"
      ],
      "text/plain": [
       "  국적코드  성별    입국객수     기준년월\n",
       "4  A18  남성  158912  2019-11"
      ]
     },
     "execution_count": 38,
     "metadata": {},
     "output_type": "execute_result"
    }
   ],
   "source": [
    "sample_1[condition]"
   ]
  },
  {
   "cell_type": "code",
   "execution_count": 39,
   "metadata": {},
   "outputs": [],
   "source": [
    "# 가독성 높게 표현하기"
   ]
  },
  {
   "cell_type": "code",
   "execution_count": 40,
   "metadata": {},
   "outputs": [
    {
     "data": {
      "text/plain": [
       "0    False\n",
       "1    False\n",
       "2    False\n",
       "3    False\n",
       "4     True\n",
       "5    False\n",
       "dtype: bool"
      ]
     },
     "execution_count": 40,
     "metadata": {},
     "output_type": "execute_result"
    }
   ],
   "source": [
    "condition = (sample_1['성별'] == '남성') \\\n",
    "& (sample_1['입국객수'] >= 150000)\n",
    "condition"
   ]
  },
  {
   "cell_type": "code",
   "execution_count": 41,
   "metadata": {},
   "outputs": [
    {
     "data": {
      "text/plain": [
       "0     True\n",
       "1     True\n",
       "2     True\n",
       "3    False\n",
       "4     True\n",
       "5     True\n",
       "dtype: bool"
      ]
     },
     "execution_count": 41,
     "metadata": {},
     "output_type": "execute_result"
    }
   ],
   "source": [
    "condition = (sample_1['성별'] == '남성') \\\n",
    "| (sample_1['입국객수'] >= 150000)\n",
    "condition"
   ]
  },
  {
   "cell_type": "markdown",
   "metadata": {},
   "source": [
    "* 하나의 컬럼에 대해 여러 조건으로 필터링하기"
   ]
  },
  {
   "cell_type": "code",
   "execution_count": 43,
   "metadata": {},
   "outputs": [
    {
     "data": {
      "text/plain": [
       "0     True\n",
       "1     True\n",
       "2    False\n",
       "3    False\n",
       "4     True\n",
       "5     True\n",
       "Name: 국적코드, dtype: bool"
      ]
     },
     "execution_count": 43,
     "metadata": {},
     "output_type": "execute_result"
    }
   ],
   "source": [
    "condition = sample_1['국적코드'].isin(['A01', 'A18'])\n",
    "condition"
   ]
  },
  {
   "cell_type": "code",
   "execution_count": 44,
   "metadata": {},
   "outputs": [
    {
     "data": {
      "text/html": [
       "<div>\n",
       "<style scoped>\n",
       "    .dataframe tbody tr th:only-of-type {\n",
       "        vertical-align: middle;\n",
       "    }\n",
       "\n",
       "    .dataframe tbody tr th {\n",
       "        vertical-align: top;\n",
       "    }\n",
       "\n",
       "    .dataframe thead th {\n",
       "        text-align: right;\n",
       "    }\n",
       "</style>\n",
       "<table border=\"1\" class=\"dataframe\">\n",
       "  <thead>\n",
       "    <tr style=\"text-align: right;\">\n",
       "      <th></th>\n",
       "      <th>국적코드</th>\n",
       "      <th>성별</th>\n",
       "      <th>입국객수</th>\n",
       "      <th>기준년월</th>\n",
       "    </tr>\n",
       "  </thead>\n",
       "  <tbody>\n",
       "    <tr>\n",
       "      <th>0</th>\n",
       "      <td>A01</td>\n",
       "      <td>남성</td>\n",
       "      <td>106320</td>\n",
       "      <td>2019-11</td>\n",
       "    </tr>\n",
       "    <tr>\n",
       "      <th>1</th>\n",
       "      <td>A01</td>\n",
       "      <td>여성</td>\n",
       "      <td>191436</td>\n",
       "      <td>2019-11</td>\n",
       "    </tr>\n",
       "    <tr>\n",
       "      <th>4</th>\n",
       "      <td>A18</td>\n",
       "      <td>남성</td>\n",
       "      <td>158912</td>\n",
       "      <td>2019-11</td>\n",
       "    </tr>\n",
       "    <tr>\n",
       "      <th>5</th>\n",
       "      <td>A18</td>\n",
       "      <td>여성</td>\n",
       "      <td>232943</td>\n",
       "      <td>2019-11</td>\n",
       "    </tr>\n",
       "  </tbody>\n",
       "</table>\n",
       "</div>"
      ],
      "text/plain": [
       "  국적코드  성별    입국객수     기준년월\n",
       "0  A01  남성  106320  2019-11\n",
       "1  A01  여성  191436  2019-11\n",
       "4  A18  남성  158912  2019-11\n",
       "5  A18  여성  232943  2019-11"
      ]
     },
     "execution_count": 44,
     "metadata": {},
     "output_type": "execute_result"
    }
   ],
   "source": [
    "sample_1[condition]"
   ]
  },
  {
   "cell_type": "markdown",
   "metadata": {},
   "source": [
    "* 필터링 값이 False인 경우만 출력"
   ]
  },
  {
   "cell_type": "code",
   "execution_count": 45,
   "metadata": {},
   "outputs": [
    {
     "data": {
      "text/html": [
       "<div>\n",
       "<style scoped>\n",
       "    .dataframe tbody tr th:only-of-type {\n",
       "        vertical-align: middle;\n",
       "    }\n",
       "\n",
       "    .dataframe tbody tr th {\n",
       "        vertical-align: top;\n",
       "    }\n",
       "\n",
       "    .dataframe thead th {\n",
       "        text-align: right;\n",
       "    }\n",
       "</style>\n",
       "<table border=\"1\" class=\"dataframe\">\n",
       "  <thead>\n",
       "    <tr style=\"text-align: right;\">\n",
       "      <th></th>\n",
       "      <th>국적코드</th>\n",
       "      <th>성별</th>\n",
       "      <th>입국객수</th>\n",
       "      <th>기준년월</th>\n",
       "    </tr>\n",
       "  </thead>\n",
       "  <tbody>\n",
       "    <tr>\n",
       "      <th>2</th>\n",
       "      <td>A31</td>\n",
       "      <td>남성</td>\n",
       "      <td>319</td>\n",
       "      <td>2019-11</td>\n",
       "    </tr>\n",
       "    <tr>\n",
       "      <th>3</th>\n",
       "      <td>A31</td>\n",
       "      <td>여성</td>\n",
       "      <td>42</td>\n",
       "      <td>2019-11</td>\n",
       "    </tr>\n",
       "  </tbody>\n",
       "</table>\n",
       "</div>"
      ],
      "text/plain": [
       "  국적코드  성별  입국객수     기준년월\n",
       "2  A31  남성   319  2019-11\n",
       "3  A31  여성    42  2019-11"
      ]
     },
     "execution_count": 45,
     "metadata": {},
     "output_type": "execute_result"
    }
   ],
   "source": [
    "sample_1[condition == False]"
   ]
  },
  {
   "cell_type": "markdown",
   "metadata": {},
   "source": [
    "## 2.1.5 데이터 통합 1) - 옆으로 통합(merge)"
   ]
  },
  {
   "cell_type": "code",
   "execution_count": 46,
   "metadata": {},
   "outputs": [
    {
     "data": {
      "text/html": [
       "<div>\n",
       "<style scoped>\n",
       "    .dataframe tbody tr th:only-of-type {\n",
       "        vertical-align: middle;\n",
       "    }\n",
       "\n",
       "    .dataframe tbody tr th {\n",
       "        vertical-align: top;\n",
       "    }\n",
       "\n",
       "    .dataframe thead th {\n",
       "        text-align: right;\n",
       "    }\n",
       "</style>\n",
       "<table border=\"1\" class=\"dataframe\">\n",
       "  <thead>\n",
       "    <tr style=\"text-align: right;\">\n",
       "      <th></th>\n",
       "      <th>국적코드</th>\n",
       "      <th>성별</th>\n",
       "      <th>입국객수</th>\n",
       "      <th>기준년월</th>\n",
       "    </tr>\n",
       "  </thead>\n",
       "  <tbody>\n",
       "    <tr>\n",
       "      <th>0</th>\n",
       "      <td>A01</td>\n",
       "      <td>남성</td>\n",
       "      <td>106320</td>\n",
       "      <td>2019-11</td>\n",
       "    </tr>\n",
       "    <tr>\n",
       "      <th>1</th>\n",
       "      <td>A01</td>\n",
       "      <td>여성</td>\n",
       "      <td>191436</td>\n",
       "      <td>2019-11</td>\n",
       "    </tr>\n",
       "    <tr>\n",
       "      <th>2</th>\n",
       "      <td>A31</td>\n",
       "      <td>남성</td>\n",
       "      <td>319</td>\n",
       "      <td>2019-11</td>\n",
       "    </tr>\n",
       "    <tr>\n",
       "      <th>3</th>\n",
       "      <td>A31</td>\n",
       "      <td>여성</td>\n",
       "      <td>42</td>\n",
       "      <td>2019-11</td>\n",
       "    </tr>\n",
       "    <tr>\n",
       "      <th>4</th>\n",
       "      <td>A18</td>\n",
       "      <td>남성</td>\n",
       "      <td>158912</td>\n",
       "      <td>2019-11</td>\n",
       "    </tr>\n",
       "    <tr>\n",
       "      <th>5</th>\n",
       "      <td>A18</td>\n",
       "      <td>여성</td>\n",
       "      <td>232943</td>\n",
       "      <td>2019-11</td>\n",
       "    </tr>\n",
       "  </tbody>\n",
       "</table>\n",
       "</div>"
      ],
      "text/plain": [
       "  국적코드  성별    입국객수     기준년월\n",
       "0  A01  남성  106320  2019-11\n",
       "1  A01  여성  191436  2019-11\n",
       "2  A31  남성     319  2019-11\n",
       "3  A31  여성      42  2019-11\n",
       "4  A18  남성  158912  2019-11\n",
       "5  A18  여성  232943  2019-11"
      ]
     },
     "execution_count": 46,
     "metadata": {},
     "output_type": "execute_result"
    }
   ],
   "source": [
    "sample_1"
   ]
  },
  {
   "cell_type": "code",
   "execution_count": 47,
   "metadata": {},
   "outputs": [],
   "source": [
    "# 국적코드에 대한 국가명 매핑을 위한 통합"
   ]
  },
  {
   "cell_type": "code",
   "execution_count": 48,
   "metadata": {},
   "outputs": [],
   "source": [
    "# 국적코드와 국적명을 매핑한 국적코드표 불러오기"
   ]
  },
  {
   "cell_type": "code",
   "execution_count": 49,
   "metadata": {},
   "outputs": [
    {
     "data": {
      "text/html": [
       "<div>\n",
       "<style scoped>\n",
       "    .dataframe tbody tr th:only-of-type {\n",
       "        vertical-align: middle;\n",
       "    }\n",
       "\n",
       "    .dataframe tbody tr th {\n",
       "        vertical-align: top;\n",
       "    }\n",
       "\n",
       "    .dataframe thead th {\n",
       "        text-align: right;\n",
       "    }\n",
       "</style>\n",
       "<table border=\"1\" class=\"dataframe\">\n",
       "  <thead>\n",
       "    <tr style=\"text-align: right;\">\n",
       "      <th></th>\n",
       "      <th>국적코드</th>\n",
       "      <th>국적명</th>\n",
       "    </tr>\n",
       "  </thead>\n",
       "  <tbody>\n",
       "    <tr>\n",
       "      <th>0</th>\n",
       "      <td>A01</td>\n",
       "      <td>일본</td>\n",
       "    </tr>\n",
       "    <tr>\n",
       "      <th>1</th>\n",
       "      <td>A02</td>\n",
       "      <td>대만</td>\n",
       "    </tr>\n",
       "    <tr>\n",
       "      <th>2</th>\n",
       "      <td>A03</td>\n",
       "      <td>홍콩</td>\n",
       "    </tr>\n",
       "    <tr>\n",
       "      <th>3</th>\n",
       "      <td>A18</td>\n",
       "      <td>중국</td>\n",
       "    </tr>\n",
       "    <tr>\n",
       "      <th>4</th>\n",
       "      <td>A19</td>\n",
       "      <td>이란</td>\n",
       "    </tr>\n",
       "    <tr>\n",
       "      <th>5</th>\n",
       "      <td>A22</td>\n",
       "      <td>우즈베키스탄</td>\n",
       "    </tr>\n",
       "    <tr>\n",
       "      <th>6</th>\n",
       "      <td>A23</td>\n",
       "      <td>카자흐스탄</td>\n",
       "    </tr>\n",
       "    <tr>\n",
       "      <th>7</th>\n",
       "      <td>A99</td>\n",
       "      <td>아시아 기타</td>\n",
       "    </tr>\n",
       "  </tbody>\n",
       "</table>\n",
       "</div>"
      ],
      "text/plain": [
       "  국적코드     국적명\n",
       "0  A01      일본\n",
       "1  A02      대만\n",
       "2  A03      홍콩\n",
       "3  A18      중국\n",
       "4  A19      이란\n",
       "5  A22  우즈베키스탄\n",
       "6  A23   카자흐스탄\n",
       "7  A99  아시아 기타"
      ]
     },
     "execution_count": 49,
     "metadata": {},
     "output_type": "execute_result"
    }
   ],
   "source": [
    "code_master = pd.read_excel('sample_codemaster.xlsx')\n",
    "code_master"
   ]
  },
  {
   "cell_type": "markdown",
   "metadata": {},
   "source": [
    "* merge를 이용한 통합"
   ]
  },
  {
   "cell_type": "code",
   "execution_count": 52,
   "metadata": {},
   "outputs": [
    {
     "data": {
      "text/html": [
       "<div>\n",
       "<style scoped>\n",
       "    .dataframe tbody tr th:only-of-type {\n",
       "        vertical-align: middle;\n",
       "    }\n",
       "\n",
       "    .dataframe tbody tr th {\n",
       "        vertical-align: top;\n",
       "    }\n",
       "\n",
       "    .dataframe thead th {\n",
       "        text-align: right;\n",
       "    }\n",
       "</style>\n",
       "<table border=\"1\" class=\"dataframe\">\n",
       "  <thead>\n",
       "    <tr style=\"text-align: right;\">\n",
       "      <th></th>\n",
       "      <th>국적코드</th>\n",
       "      <th>성별</th>\n",
       "      <th>입국객수</th>\n",
       "      <th>기준년월</th>\n",
       "      <th>국적명</th>\n",
       "    </tr>\n",
       "  </thead>\n",
       "  <tbody>\n",
       "    <tr>\n",
       "      <th>0</th>\n",
       "      <td>A01</td>\n",
       "      <td>남성</td>\n",
       "      <td>106320</td>\n",
       "      <td>2019-11</td>\n",
       "      <td>일본</td>\n",
       "    </tr>\n",
       "    <tr>\n",
       "      <th>1</th>\n",
       "      <td>A01</td>\n",
       "      <td>여성</td>\n",
       "      <td>191436</td>\n",
       "      <td>2019-11</td>\n",
       "      <td>일본</td>\n",
       "    </tr>\n",
       "    <tr>\n",
       "      <th>2</th>\n",
       "      <td>A31</td>\n",
       "      <td>남성</td>\n",
       "      <td>319</td>\n",
       "      <td>2019-11</td>\n",
       "      <td>NaN</td>\n",
       "    </tr>\n",
       "    <tr>\n",
       "      <th>3</th>\n",
       "      <td>A31</td>\n",
       "      <td>여성</td>\n",
       "      <td>42</td>\n",
       "      <td>2019-11</td>\n",
       "      <td>NaN</td>\n",
       "    </tr>\n",
       "    <tr>\n",
       "      <th>4</th>\n",
       "      <td>A18</td>\n",
       "      <td>남성</td>\n",
       "      <td>158912</td>\n",
       "      <td>2019-11</td>\n",
       "      <td>중국</td>\n",
       "    </tr>\n",
       "    <tr>\n",
       "      <th>5</th>\n",
       "      <td>A18</td>\n",
       "      <td>여성</td>\n",
       "      <td>232943</td>\n",
       "      <td>2019-11</td>\n",
       "      <td>중국</td>\n",
       "    </tr>\n",
       "  </tbody>\n",
       "</table>\n",
       "</div>"
      ],
      "text/plain": [
       "  국적코드  성별    입국객수     기준년월  국적명\n",
       "0  A01  남성  106320  2019-11   일본\n",
       "1  A01  여성  191436  2019-11   일본\n",
       "2  A31  남성     319  2019-11  NaN\n",
       "3  A31  여성      42  2019-11  NaN\n",
       "4  A18  남성  158912  2019-11   중국\n",
       "5  A18  여성  232943  2019-11   중국"
      ]
     },
     "execution_count": 52,
     "metadata": {},
     "output_type": "execute_result"
    }
   ],
   "source": [
    "sample_1_code = pd.merge(left = sample_1, # 왼쪽 테이블은 sample_1\n",
    "        right = code_master, # 오른쪽 테이블은 code_master\n",
    "        how = 'left', # 왼쪽 테이블을 기준으로 결합\n",
    "        left_on = '국적코드', # 왼족 테이블의 기준 칼럼은 국적코드\n",
    "        right_on = '국적코드') # 오른쪽 테이블의 기준 칼럼은 국적코드\n",
    "\n",
    "sample_1_code"
   ]
  },
  {
   "cell_type": "markdown",
   "metadata": {},
   "source": [
    "* 양쪽 테이블에서 공통으로 존재하는 경우에 대해 출력"
   ]
  },
  {
   "cell_type": "code",
   "execution_count": 53,
   "metadata": {},
   "outputs": [
    {
     "data": {
      "text/html": [
       "<div>\n",
       "<style scoped>\n",
       "    .dataframe tbody tr th:only-of-type {\n",
       "        vertical-align: middle;\n",
       "    }\n",
       "\n",
       "    .dataframe tbody tr th {\n",
       "        vertical-align: top;\n",
       "    }\n",
       "\n",
       "    .dataframe thead th {\n",
       "        text-align: right;\n",
       "    }\n",
       "</style>\n",
       "<table border=\"1\" class=\"dataframe\">\n",
       "  <thead>\n",
       "    <tr style=\"text-align: right;\">\n",
       "      <th></th>\n",
       "      <th>국적코드</th>\n",
       "      <th>성별</th>\n",
       "      <th>입국객수</th>\n",
       "      <th>기준년월</th>\n",
       "      <th>국적명</th>\n",
       "    </tr>\n",
       "  </thead>\n",
       "  <tbody>\n",
       "    <tr>\n",
       "      <th>0</th>\n",
       "      <td>A01</td>\n",
       "      <td>남성</td>\n",
       "      <td>106320</td>\n",
       "      <td>2019-11</td>\n",
       "      <td>일본</td>\n",
       "    </tr>\n",
       "    <tr>\n",
       "      <th>1</th>\n",
       "      <td>A01</td>\n",
       "      <td>여성</td>\n",
       "      <td>191436</td>\n",
       "      <td>2019-11</td>\n",
       "      <td>일본</td>\n",
       "    </tr>\n",
       "    <tr>\n",
       "      <th>2</th>\n",
       "      <td>A18</td>\n",
       "      <td>남성</td>\n",
       "      <td>158912</td>\n",
       "      <td>2019-11</td>\n",
       "      <td>중국</td>\n",
       "    </tr>\n",
       "    <tr>\n",
       "      <th>3</th>\n",
       "      <td>A18</td>\n",
       "      <td>여성</td>\n",
       "      <td>232943</td>\n",
       "      <td>2019-11</td>\n",
       "      <td>중국</td>\n",
       "    </tr>\n",
       "  </tbody>\n",
       "</table>\n",
       "</div>"
      ],
      "text/plain": [
       "  국적코드  성별    입국객수     기준년월 국적명\n",
       "0  A01  남성  106320  2019-11  일본\n",
       "1  A01  여성  191436  2019-11  일본\n",
       "2  A18  남성  158912  2019-11  중국\n",
       "3  A18  여성  232943  2019-11  중국"
      ]
     },
     "execution_count": 53,
     "metadata": {},
     "output_type": "execute_result"
    }
   ],
   "source": [
    "sample_1_code_inner = pd.merge(left = sample_1,\n",
    "                              right = code_master,\n",
    "                              how = 'inner', # 두 기준 칼럼의 값이 서로 일치할 경우만\n",
    "                              left_on = '국적코드',\n",
    "                              right_on = '국적코드')\n",
    "sample_1_code_inner"
   ]
  },
  {
   "cell_type": "markdown",
   "metadata": {},
   "source": [
    "## 2.1.6 데이터 통합 2) - 아래로 통합(append)"
   ]
  },
  {
   "cell_type": "markdown",
   "metadata": {},
   "source": [
    "* 2019년 12월 데이터 불러와 기준년월 칼럼 만들어 통합"
   ]
  },
  {
   "cell_type": "code",
   "execution_count": 54,
   "metadata": {},
   "outputs": [
    {
     "data": {
      "text/html": [
       "<div>\n",
       "<style scoped>\n",
       "    .dataframe tbody tr th:only-of-type {\n",
       "        vertical-align: middle;\n",
       "    }\n",
       "\n",
       "    .dataframe tbody tr th {\n",
       "        vertical-align: top;\n",
       "    }\n",
       "\n",
       "    .dataframe thead th {\n",
       "        text-align: right;\n",
       "    }\n",
       "</style>\n",
       "<table border=\"1\" class=\"dataframe\">\n",
       "  <thead>\n",
       "    <tr style=\"text-align: right;\">\n",
       "      <th></th>\n",
       "      <th>국적코드</th>\n",
       "      <th>성별</th>\n",
       "      <th>입국객수</th>\n",
       "    </tr>\n",
       "  </thead>\n",
       "  <tbody>\n",
       "    <tr>\n",
       "      <th>0</th>\n",
       "      <td>A01</td>\n",
       "      <td>남성</td>\n",
       "      <td>92556</td>\n",
       "    </tr>\n",
       "    <tr>\n",
       "      <th>1</th>\n",
       "      <td>A01</td>\n",
       "      <td>여성</td>\n",
       "      <td>163737</td>\n",
       "    </tr>\n",
       "    <tr>\n",
       "      <th>2</th>\n",
       "      <td>A18</td>\n",
       "      <td>남성</td>\n",
       "      <td>155540</td>\n",
       "    </tr>\n",
       "    <tr>\n",
       "      <th>3</th>\n",
       "      <td>A18</td>\n",
       "      <td>여성</td>\n",
       "      <td>249023</td>\n",
       "    </tr>\n",
       "  </tbody>\n",
       "</table>\n",
       "</div>"
      ],
      "text/plain": [
       "  국적코드  성별    입국객수\n",
       "0  A01  남성   92556\n",
       "1  A01  여성  163737\n",
       "2  A18  남성  155540\n",
       "3  A18  여성  249023"
      ]
     },
     "execution_count": 54,
     "metadata": {},
     "output_type": "execute_result"
    }
   ],
   "source": [
    "sample_2 = pd.read_excel('sample_2.xlsx',\n",
    "                        header = 1,\n",
    "                        skipfooter = 2,\n",
    "                        usecols = 'A:C')\n",
    "sample_2"
   ]
  },
  {
   "cell_type": "code",
   "execution_count": 55,
   "metadata": {},
   "outputs": [],
   "source": [
    "sample_2['기준년월'] = '2019-12'"
   ]
  },
  {
   "cell_type": "code",
   "execution_count": 56,
   "metadata": {},
   "outputs": [
    {
     "data": {
      "text/html": [
       "<div>\n",
       "<style scoped>\n",
       "    .dataframe tbody tr th:only-of-type {\n",
       "        vertical-align: middle;\n",
       "    }\n",
       "\n",
       "    .dataframe tbody tr th {\n",
       "        vertical-align: top;\n",
       "    }\n",
       "\n",
       "    .dataframe thead th {\n",
       "        text-align: right;\n",
       "    }\n",
       "</style>\n",
       "<table border=\"1\" class=\"dataframe\">\n",
       "  <thead>\n",
       "    <tr style=\"text-align: right;\">\n",
       "      <th></th>\n",
       "      <th>국적코드</th>\n",
       "      <th>성별</th>\n",
       "      <th>입국객수</th>\n",
       "      <th>기준년월</th>\n",
       "    </tr>\n",
       "  </thead>\n",
       "  <tbody>\n",
       "    <tr>\n",
       "      <th>0</th>\n",
       "      <td>A01</td>\n",
       "      <td>남성</td>\n",
       "      <td>92556</td>\n",
       "      <td>2019-12</td>\n",
       "    </tr>\n",
       "    <tr>\n",
       "      <th>1</th>\n",
       "      <td>A01</td>\n",
       "      <td>여성</td>\n",
       "      <td>163737</td>\n",
       "      <td>2019-12</td>\n",
       "    </tr>\n",
       "    <tr>\n",
       "      <th>2</th>\n",
       "      <td>A18</td>\n",
       "      <td>남성</td>\n",
       "      <td>155540</td>\n",
       "      <td>2019-12</td>\n",
       "    </tr>\n",
       "    <tr>\n",
       "      <th>3</th>\n",
       "      <td>A18</td>\n",
       "      <td>여성</td>\n",
       "      <td>249023</td>\n",
       "      <td>2019-12</td>\n",
       "    </tr>\n",
       "  </tbody>\n",
       "</table>\n",
       "</div>"
      ],
      "text/plain": [
       "  국적코드  성별    입국객수     기준년월\n",
       "0  A01  남성   92556  2019-12\n",
       "1  A01  여성  163737  2019-12\n",
       "2  A18  남성  155540  2019-12\n",
       "3  A18  여성  249023  2019-12"
      ]
     },
     "execution_count": 56,
     "metadata": {},
     "output_type": "execute_result"
    }
   ],
   "source": [
    "sample_2"
   ]
  },
  {
   "cell_type": "code",
   "execution_count": 58,
   "metadata": {},
   "outputs": [
    {
     "data": {
      "text/html": [
       "<div>\n",
       "<style scoped>\n",
       "    .dataframe tbody tr th:only-of-type {\n",
       "        vertical-align: middle;\n",
       "    }\n",
       "\n",
       "    .dataframe tbody tr th {\n",
       "        vertical-align: top;\n",
       "    }\n",
       "\n",
       "    .dataframe thead th {\n",
       "        text-align: right;\n",
       "    }\n",
       "</style>\n",
       "<table border=\"1\" class=\"dataframe\">\n",
       "  <thead>\n",
       "    <tr style=\"text-align: right;\">\n",
       "      <th></th>\n",
       "      <th>국적코드</th>\n",
       "      <th>성별</th>\n",
       "      <th>입국객수</th>\n",
       "      <th>기준년월</th>\n",
       "      <th>국적명</th>\n",
       "    </tr>\n",
       "  </thead>\n",
       "  <tbody>\n",
       "    <tr>\n",
       "      <th>0</th>\n",
       "      <td>A01</td>\n",
       "      <td>남성</td>\n",
       "      <td>92556</td>\n",
       "      <td>2019-12</td>\n",
       "      <td>일본</td>\n",
       "    </tr>\n",
       "    <tr>\n",
       "      <th>1</th>\n",
       "      <td>A01</td>\n",
       "      <td>여성</td>\n",
       "      <td>163737</td>\n",
       "      <td>2019-12</td>\n",
       "      <td>일본</td>\n",
       "    </tr>\n",
       "    <tr>\n",
       "      <th>2</th>\n",
       "      <td>A18</td>\n",
       "      <td>남성</td>\n",
       "      <td>155540</td>\n",
       "      <td>2019-12</td>\n",
       "      <td>중국</td>\n",
       "    </tr>\n",
       "    <tr>\n",
       "      <th>3</th>\n",
       "      <td>A18</td>\n",
       "      <td>여성</td>\n",
       "      <td>249023</td>\n",
       "      <td>2019-12</td>\n",
       "      <td>중국</td>\n",
       "    </tr>\n",
       "  </tbody>\n",
       "</table>\n",
       "</div>"
      ],
      "text/plain": [
       "  국적코드  성별    입국객수     기준년월 국적명\n",
       "0  A01  남성   92556  2019-12  일본\n",
       "1  A01  여성  163737  2019-12  일본\n",
       "2  A18  남성  155540  2019-12  중국\n",
       "3  A18  여성  249023  2019-12  중국"
      ]
     },
     "execution_count": 58,
     "metadata": {},
     "output_type": "execute_result"
    }
   ],
   "source": [
    "sample_2_code = pd.merge(left = sample_2,\n",
    "                        right = code_master,\n",
    "                        how = 'left',\n",
    "                        left_on = '국적코드',\n",
    "                        right_on = '국적코드')\n",
    "sample_2_code"
   ]
  },
  {
   "cell_type": "markdown",
   "metadata": {},
   "source": [
    "* append를 이용한 통합"
   ]
  },
  {
   "cell_type": "code",
   "execution_count": 61,
   "metadata": {},
   "outputs": [
    {
     "data": {
      "text/html": [
       "<div>\n",
       "<style scoped>\n",
       "    .dataframe tbody tr th:only-of-type {\n",
       "        vertical-align: middle;\n",
       "    }\n",
       "\n",
       "    .dataframe tbody tr th {\n",
       "        vertical-align: top;\n",
       "    }\n",
       "\n",
       "    .dataframe thead th {\n",
       "        text-align: right;\n",
       "    }\n",
       "</style>\n",
       "<table border=\"1\" class=\"dataframe\">\n",
       "  <thead>\n",
       "    <tr style=\"text-align: right;\">\n",
       "      <th></th>\n",
       "      <th>국적코드</th>\n",
       "      <th>성별</th>\n",
       "      <th>입국객수</th>\n",
       "      <th>기준년월</th>\n",
       "      <th>국적명</th>\n",
       "    </tr>\n",
       "  </thead>\n",
       "  <tbody>\n",
       "    <tr>\n",
       "      <th>0</th>\n",
       "      <td>A01</td>\n",
       "      <td>남성</td>\n",
       "      <td>106320</td>\n",
       "      <td>2019-11</td>\n",
       "      <td>일본</td>\n",
       "    </tr>\n",
       "    <tr>\n",
       "      <th>1</th>\n",
       "      <td>A01</td>\n",
       "      <td>여성</td>\n",
       "      <td>191436</td>\n",
       "      <td>2019-11</td>\n",
       "      <td>일본</td>\n",
       "    </tr>\n",
       "    <tr>\n",
       "      <th>2</th>\n",
       "      <td>A31</td>\n",
       "      <td>남성</td>\n",
       "      <td>319</td>\n",
       "      <td>2019-11</td>\n",
       "      <td>NaN</td>\n",
       "    </tr>\n",
       "    <tr>\n",
       "      <th>3</th>\n",
       "      <td>A31</td>\n",
       "      <td>여성</td>\n",
       "      <td>42</td>\n",
       "      <td>2019-11</td>\n",
       "      <td>NaN</td>\n",
       "    </tr>\n",
       "    <tr>\n",
       "      <th>4</th>\n",
       "      <td>A18</td>\n",
       "      <td>남성</td>\n",
       "      <td>158912</td>\n",
       "      <td>2019-11</td>\n",
       "      <td>중국</td>\n",
       "    </tr>\n",
       "    <tr>\n",
       "      <th>5</th>\n",
       "      <td>A18</td>\n",
       "      <td>여성</td>\n",
       "      <td>232943</td>\n",
       "      <td>2019-11</td>\n",
       "      <td>중국</td>\n",
       "    </tr>\n",
       "    <tr>\n",
       "      <th>6</th>\n",
       "      <td>A01</td>\n",
       "      <td>남성</td>\n",
       "      <td>92556</td>\n",
       "      <td>2019-12</td>\n",
       "      <td>일본</td>\n",
       "    </tr>\n",
       "    <tr>\n",
       "      <th>7</th>\n",
       "      <td>A01</td>\n",
       "      <td>여성</td>\n",
       "      <td>163737</td>\n",
       "      <td>2019-12</td>\n",
       "      <td>일본</td>\n",
       "    </tr>\n",
       "    <tr>\n",
       "      <th>8</th>\n",
       "      <td>A18</td>\n",
       "      <td>남성</td>\n",
       "      <td>155540</td>\n",
       "      <td>2019-12</td>\n",
       "      <td>중국</td>\n",
       "    </tr>\n",
       "    <tr>\n",
       "      <th>9</th>\n",
       "      <td>A18</td>\n",
       "      <td>여성</td>\n",
       "      <td>249023</td>\n",
       "      <td>2019-12</td>\n",
       "      <td>중국</td>\n",
       "    </tr>\n",
       "  </tbody>\n",
       "</table>\n",
       "</div>"
      ],
      "text/plain": [
       "  국적코드  성별    입국객수     기준년월  국적명\n",
       "0  A01  남성  106320  2019-11   일본\n",
       "1  A01  여성  191436  2019-11   일본\n",
       "2  A31  남성     319  2019-11  NaN\n",
       "3  A31  여성      42  2019-11  NaN\n",
       "4  A18  남성  158912  2019-11   중국\n",
       "5  A18  여성  232943  2019-11   중국\n",
       "6  A01  남성   92556  2019-12   일본\n",
       "7  A01  여성  163737  2019-12   일본\n",
       "8  A18  남성  155540  2019-12   중국\n",
       "9  A18  여성  249023  2019-12   중국"
      ]
     },
     "execution_count": 61,
     "metadata": {},
     "output_type": "execute_result"
    }
   ],
   "source": [
    "sample = sample_1_code.append(sample_2_code, ignore_index = True)\n",
    "sample"
   ]
  },
  {
   "cell_type": "markdown",
   "metadata": {},
   "source": [
    "## 2.1.7 데이터 저장(to_excel)"
   ]
  },
  {
   "cell_type": "code",
   "execution_count": 63,
   "metadata": {},
   "outputs": [],
   "source": [
    "sample.to_excel('sample.xlsx')"
   ]
  },
  {
   "cell_type": "markdown",
   "metadata": {},
   "source": [
    "* 인덱스 번호를 제외하고 저장하고 싶다면"
   ]
  },
  {
   "cell_type": "code",
   "execution_count": 64,
   "metadata": {},
   "outputs": [],
   "source": [
    "sample.to_excel('sample_index_no.xlsx', index=False)"
   ]
  },
  {
   "cell_type": "markdown",
   "metadata": {},
   "source": [
    "## 2.1.8 데이터 집계(pivot_table)\n",
    "- '00별로 데이터를 집계'할 때 사용하는 기능'"
   ]
  },
  {
   "cell_type": "code",
   "execution_count": 65,
   "metadata": {},
   "outputs": [
    {
     "data": {
      "text/html": [
       "<div>\n",
       "<style scoped>\n",
       "    .dataframe tbody tr th:only-of-type {\n",
       "        vertical-align: middle;\n",
       "    }\n",
       "\n",
       "    .dataframe tbody tr th {\n",
       "        vertical-align: top;\n",
       "    }\n",
       "\n",
       "    .dataframe thead th {\n",
       "        text-align: right;\n",
       "    }\n",
       "</style>\n",
       "<table border=\"1\" class=\"dataframe\">\n",
       "  <thead>\n",
       "    <tr style=\"text-align: right;\">\n",
       "      <th>기준년월</th>\n",
       "      <th>2019-11</th>\n",
       "      <th>2019-12</th>\n",
       "    </tr>\n",
       "    <tr>\n",
       "      <th>국적명</th>\n",
       "      <th></th>\n",
       "      <th></th>\n",
       "    </tr>\n",
       "  </thead>\n",
       "  <tbody>\n",
       "    <tr>\n",
       "      <th>일본</th>\n",
       "      <td>148878.0</td>\n",
       "      <td>128146.5</td>\n",
       "    </tr>\n",
       "    <tr>\n",
       "      <th>중국</th>\n",
       "      <td>195927.5</td>\n",
       "      <td>202281.5</td>\n",
       "    </tr>\n",
       "  </tbody>\n",
       "</table>\n",
       "</div>"
      ],
      "text/plain": [
       "기준년월   2019-11   2019-12\n",
       "국적명                     \n",
       "일본    148878.0  128146.5\n",
       "중국    195927.5  202281.5"
      ]
     },
     "execution_count": 65,
     "metadata": {},
     "output_type": "execute_result"
    }
   ],
   "source": [
    "sample_pivot = sample.pivot_table(values = '입국객수',\n",
    "                                 index = '국적명',\n",
    "                                 columns = '기준년월',\n",
    "                                 aggfunc = 'mean')\n",
    "sample_pivot"
   ]
  },
  {
   "cell_type": "markdown",
   "metadata": {},
   "source": [
    "### * aggfunc\n",
    "- mean: 평균\n",
    "- sum: 합계\n",
    "- min: 최솟값\n",
    "- max: 최댓값\n",
    "- median: 중앙값\n",
    "- count: 갯수\n",
    "- nunique: 중복을 제거한 후 개수"
   ]
  },
  {
   "cell_type": "code",
   "execution_count": 67,
   "metadata": {},
   "outputs": [],
   "source": [
    "#index, column이 항상 있어야하는 것은 아니다."
   ]
  },
  {
   "cell_type": "code",
   "execution_count": 68,
   "metadata": {},
   "outputs": [
    {
     "data": {
      "text/html": [
       "<div>\n",
       "<style scoped>\n",
       "    .dataframe tbody tr th:only-of-type {\n",
       "        vertical-align: middle;\n",
       "    }\n",
       "\n",
       "    .dataframe tbody tr th {\n",
       "        vertical-align: top;\n",
       "    }\n",
       "\n",
       "    .dataframe thead th {\n",
       "        text-align: right;\n",
       "    }\n",
       "</style>\n",
       "<table border=\"1\" class=\"dataframe\">\n",
       "  <thead>\n",
       "    <tr style=\"text-align: right;\">\n",
       "      <th></th>\n",
       "      <th>입국객수</th>\n",
       "    </tr>\n",
       "    <tr>\n",
       "      <th>국적명</th>\n",
       "      <th></th>\n",
       "    </tr>\n",
       "  </thead>\n",
       "  <tbody>\n",
       "    <tr>\n",
       "      <th>일본</th>\n",
       "      <td>138512.25</td>\n",
       "    </tr>\n",
       "    <tr>\n",
       "      <th>중국</th>\n",
       "      <td>199104.50</td>\n",
       "    </tr>\n",
       "  </tbody>\n",
       "</table>\n",
       "</div>"
      ],
      "text/plain": [
       "          입국객수\n",
       "국적명           \n",
       "일본   138512.25\n",
       "중국   199104.50"
      ]
     },
     "execution_count": 68,
     "metadata": {},
     "output_type": "execute_result"
    }
   ],
   "source": [
    "sample_pivot_2 = sample.pivot_table(values = '입국객수',\n",
    "                                 index = '국적명',\n",
    "                                 aggfunc = 'mean')\n",
    "sample_pivot_2"
   ]
  },
  {
   "cell_type": "code",
   "execution_count": 70,
   "metadata": {},
   "outputs": [
    {
     "data": {
      "text/html": [
       "<div>\n",
       "<style scoped>\n",
       "    .dataframe tbody tr th:only-of-type {\n",
       "        vertical-align: middle;\n",
       "    }\n",
       "\n",
       "    .dataframe tbody tr th {\n",
       "        vertical-align: top;\n",
       "    }\n",
       "\n",
       "    .dataframe thead th {\n",
       "        text-align: right;\n",
       "    }\n",
       "</style>\n",
       "<table border=\"1\" class=\"dataframe\">\n",
       "  <thead>\n",
       "    <tr style=\"text-align: right;\">\n",
       "      <th>기준년월</th>\n",
       "      <th>2019-11</th>\n",
       "      <th>2019-12</th>\n",
       "    </tr>\n",
       "  </thead>\n",
       "  <tbody>\n",
       "    <tr>\n",
       "      <th>입국객수</th>\n",
       "      <td>114995.333333</td>\n",
       "      <td>165214.0</td>\n",
       "    </tr>\n",
       "  </tbody>\n",
       "</table>\n",
       "</div>"
      ],
      "text/plain": [
       "기준년월        2019-11   2019-12\n",
       "입국객수  114995.333333  165214.0"
      ]
     },
     "execution_count": 70,
     "metadata": {},
     "output_type": "execute_result"
    }
   ],
   "source": [
    "sample_pivot_3 = sample.pivot_table(values = '입국객수',\n",
    "                                 columns = '기준년월',\n",
    "                                 aggfunc = 'mean')\n",
    "sample_pivot_3"
   ]
  },
  {
   "cell_type": "markdown",
   "metadata": {},
   "source": [
    "# 2.2 웹 크롤링 맛보기"
   ]
  },
  {
   "cell_type": "markdown",
   "metadata": {},
   "source": [
    "## 2.2.1 selenium과 크롬드라이버 설치"
   ]
  },
  {
   "cell_type": "code",
   "execution_count": 72,
   "metadata": {},
   "outputs": [],
   "source": [
    "from selenium import webdriver"
   ]
  },
  {
   "cell_type": "markdown",
   "metadata": {},
   "source": [
    "## 2.2.2 크롬드라이버 활용하기"
   ]
  },
  {
   "cell_type": "code",
   "execution_count": 77,
   "metadata": {},
   "outputs": [],
   "source": [
    "driver = webdriver.Chrome('C:\\\\Users\\\\YHI\\\\chromedriver.exe')"
   ]
  },
  {
   "cell_type": "markdown",
   "metadata": {},
   "source": [
    "## 2.2.3 웹 페이지 접속"
   ]
  },
  {
   "cell_type": "code",
   "execution_count": 78,
   "metadata": {},
   "outputs": [],
   "source": [
    "url = 'https://www.naver.com/'\n",
    "driver.get(url)"
   ]
  },
  {
   "cell_type": "markdown",
   "metadata": {},
   "source": [
    "## 2.2.4 웹 페이지(HTML) 다운로드"
   ]
  },
  {
   "cell_type": "code",
   "execution_count": 79,
   "metadata": {},
   "outputs": [],
   "source": [
    "html = driver.page_source"
   ]
  },
  {
   "cell_type": "markdown",
   "metadata": {},
   "source": [
    "## 2.2.5 HTML 구조 살펴보기"
   ]
  },
  {
   "cell_type": "code",
   "execution_count": 80,
   "metadata": {},
   "outputs": [],
   "source": [
    "# 태그명, class 이름, id 값 등등 확인"
   ]
  },
  {
   "cell_type": "markdown",
   "metadata": {},
   "source": [
    "## 2.2.6 크롬 브라우저에서 웹 페이지의 HTML 살펴보기"
   ]
  },
  {
   "cell_type": "code",
   "execution_count": 81,
   "metadata": {},
   "outputs": [],
   "source": [
    "# 특정 사이트에 접속한 후 F12를 이용하여 개발자 도구를 접속"
   ]
  },
  {
   "cell_type": "code",
   "execution_count": 82,
   "metadata": {},
   "outputs": [],
   "source": [
    "# 원하는 요소의 정보를 위해 오른쪽 버튼 -> 검사를 선택하면\n",
    "# 특정 요소의 태그명, 속성 등등의 정보를 알 수 있다."
   ]
  },
  {
   "cell_type": "markdown",
   "metadata": {},
   "source": [
    "## 2.2.7 BeautifulSoup을 이용한 정보 찾기"
   ]
  },
  {
   "cell_type": "code",
   "execution_count": 86,
   "metadata": {},
   "outputs": [],
   "source": [
    "html = '''\n",
    "<html>\n",
    "    <head>\n",
    "    </head>\n",
    "    <body>\n",
    "        <h1> 우리동네시장</h1>\n",
    "            <div class = 'sale'>\n",
    "                <p id='fruits1' class='fruits'>\n",
    "                    <span class = 'name'> 바나나 </span>\n",
    "                    <span class = 'price'> 3000원 </span>\n",
    "                    <span class = 'inventory'> 500개 </span>\n",
    "                    <span class = 'store'> 가나다상회 </span>\n",
    "                    <a href = 'http://bit.ly/forPlaywithData' > 홈페이지 </a>\n",
    "                </p>\n",
    "            </div>\n",
    "            <div class = 'prepare'>\n",
    "                <p id='fruits2' class='fruits'>\n",
    "                    <span class ='name'> 파인애플 </span>\n",
    "                </p>\n",
    "            </div>\n",
    "    </body>\n",
    "</html>\n",
    "'''"
   ]
  },
  {
   "cell_type": "code",
   "execution_count": 88,
   "metadata": {},
   "outputs": [],
   "source": [
    "from bs4 import BeautifulSoup"
   ]
  },
  {
   "cell_type": "code",
   "execution_count": 89,
   "metadata": {},
   "outputs": [],
   "source": [
    "# html 안에 문자열을 HTML 형식에 맞게 해석해서 원하는 정보를 찾을 수 있다.\n",
    "soup = BeautifulSoup(html, 'html.parser') "
   ]
  },
  {
   "cell_type": "markdown",
   "metadata": {},
   "source": [
    "## 2.2.8 HTML 정보 찾기 1) - 태그 속성 활용"
   ]
  },
  {
   "cell_type": "markdown",
   "metadata": {},
   "source": [
    "* 태그명으로 태그 찾기"
   ]
  },
  {
   "cell_type": "code",
   "execution_count": 90,
   "metadata": {},
   "outputs": [],
   "source": [
    "tags_span = soup.select('span') # span 태그를 모두 찾아 저장\n",
    "tags_p = soup.select('p') # p 태그를 모두 찾아 저장"
   ]
  },
  {
   "cell_type": "code",
   "execution_count": 91,
   "metadata": {},
   "outputs": [],
   "source": [
    "ids_fruits1 = soup.select('#fruits1')\n",
    "class_price = soup.select('.price')\n",
    "tags_span_class_price = soup.select('span.price')"
   ]
  },
  {
   "cell_type": "markdown",
   "metadata": {},
   "source": [
    "## 2.2.9 HTML 정보 찾기 2) - 상위 구조 활용\n",
    "- 한 단계: '>'로 표시\n",
    "- 여러 단계: ' '로 표시"
   ]
  },
  {
   "cell_type": "markdown",
   "metadata": {},
   "source": [
    "* 태그 구조로 위치 찾기1)"
   ]
  },
  {
   "cell_type": "code",
   "execution_count": 92,
   "metadata": {},
   "outputs": [
    {
     "data": {
      "text/plain": [
       "[<span class=\"name\"> 바나나 </span>, <span class=\"name\"> 파인애플 </span>]"
      ]
     },
     "execution_count": 92,
     "metadata": {},
     "output_type": "execute_result"
    }
   ],
   "source": [
    "tags_name = soup.select('span.name')\n",
    "tags_name"
   ]
  },
  {
   "cell_type": "markdown",
   "metadata": {},
   "source": [
    "* 태그 구조로 위치 찾기2)"
   ]
  },
  {
   "cell_type": "code",
   "execution_count": 97,
   "metadata": {},
   "outputs": [
    {
     "data": {
      "text/plain": [
       "[<span class=\"name\"> 바나나 </span>]"
      ]
     },
     "execution_count": 97,
     "metadata": {},
     "output_type": "execute_result"
    }
   ],
   "source": [
    "tags_banana1 = soup.select('#fruits1 > span.name')\n",
    "tags_banana1"
   ]
  },
  {
   "cell_type": "markdown",
   "metadata": {},
   "source": [
    "* 태그 구조로 위치 찾기3)"
   ]
  },
  {
   "cell_type": "code",
   "execution_count": 101,
   "metadata": {},
   "outputs": [],
   "source": [
    "tags_banana2 = soup.select('div.sale > #fruits1 > span.name')\n",
    "tags_banana3 = soup.select('div.sale span.name')"
   ]
  },
  {
   "cell_type": "code",
   "execution_count": 102,
   "metadata": {},
   "outputs": [
    {
     "data": {
      "text/plain": [
       "[<span class=\"name\"> 바나나 </span>]"
      ]
     },
     "execution_count": 102,
     "metadata": {},
     "output_type": "execute_result"
    }
   ],
   "source": [
    "tags_banana2"
   ]
  },
  {
   "cell_type": "code",
   "execution_count": 103,
   "metadata": {},
   "outputs": [
    {
     "data": {
      "text/plain": [
       "[<span class=\"name\"> 바나나 </span>]"
      ]
     },
     "execution_count": 103,
     "metadata": {},
     "output_type": "execute_result"
    }
   ],
   "source": [
    "tags_banana3"
   ]
  },
  {
   "cell_type": "markdown",
   "metadata": {},
   "source": [
    "## 2.2.10 정보 가져오기1) - 태그 그룹에서 하나의 태그 선택"
   ]
  },
  {
   "cell_type": "code",
   "execution_count": 104,
   "metadata": {},
   "outputs": [
    {
     "data": {
      "text/plain": [
       "[<span class=\"name\"> 바나나 </span>, <span class=\"name\"> 파인애플 </span>]"
      ]
     },
     "execution_count": 104,
     "metadata": {},
     "output_type": "execute_result"
    }
   ],
   "source": [
    "tags = soup.select('span.name')\n",
    "tags"
   ]
  },
  {
   "cell_type": "code",
   "execution_count": 105,
   "metadata": {},
   "outputs": [
    {
     "data": {
      "text/plain": [
       "<span class=\"name\"> 바나나 </span>"
      ]
     },
     "execution_count": 105,
     "metadata": {},
     "output_type": "execute_result"
    }
   ],
   "source": [
    "tags[0]"
   ]
  },
  {
   "cell_type": "markdown",
   "metadata": {},
   "source": [
    "* 태그 그룹에서 반복문으로 태그 하나씩 선택하기"
   ]
  },
  {
   "cell_type": "code",
   "execution_count": 106,
   "metadata": {},
   "outputs": [
    {
     "name": "stdout",
     "output_type": "stream",
     "text": [
      "<span class=\"name\"> 바나나 </span>\n",
      "<span class=\"name\"> 파인애플 </span>\n"
     ]
    }
   ],
   "source": [
    "for tag in tags:\n",
    "    print(tag)"
   ]
  },
  {
   "cell_type": "markdown",
   "metadata": {},
   "source": [
    "## 2.2.11 정보 가져오기2) - 선택한 태그에서 정보 가져오기\n",
    "- content = TAG.text: 태그에서 화면에 보이는 텍스트 부분만 가져오기\n",
    "- attribute = TAG['속성명']: 태그 내 속성값 가져오기"
   ]
  },
  {
   "cell_type": "code",
   "execution_count": 107,
   "metadata": {},
   "outputs": [
    {
     "name": "stdout",
     "output_type": "stream",
     "text": [
      " 홈페이지 \n",
      "http://bit.ly/forPlaywithData\n"
     ]
    }
   ],
   "source": [
    "tags_a = soup.select('a')\n",
    "tag = tags_a[0]\n",
    "content = tag.text\n",
    "link = tag['href']\n",
    "print(content)\n",
    "print(link)"
   ]
  },
  {
   "cell_type": "markdown",
   "metadata": {},
   "source": [
    "## 2.2.12 멜론 노래 순위 정보 크롤링1)"
   ]
  },
  {
   "cell_type": "code",
   "execution_count": 109,
   "metadata": {},
   "outputs": [],
   "source": [
    "from selenium import webdriver\n",
    "driver = webdriver.Chrome('C:/Users/YHI/chromedriver.exe')"
   ]
  },
  {
   "cell_type": "code",
   "execution_count": 110,
   "metadata": {},
   "outputs": [],
   "source": [
    "url = 'https://www.melon.com/chart/index.htm'\n",
    "driver.get(url)"
   ]
  },
  {
   "cell_type": "code",
   "execution_count": 112,
   "metadata": {},
   "outputs": [],
   "source": [
    "html = driver.page_source"
   ]
  },
  {
   "cell_type": "code",
   "execution_count": 113,
   "metadata": {},
   "outputs": [],
   "source": [
    "from bs4 import BeautifulSoup\n",
    "soup = BeautifulSoup(html,'html.parser')"
   ]
  },
  {
   "cell_type": "code",
   "execution_count": 121,
   "metadata": {},
   "outputs": [],
   "source": [
    "top_list100 = soup.select('#tb_list tbody tr')"
   ]
  },
  {
   "cell_type": "code",
   "execution_count": 122,
   "metadata": {},
   "outputs": [
    {
     "name": "stdout",
     "output_type": "stream",
     "text": [
      "<tr data-song-no=\"33077590\">\n",
      "<td><div class=\"wrap t_right\"><input class=\"input_check\" name=\"input_check\" title=\"VVS (Feat. JUSTHIS) (Prod. GroovyRoom) 곡 선택\" type=\"checkbox\" value=\"33077590\"/></div></td>\n",
      "<td><div class=\"wrap\">\n",
      "<a class=\"image_typeAll\" href=\"javascript:melon.link.goAlbumDetail('10521601');\" title=\"쇼미더머니 9 Episode 1\">\n",
      "<img alt=\"쇼미더머니 9 Episode 1 - 페이지 이동\" height=\"60\" onerror=\"WEBPOCIMG.defaultAlbumImg(this);\" src=\"https://cdnimg.melon.co.kr/cm2/album/images/105/21/601/10521601_20201120125511_500.jpg/melon/resize/120/quality/80/optimize\" width=\"60\"/>\n",
      "<span class=\"bg_album_frame\"></span>\n",
      "</a>\n",
      "</div></td>\n",
      "<td><div class=\"wrap\">\n",
      "<a class=\"btn button_icons type03 song_info\" href=\"javascript:melon.link.goSongDetail('33077590');\" title=\"VVS (Feat. JUSTHIS) (Prod. GroovyRoom) 곡정보\"><span class=\"none\">곡정보</span></a>\n",
      "</div></td>\n",
      "<td><div class=\"wrap\">\n",
      "<div class=\"wrap_song_info\">\n",
      "<div class=\"ellipsis rank01\"><span>\n",
      "<a href=\"javascript:melon.play.playSong('19030101',33077590);\" title=\"VVS (Feat. JUSTHIS) (Prod. GroovyRoom) 재생\">VVS (Feat. JUSTHIS) (Prod. GroovyRoom)</a>\n",
      "</span></div>\n",
      "<br/>\n",
      "<div class=\"ellipsis rank02\">\n",
      "<a href=\"javascript:melon.link.goArtistDetail('2866523');\" title=\"미란이 - 페이지 이동\">미란이</a>, <a href=\"javascript:melon.link.goArtistDetail('2747971');\" title=\"먼치맨 - 페이지 이동\">먼치맨</a>, <a href=\"javascript:melon.link.goArtistDetail('1703507');\" title=\"Khundi Panda - 페이지 이동\">Khundi Panda</a>, <a href=\"javascript:melon.link.goArtistDetail('2745413');\" title=\"머쉬베놈 (MUSHVENOM) - 페이지 이동\">머쉬베놈 (MUSHVENOM)</a><span class=\"checkEllipsis\" style=\"display: none;\"><a href=\"javascript:melon.link.goArtistDetail('2866523');\" title=\"미란이 - 페이지 이동\">미란이</a>, <a href=\"javascript:melon.link.goArtistDetail('2747971');\" title=\"먼치맨 - 페이지 이동\">먼치맨</a>, <a href=\"javascript:melon.link.goArtistDetail('1703507');\" title=\"Khundi Panda - 페이지 이동\">Khundi Panda</a>, <a href=\"javascript:melon.link.goArtistDetail('2745413');\" title=\"머쉬베놈 (MUSHVENOM) - 페이지 이동\">머쉬베놈 (MUSHVENOM)</a></span>\n",
      "</div>\n",
      "<div class=\"wrap_atist\" style=\"\">\n",
      "<button class=\"button_icons etc more_down\" data-control=\"dropdown\" title=\"아티스트 더보기\" type=\"button\"><span class=\"none\">아티스트명 더보기</span></button>\n",
      "<div class=\"atist_view\" style=\"display:none;\">\n",
      "<ul>\n",
      "<li><a class=\"ellipsis\" href=\"javascript:melon.link.goArtistDetail('2866523');\" title=\"미란이 페이지 이동\">미란이</a></li>\n",
      "<li><a class=\"ellipsis\" href=\"javascript:melon.link.goArtistDetail('2747971');\" title=\"먼치맨 페이지 이동\">먼치맨</a></li>\n",
      "<li><a class=\"ellipsis\" href=\"javascript:melon.link.goArtistDetail('1703507');\" title=\"Khundi Panda 페이지 이동\">Khundi Panda</a></li>\n",
      "<li><a class=\"ellipsis\" href=\"javascript:melon.link.goArtistDetail('2745413');\" title=\"머쉬베놈 (MUSHVENOM) 페이지 이동\">머쉬베놈 (MUSHVENOM)</a></li>\n",
      "</ul>\n",
      "</div>\n",
      "</div>\n",
      "</div>\n",
      "</div></td>\n",
      "<td><div class=\"wrap\">\n",
      "<div class=\"wrap_song_info\">\n",
      "<div class=\"ellipsis rank03\">\n",
      "<a href=\"javascript:melon.link.goAlbumDetail('10521601');\" title=\"쇼미더머니 9 Episode 1 - 페이지 이동\">쇼미더머니 9 Episode 1</a>\n",
      "</div>\n",
      "</div>\n",
      "</div></td>\n",
      "<td><div class=\"wrap\">\n",
      "<button class=\"button_etc like\" data-song-menuid=\"19030101\" data-song-no=\"33077590\" title=\"VVS (Feat. JUSTHIS) (Prod. GroovyRoom) 좋아요\" type=\"button\"><span class=\"odd_span\">좋아요</span>\n",
      "<span class=\"cnt\">\n",
      "<span class=\"none\">총건수</span>\n",
      "73,682</span></button>\n",
      "</div></td>\n",
      "<td><div class=\"wrap t_center\">\n",
      "<button class=\"button_icons play\" onclick=\"melon.play.playSong('19030101',33077590);\" title=\"듣기\" type=\"button\"><span class=\"none\">듣기</span></button>\n",
      "</div></td>\n",
      "<td><div class=\"wrap t_center\">\n",
      "<button class=\"button_icons scrap\" onclick=\"melon.play.addPlayList('33077590');\" title=\"담기\" type=\"button\"><span class=\"none\">담기</span></button>\n",
      "</div></td>\n",
      "<td><div class=\"wrap t_center\">\n",
      "<button class=\"button_icons download\" onclick=\"melon.buy.goBuyProduct('frm', '33077590', '3C0001', '','0', '19030101');\" title=\"다운로드\" type=\"button\"><span class=\"none\">다운로드</span></button>\n",
      "</div></td>\n",
      "<td><div class=\"wrap t_center\">\n",
      "<button class=\"button_icons video disabled\" disabled=\"disabled\" onclick=\"melon.link.goMvDetail('19030101', '33077590','song');\" title=\"뮤직비디오\" type=\"button\"><span class=\"none\">뮤직비디오</span></button>\n",
      "</div></td>\n",
      "</tr>\n"
     ]
    }
   ],
   "source": [
    "print(top_list100[0])"
   ]
  },
  {
   "cell_type": "code",
   "execution_count": 125,
   "metadata": {},
   "outputs": [
    {
     "data": {
      "text/plain": [
       "(100, bs4.element.ResultSet)"
      ]
     },
     "execution_count": 125,
     "metadata": {},
     "output_type": "execute_result"
    }
   ],
   "source": [
    "len(top_list100), type(top_list100)"
   ]
  },
  {
   "cell_type": "markdown",
   "metadata": {},
   "source": [
    "* 한 개의 곡 정보 지정하기"
   ]
  },
  {
   "cell_type": "code",
   "execution_count": 124,
   "metadata": {},
   "outputs": [],
   "source": [
    "song = top_list100[0]"
   ]
  },
  {
   "cell_type": "code",
   "execution_count": 127,
   "metadata": {},
   "outputs": [
    {
     "data": {
      "text/plain": [
       "16"
      ]
     },
     "execution_count": 127,
     "metadata": {},
     "output_type": "execute_result"
    }
   ],
   "source": [
    "# 곡 제목 찾기 1\n",
    "title = song.select('a')\n",
    "len(title)"
   ]
  },
  {
   "cell_type": "code",
   "execution_count": 129,
   "metadata": {},
   "outputs": [
    {
     "data": {
      "text/plain": [
       "5"
      ]
     },
     "execution_count": 129,
     "metadata": {},
     "output_type": "execute_result"
    }
   ],
   "source": [
    "# 곡 제목 찾기 2\n",
    "title = song.select('span > a')\n",
    "len(title)"
   ]
  },
  {
   "cell_type": "code",
   "execution_count": 136,
   "metadata": {},
   "outputs": [
    {
     "data": {
      "text/plain": [
       "1"
      ]
     },
     "execution_count": 136,
     "metadata": {},
     "output_type": "execute_result"
    }
   ],
   "source": [
    "# 곡 제목 찾기 3\n",
    "title = song.select('div.ellipsis.rank01 > span > a')\n",
    "len(title)"
   ]
  },
  {
   "cell_type": "code",
   "execution_count": 139,
   "metadata": {},
   "outputs": [],
   "source": [
    "title = song.select('div.ellipsis.rank01 > span > a')"
   ]
  },
  {
   "cell_type": "code",
   "execution_count": 140,
   "metadata": {},
   "outputs": [
    {
     "data": {
      "text/plain": [
       "'VVS (Feat. JUSTHIS) (Prod. GroovyRoom)'"
      ]
     },
     "execution_count": 140,
     "metadata": {},
     "output_type": "execute_result"
    }
   ],
   "source": [
    "# 곡 제목 가져오기\n",
    "title = title[0].text\n",
    "title"
   ]
  },
  {
   "cell_type": "code",
   "execution_count": 148,
   "metadata": {},
   "outputs": [
    {
     "data": {
      "text/plain": [
       "['미란이', '먼치맨', 'Khundi Panda', '머쉬베놈 (MUSHVENOM)']"
      ]
     },
     "execution_count": 148,
     "metadata": {},
     "output_type": "execute_result"
    }
   ],
   "source": [
    "# 가수 찾기\n",
    "singers = song.select('div.ellipsis.rank02 > a')\n",
    "singer = []\n",
    "for sing in singers:\n",
    "    singer.append(sing.text)\n",
    "    \n",
    "singer"
   ]
  },
  {
   "cell_type": "code",
   "execution_count": 151,
   "metadata": {},
   "outputs": [
    {
     "name": "stdout",
     "output_type": "stream",
     "text": [
      "VVS (Feat. JUSTHIS) (Prod. GroovyRoom)|['미란이', '먼치맨', 'Khundi Panda', '머쉬베놈 (MUSHVENOM)']\n",
      "Dynamite|['방탄소년단']\n",
      "힘든 건 사랑이 아니다|['임창정']\n",
      "잠이 오질 않네요|['장범준']\n",
      "Lovesick Girls|['BLACKPINK']\n",
      "취기를 빌려 (취향저격 그녀 X 산들)|['산들']\n",
      "Life Goes On|['방탄소년단']\n",
      "Freak (Prod. Slom)|['릴보이 (lIlBOI)', '원슈타인', 'Chillin Homie', '스카이민혁 (Skyminhyuk)']\n",
      "DON'T TOUCH ME|['환불원정대']\n",
      "Savage Love (Laxed - Siren Beat) (BTS Remix)|['Jawsh 685', 'Jason Derulo', '방탄소년단']\n",
      "오래된 노래|['스탠딩 에그']\n",
      "밤하늘의 별을(2020)|['경서']\n",
      "딩가딩가 (Dingga)|['마마무 (Mamamoo)']\n",
      "내 마음이 움찔했던 순간 (취향저격 그녀 X 규현)|['규현 (KYUHYUN)']\n",
      "When We Disco (Duet with 선미)|['박진영']\n",
      "뻔한남자|['이승기']\n",
      "어떻게 이별까지 사랑하겠어, 널 사랑하는 거지|['AKMU (악동뮤지션)']\n",
      "원해 (Feat. 팔로알토) (Prod. 코드 쿤스트)|['스윙스', '맥대디 (Mckdaddy)', 'Khakii (카키)', '래원 (Layone)']\n",
      "가을밤에 든 생각|['잔나비']\n",
      "I CAN’T STOP ME|['TWICE (트와이스)']\n",
      "흔들리는 꽃들 속에서 네 샴푸향이 느껴진거야|['장범준']\n",
      "에잇(Prod.&Feat. SUGA of BTS)|['아이유']\n",
      "How You Like That|['BLACKPINK']\n",
      "어떻게 지내 (Prod. By VAN.C)|['오반']\n",
      "늦은 밤 너의 집 앞 골목길에서|['노을']\n",
      "눈누난나 (NUNU NANA)|['제시 (Jessi)']\n",
      "마리아 (Maria)|['화사 (Hwa Sa)']\n",
      "Dolphin|['오마이걸 (OH MY GIRL)']\n",
      "나랑 같이 걸을래 (바른연애 길잡이 X 적재)|['적재']\n",
      "아로하|['조정석']\n",
      "작은 것들을 위한 시 (Boy With Luv) (Feat. Halsey)|['방탄소년단']\n",
      "놓아줘 (with 태연)|['Crush']\n",
      "Blueming|['아이유']\n",
      "METEOR|['창모 (CHANGMO)']\n",
      "모든 날, 모든 순간 (Every day, Every Moment)|['폴킴']\n",
      "거짓말이라도 해서 널 보고싶어|['백지영']\n",
      "내 방을 여행하는 법|['방탄소년단']\n",
      "홀로|['이하이']\n",
      "Blue & Grey|['방탄소년단']\n",
      "서면역에서|['순순희']\n",
      "Dance Monkey|['Tones And I']\n",
      "Memories|['Maroon 5']\n",
      "사랑은 지날수록 더욱 선명하게 남아|['전상근']\n",
      "Downtown Baby|['블루 (BLOO)']\n",
      "윈윈 (Feat. 개코, BewhY) (Prod. BewhY)|['허성현 (Rose de Penny)', 'dsel (디젤)', '가오가이 (kaogaii)', 'Untell (언텔)']\n",
      "오늘도 빛나는 너에게 (To You My Light) (Feat.이라온)|['마크툽 (MAKTUB)']\n",
      "사실 나는 (Feat.전건호)|['경서예지']\n",
      "봄날|['방탄소년단']\n",
      "우리 왜 헤어져야 해|['신예영']\n",
      "마음을 드려요|['아이유']\n",
      "2002|['Anne-Marie']\n",
      "사랑 못해, 남들 쉽게 다 하는 거|['먼데이 키즈 (Monday Kiz)']\n",
      "다시 여기 바닷가|['싹쓰리 (유두래곤, 린다G, 비룡)']\n",
      "살짝 설렜어 (Nonstop)|['오마이걸 (OH MY GIRL)']\n",
      "Bad Boy|['청하', 'Christopher']\n",
      "잠시|['방탄소년단']\n",
      "소확행|['임창정']\n",
      "사랑하게 될 줄 알았어|['전미도']\n",
      "처음처럼|['엠씨더맥스 (M.C the MAX)']\n",
      "AYA|['마마무 (Mamamoo)']\n",
      "행복해|['송하예']\n",
      "Don't Start Now|['Dua Lipa']\n",
      "너도 아는|['폴킴']\n",
      "안녕|['폴킴']\n",
      "이제 나만 믿어요|['임영웅']\n",
      "Stay|['방탄소년단']\n",
      "HAPPENING|['AKMU (악동뮤지션)']\n",
      "ON|['방탄소년단']\n",
      "병|['방탄소년단']\n",
      "별을 담은 시 (Ode To The Stars)|['마크툽 (MAKTUB)', '이라온']\n",
      "너를 만나|['폴킴']\n",
      "아무노래|['지코 (ZICO)']\n",
      "12:45 (Stripped)|['Etham']\n",
      "Love poem|['아이유']\n",
      "덤디덤디 (DUMDi DUMDi)|['(여자)아이들']\n",
      "Pretty Savage|['BLACKPINK']\n",
      "축하해 (Prod. By VAN.C)|['오반']\n",
      "시작|['가호 (Gaho)']\n",
      "Maniac|['Conan Gray']\n",
      "Paris In The Rain|['Lauv']\n",
      "Not Shy|['ITZY (있지)']\n",
      "도망가|['MINO (송민호)']\n",
      "밤새 (취향저격 그녀 X 카더가든)|['카더가든']\n",
      "Ice Cream (with Selena Gomez)|['BLACKPINK']\n",
      "시든 꽃에 물을 주듯|['HYNN (박혜원)']\n",
      "Summer Hate (Feat. 비)|['지코 (ZICO)']\n",
      "보라빛 밤 (pporappippam)|['선미']\n",
      "그때 그 아인|['김필']\n",
      "첫 줄|['신용재 (2F)']\n",
      "취했나봐|['황인욱']\n",
      "가을 타나 봐|['바이브']\n",
      "너의 곁에만 맴돌아|['노을']\n",
      "좋은 사람 있으면 소개시켜줘|['조이 (JOY)']\n",
      "Psycho|['Red Velvet (레드벨벳)']\n",
      "bad guy|['Billie Eilish']\n",
      "Into the I-LAND|['아이유']\n",
      "Painkiller|['Ruel']\n",
      "니 이름 불렀나 봐|['V.O.S']\n",
      "광장동에서|['창모 (CHANGMO)']\n",
      "2020년 11월 어느 가을밤|['2F (신용재, 김원주)']\n"
     ]
    }
   ],
   "source": [
    "# 상위 100곡 제목과 가수정보\n",
    "\n",
    "for song in top_list100:\n",
    "    singers = []\n",
    "    title = song.select('div.ellipsis.rank01 > span > a')[0].text\n",
    "    singer_a_tag = song.select('div.ellipsis.rank02 > a')\n",
    "    for singer in singer_a_tag:\n",
    "        singers.append(singer.text)\n",
    "    print(title, singers, sep = '|')"
   ]
  },
  {
   "cell_type": "markdown",
   "metadata": {},
   "source": [
    "## 멜론 인기차트 상위 100곡 크롤링(정리)"
   ]
  },
  {
   "cell_type": "code",
   "execution_count": null,
   "metadata": {},
   "outputs": [],
   "source": [
    "from selenium import webdriver\n",
    "driver = webdriver.Chrome('C:/Users/YHI/chromedriver.exe')\n",
    "\n",
    "url = 'https://www.melon.com/chart/index.htm'\n",
    "driver.get(url)\n",
    "\n",
    "from bs4 import BeautifulSoup\n",
    "\n",
    "html = driver.page_source\n",
    "soup = BeautifulSoup(html, 'html.parser')\n",
    "\n",
    "top_list100 = soup.select('#tb_list tbody tr')\n",
    "\n",
    "for song in top_list100:\n",
    "    singers = []\n",
    "    title = song.select('div.ellipsis.rank01 > span > a')[0].text\n",
    "    singer_a_tag = song.select('div.ellipsis.rank02 > a')\n",
    "    for singer in singer_a_tag:\n",
    "        singers.append(singer.text)\n",
    "    print(title, singers, sep = '|')"
   ]
  },
  {
   "cell_type": "markdown",
   "metadata": {},
   "source": [
    "## 2.2.13 selenium을 활용한 크롤링\n",
    "- BeautifulSoup없이 html에서 필요한 정보를 찾아올 수 있다.\n",
    "- driver.find_elements_by_css_selector('조건')"
   ]
  },
  {
   "cell_type": "code",
   "execution_count": 154,
   "metadata": {},
   "outputs": [
    {
     "name": "stdout",
     "output_type": "stream",
     "text": [
      "VVS (Feat. JUSTHIS) (Prod. GroovyRoom)|['미란이', '먼치맨', 'Khundi Panda', '머쉬베놈 (MUSHVENOM)']\n",
      "Dynamite|['방탄소년단']\n",
      "힘든 건 사랑이 아니다|['임창정']\n",
      "잠이 오질 않네요|['장범준']\n",
      "Lovesick Girls|['BLACKPINK']\n",
      "취기를 빌려 (취향저격 그녀 X 산들)|['산들']\n",
      "Life Goes On|['방탄소년단']\n",
      "Freak (Prod. Slom)|['릴보이 (lIlBOI)', '원슈타인', 'Chillin Homie', '스카이민혁 (Skyminhyuk)']\n",
      "DON'T TOUCH ME|['환불원정대']\n",
      "Savage Love (Laxed - Siren Beat) (BTS Remix)|['Jawsh 685', 'Jason Derulo', '방탄소년단']\n",
      "오래된 노래|['스탠딩 에그']\n",
      "밤하늘의 별을(2020)|['경서']\n",
      "딩가딩가 (Dingga)|['마마무 (Mamamoo)']\n",
      "내 마음이 움찔했던 순간 (취향저격 그녀 X 규현)|['규현 (KYUHYUN)']\n",
      "When We Disco (Duet with 선미)|['박진영']\n",
      "뻔한남자|['이승기']\n",
      "어떻게 이별까지 사랑하겠어, 널 사랑하는 거지|['AKMU (악동뮤지션)']\n",
      "원해 (Feat. 팔로알토) (Prod. 코드 쿤스트)|['스윙스', '맥대디 (Mckdaddy)', 'Khakii (카키)', '래원 (Layone)']\n",
      "가을밤에 든 생각|['잔나비']\n",
      "흔들리는 꽃들 속에서 네 샴푸향이 느껴진거야|['장범준']\n",
      "I CAN’T STOP ME|['TWICE (트와이스)']\n",
      "에잇(Prod.&Feat. SUGA of BTS)|['아이유']\n",
      "How You Like That|['BLACKPINK']\n",
      "어떻게 지내 (Prod. By VAN.C)|['오반']\n",
      "늦은 밤 너의 집 앞 골목길에서|['노을']\n",
      "눈누난나 (NUNU NANA)|['제시 (Jessi)']\n",
      "마리아 (Maria)|['화사 (Hwa Sa)']\n",
      "Dolphin|['오마이걸 (OH MY GIRL)']\n",
      "나랑 같이 걸을래 (바른연애 길잡이 X 적재)|['적재']\n",
      "아로하|['조정석']\n",
      "작은 것들을 위한 시 (Boy With Luv) (Feat. Halsey)|['방탄소년단']\n",
      "놓아줘 (with 태연)|['Crush']\n",
      "Blueming|['아이유']\n",
      "METEOR|['창모 (CHANGMO)']\n",
      "모든 날, 모든 순간 (Every day, Every Moment)|['폴킴']\n",
      "거짓말이라도 해서 널 보고싶어|['백지영']\n",
      "내 방을 여행하는 법|['방탄소년단']\n",
      "홀로|['이하이']\n",
      "Blue & Grey|['방탄소년단']\n",
      "서면역에서|['순순희']\n",
      "Dance Monkey|['Tones And I']\n",
      "Memories|['Maroon 5']\n",
      "사랑은 지날수록 더욱 선명하게 남아|['전상근']\n",
      "Downtown Baby|['블루 (BLOO)']\n",
      "윈윈 (Feat. 개코, BewhY) (Prod. BewhY)|['허성현 (Rose de Penny)', 'dsel (디젤)', '가오가이 (kaogaii)', 'Untell (언텔)']\n",
      "오늘도 빛나는 너에게 (To You My Light) (Feat.이라온)|['마크툽 (MAKTUB)']\n",
      "사실 나는 (Feat.전건호)|['경서예지']\n",
      "봄날|['방탄소년단']\n",
      "우리 왜 헤어져야 해|['신예영']\n",
      "마음을 드려요|['아이유']\n",
      "2002|['Anne-Marie']\n",
      "사랑 못해, 남들 쉽게 다 하는 거|['먼데이 키즈 (Monday Kiz)']\n",
      "다시 여기 바닷가|['싹쓰리 (유두래곤, 린다G, 비룡)']\n",
      "살짝 설렜어 (Nonstop)|['오마이걸 (OH MY GIRL)']\n",
      "Bad Boy|['청하', 'Christopher']\n",
      "잠시|['방탄소년단']\n",
      "소확행|['임창정']\n",
      "사랑하게 될 줄 알았어|['전미도']\n",
      "처음처럼|['엠씨더맥스 (M.C the MAX)']\n",
      "AYA|['마마무 (Mamamoo)']\n",
      "Don't Start Now|['Dua Lipa']\n",
      "행복해|['송하예']\n",
      "안녕|['폴킴']\n",
      "이제 나만 믿어요|['임영웅']\n",
      "너도 아는|['폴킴']\n",
      "HAPPENING|['AKMU (악동뮤지션)']\n",
      "Stay|['방탄소년단']\n",
      "ON|['방탄소년단']\n",
      "너를 만나|['폴킴']\n",
      "별을 담은 시 (Ode To The Stars)|['마크툽 (MAKTUB)', '이라온']\n",
      "병|['방탄소년단']\n",
      "아무노래|['지코 (ZICO)']\n",
      "12:45 (Stripped)|['Etham']\n",
      "Love poem|['아이유']\n",
      "덤디덤디 (DUMDi DUMDi)|['(여자)아이들']\n",
      "Pretty Savage|['BLACKPINK']\n",
      "축하해 (Prod. By VAN.C)|['오반']\n",
      "시작|['가호 (Gaho)']\n",
      "Maniac|['Conan Gray']\n",
      "Paris In The Rain|['Lauv']\n",
      "Not Shy|['ITZY (있지)']\n",
      "도망가|['MINO (송민호)']\n",
      "밤새 (취향저격 그녀 X 카더가든)|['카더가든']\n",
      "시든 꽃에 물을 주듯|['HYNN (박혜원)']\n",
      "Summer Hate (Feat. 비)|['지코 (ZICO)']\n",
      "Ice Cream (with Selena Gomez)|['BLACKPINK']\n",
      "그때 그 아인|['김필']\n",
      "보라빛 밤 (pporappippam)|['선미']\n",
      "첫 줄|['신용재 (2F)']\n",
      "취했나봐|['황인욱']\n",
      "가을 타나 봐|['바이브']\n",
      "너의 곁에만 맴돌아|['노을']\n",
      "좋은 사람 있으면 소개시켜줘|['조이 (JOY)']\n",
      "bad guy|['Billie Eilish']\n",
      "Psycho|['Red Velvet (레드벨벳)']\n",
      "Into the I-LAND|['아이유']\n",
      "Painkiller|['Ruel']\n",
      "니 이름 불렀나 봐|['V.O.S']\n",
      "광장동에서|['창모 (CHANGMO)']\n",
      "Black Mamba|['aespa']\n"
     ]
    }
   ],
   "source": [
    "driver = webdriver.Chrome('C:/Users/YHI/chromedriver.exe')\n",
    "\n",
    "url = 'https://www.melon.com/chart/index.htm'\n",
    "driver.get(url)\n",
    "\n",
    "songs = driver.find_elements_by_css_selector('#tb_list tbody tr')\n",
    "\n",
    "for song in songs:\n",
    "    singers = []\n",
    "    title = song.find_elements_by_css_selector('div.ellipsis.rank01 > span > a')[0].text\n",
    "    singer_a_tag = song.find_elements_by_css_selector('div.ellipsis.rank02 > a')\n",
    "    for singer in singer_a_tag:\n",
    "        singers.append(singer.text)\n",
    "    print(title, singers, sep = '|')"
   ]
  },
  {
   "cell_type": "markdown",
   "metadata": {},
   "source": [
    "### 크롤링 방식 장단점 비교\n",
    "- BeautifulSoup는 웹 페이지의 HTML 정보를 다운로드 한 뒤에는 브라우저에서 정보를 가져오지 않는다. 때문에 속도가 빠르다.\n",
    "- selenium만 이용할 경우는 웹 페이지에 계속 접속하고 있어 정보 탐색 시간이 오래 걸린다. 하지만 접속 상태이므로 특정 위치를 선택한 뒤 클릭하거나 값을 입력하고 삭제하는 등의 브라우저 조작이 가능하다.\n",
    "\n",
    "#### 따라서 selenium을 이용하여 웹 페이지에 접속하고, 값을 입력하거나 클릭하는 등의 작업을 진행하고, 필요한 정보가 화면에 나타났을 때 HTML을 다운로드 한 뒤, 필요한 정보를 추출하는 방식 진행을 권장"
   ]
  },
  {
   "cell_type": "markdown",
   "metadata": {},
   "source": []
  }
 ],
 "metadata": {
  "kernelspec": {
   "display_name": "Python 3",
   "language": "python",
   "name": "python3"
  },
  "language_info": {
   "codemirror_mode": {
    "name": "ipython",
    "version": 3
   },
   "file_extension": ".py",
   "mimetype": "text/x-python",
   "name": "python",
   "nbconvert_exporter": "python",
   "pygments_lexer": "ipython3",
   "version": "3.6.10"
  }
 },
 "nbformat": 4,
 "nbformat_minor": 4
}
