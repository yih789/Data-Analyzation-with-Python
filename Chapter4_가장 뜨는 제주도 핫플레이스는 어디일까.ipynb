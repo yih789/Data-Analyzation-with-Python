{
 "cells": [
  {
   "cell_type": "markdown",
   "metadata": {},
   "source": [
    "# 4.1 인스타그램 크롤링"
   ]
  },
  {
   "cell_type": "markdown",
   "metadata": {},
   "source": [
    "## 4.1.1 크롤링 과정"
   ]
  },
  {
   "cell_type": "code",
   "execution_count": 9,
   "metadata": {},
   "outputs": [],
   "source": [
    "from selenium import webdriver\n",
    "driver = webdriver.Chrome('C:/Users/YHI/chromedriver.exe')\n",
    "\n",
    "url = 'https://www.instagram.com/'\n",
    "driver.get(url)"
   ]
  },
  {
   "cell_type": "markdown",
   "metadata": {},
   "source": [
    "## 4.1.2 인스타그램 검색 결과 URL을 만들어서 접속하기"
   ]
  },
  {
   "cell_type": "code",
   "execution_count": 1,
   "metadata": {},
   "outputs": [],
   "source": [
    "def insta_searching(word):\n",
    "    url = 'https://www.instagram.com/explore/tags/' + word\n",
    "    return url"
   ]
  },
  {
   "cell_type": "markdown",
   "metadata": {},
   "source": [
    "* 특정 URL에 접속"
   ]
  },
  {
   "cell_type": "code",
   "execution_count": null,
   "metadata": {},
   "outputs": [],
   "source": [
    "word = '제주도맛집'\n",
    "url = insta_searching(word)\n",
    "driver.get(url)"
   ]
  },
  {
   "cell_type": "markdown",
   "metadata": {},
   "source": [
    "## 4.1.3 첫 번째 게시글 열기\n",
    "- selenium으로 크롬드라이버를 조작해서 첫 번째 게시글 클릭"
   ]
  },
  {
   "cell_type": "code",
   "execution_count": 2,
   "metadata": {},
   "outputs": [],
   "source": [
    "import time\n",
    "\n",
    "def select_first(driver):\n",
    "    first = driver.find_element_by_css_selector('div._9AhH0')\n",
    "    first.click()\n",
    "    time.sleep(3) # 클릭한 후 정보를 로딩하는 데 시간이 소요되므로 3초 대기"
   ]
  },
  {
   "cell_type": "markdown",
   "metadata": {},
   "source": [
    "## * 4.1.4 게시글 정보 가져오기\n",
    "- 본문 내용, 작성 일시, 위치 정보, 본문에서 해시태그 추출"
   ]
  },
  {
   "cell_type": "code",
   "execution_count": 3,
   "metadata": {},
   "outputs": [],
   "source": [
    "import re\n",
    "from bs4 import BeautifulSoup\n",
    "\n",
    "def get_content(driver):\n",
    "    # 1. 현재 페이지의 html 정보 가져오기\n",
    "    html = driver.page_source\n",
    "    soup = BeautifulSoup(html, 'lxml')\n",
    "    \n",
    "    # 2. 본문 내용 가져오기\n",
    "    try:\n",
    "        content = soup.select('div.C4VMK > span')[0].text\n",
    "    except:\n",
    "        content = ' '\n",
    "    \n",
    "    # 3. 본문 내용에서 해시태그 가져오기(정규표현식 활용)\n",
    "    tags = re.findall(r'#[^\\s#,\\\\]+', content)\n",
    "    \n",
    "    # 4. 작성일자 정보 가져오기\n",
    "    date = soup.select('a.c-Yi7 > time')[0]['datetime'][:10]\n",
    "    \n",
    "    # 5. 좋아요 수 가져오기\n",
    "    try:\n",
    "        like = soup.select('div.Nm9Fw > button > span')[0].text\n",
    "    except:\n",
    "        like = 0\n",
    "        \n",
    "    # 6. 위치 정보 가져오기\n",
    "    try:\n",
    "        place = soup.select('div.JF9hh > a')[0].text\n",
    "    except:\n",
    "        place = ''\n",
    "    # 수집한 정보 저장하기\n",
    "    data = [content, date, like, place, tags]\n",
    "    \n",
    "    return data "
   ]
  },
  {
   "cell_type": "markdown",
   "metadata": {},
   "source": [
    "## 4.1.5 다음 게시글 열기"
   ]
  },
  {
   "cell_type": "code",
   "execution_count": 4,
   "metadata": {},
   "outputs": [],
   "source": [
    "def move_next(driver):\n",
    "    next_tag = driver.find_element_by_css_selector('a._65Bje.coreSpriteRightPaginationArrow')\n",
    "    next_tag.click()\n",
    "    time.sleep(3)"
   ]
  },
  {
   "cell_type": "markdown",
   "metadata": {},
   "source": [
    "## 4.1.6 여러 게시글 정보 수집하기\n",
    "1. 크롬 브라우저 열기\n",
    "2. 인스타그램 검색페이지 URL 만들기(insta_searching())\n",
    "3. 검색페이지 접속하기\n",
    "4. 첫 번째 게시물 출력하기\n",
    "5. 비어있는 변수 results 만들기\n",
    "6. 게시글 정보 가져오기(get_content())\n",
    "7. 게시글 정보 변수 results에 추가하기\n",
    "8. 다음 게시글 선택하기(move_next()) 반복하기\n",
    "9. 게시글 정보 수집 완료"
   ]
  },
  {
   "cell_type": "markdown",
   "metadata": {},
   "source": [
    "### * 인스타그램 크롤링 정리"
   ]
  },
  {
   "cell_type": "code",
   "execution_count": 5,
   "metadata": {},
   "outputs": [],
   "source": [
    "from selenium import webdriver\n",
    "from bs4 import BeautifulSoup\n",
    "import time\n",
    "import re\n",
    "\n",
    "# 크롬 브라우저 열기\n",
    "driver = webdriver.Chrome('C:/Users/YHI/chromedriver.exe')\n",
    "time.sleep(2)\n",
    "\n",
    "url = 'https://www.instagram.com/'\n",
    "driver.get(url)\n",
    "time.sleep(2)"
   ]
  },
  {
   "cell_type": "code",
   "execution_count": null,
   "metadata": {},
   "outputs": [],
   "source": [
    "# 인스타그램 검색페이지 URL 만들기\n",
    "word = '제주도맛집' # 검색어\n",
    "url = insta_searching(word)\n",
    "\n",
    "# 검색페이지 접속하기\n",
    "driver.get(url)\n",
    "time.sleep(3)\n",
    "\n",
    "# 첫 번째 게시글 열기\n",
    "select_first(driver)\n",
    "\n",
    "# 비어있는 변수 results 만들기\n",
    "results = []\n",
    "\n",
    "# 여러 게시물 수집하기\n",
    "target = 500\n",
    "for i in range(target):\n",
    "    data = get_content(driver)\n",
    "    results.append(data)\n",
    "    move_next(driver)\n",
    "    time.sleep(2)"
   ]
  },
  {
   "cell_type": "markdown",
   "metadata": {},
   "source": [
    "## 4.1.7 수집 데이터 저장"
   ]
  },
  {
   "cell_type": "code",
   "execution_count": 7,
   "metadata": {},
   "outputs": [
    {
     "data": {
      "text/html": [
       "<div>\n",
       "<style scoped>\n",
       "    .dataframe tbody tr th:only-of-type {\n",
       "        vertical-align: middle;\n",
       "    }\n",
       "\n",
       "    .dataframe tbody tr th {\n",
       "        vertical-align: top;\n",
       "    }\n",
       "\n",
       "    .dataframe thead th {\n",
       "        text-align: right;\n",
       "    }\n",
       "</style>\n",
       "<table border=\"1\" class=\"dataframe\">\n",
       "  <thead>\n",
       "    <tr style=\"text-align: right;\">\n",
       "      <th></th>\n",
       "      <th>0</th>\n",
       "      <th>1</th>\n",
       "      <th>2</th>\n",
       "      <th>3</th>\n",
       "      <th>4</th>\n",
       "    </tr>\n",
       "  </thead>\n",
       "  <tbody>\n",
       "    <tr>\n",
       "      <th>0</th>\n",
       "      <td>✨해월정 서귀포해월정의 푸짐한 한 상 차림💕다양하고 맛있는 진짜 보말의 맛을 만나세...</td>\n",
       "      <td>2020-11-27</td>\n",
       "      <td>0</td>\n",
       "      <td></td>\n",
       "      <td>[#제주도맛집, #제주맛집, #중문맛집, #제주중문맛집, #서귀포맛집, #천제연폭포...</td>\n",
       "    </tr>\n",
       "  </tbody>\n",
       "</table>\n",
       "</div>"
      ],
      "text/plain": [
       "                                                   0           1  2 3  \\\n",
       "0  ✨해월정 서귀포해월정의 푸짐한 한 상 차림💕다양하고 맛있는 진짜 보말의 맛을 만나세...  2020-11-27  0     \n",
       "\n",
       "                                                   4  \n",
       "0  [#제주도맛집, #제주맛집, #중문맛집, #제주중문맛집, #서귀포맛집, #천제연폭포...  "
      ]
     },
     "execution_count": 7,
     "metadata": {},
     "output_type": "execute_result"
    }
   ],
   "source": [
    "import pandas as pd\n",
    "\n",
    "results_df = pd.DataFrame(results)\n",
    "results_df.head(1)"
   ]
  },
  {
   "cell_type": "code",
   "execution_count": 8,
   "metadata": {},
   "outputs": [],
   "source": [
    "results_df.columns = ['content', 'date', 'like', 'place', 'tags']\n",
    "results_df.to_excel('files/crawling_jejudoMatJip.xlsx')"
   ]
  },
  {
   "cell_type": "markdown",
   "metadata": {},
   "source": [
    "### 반복문을 이용하여 여러 단어 한 번에 탐색"
   ]
  },
  {
   "cell_type": "code",
   "execution_count": 16,
   "metadata": {},
   "outputs": [],
   "source": [
    "import pandas as pd\n",
    "\n",
    "words = ['제주여행', '제주관광'] # 검색어\n",
    "file_path = ['files/crawling_jejuYeoHang.xlsx', 'files/crawling_jejuGwanGwang.xlsx']\n",
    "\n",
    "for j, word in enumerate(words):\n",
    "    # 인스타그램 검색페이지 URL 만들기\n",
    "    url = insta_searching(word)\n",
    "\n",
    "    # 검색페이지 접속하기\n",
    "    driver.get(url)\n",
    "    time.sleep(3)\n",
    "\n",
    "    # 첫 번째 게시글 열기\n",
    "    select_first(driver)\n",
    "\n",
    "    # 비어있는 변수 results 만들기\n",
    "    results = []\n",
    "\n",
    "    # 여러 게시물 수집하기\n",
    "    target = 50\n",
    "    for i in range(target):\n",
    "        data = get_content(driver)\n",
    "        results.append(data)\n",
    "        move_next(driver)\n",
    "        time.sleep(2)\n",
    "        \n",
    "    results_df = pd.DataFrame(results)\n",
    "    \n",
    "    results_df.columns = ['content', 'date', 'like', 'place', 'tags']\n",
    "    results_df.to_excel(file_path[j], index=False)"
   ]
  },
  {
   "cell_type": "code",
   "execution_count": null,
   "metadata": {},
   "outputs": [],
   "source": []
  },
  {
   "cell_type": "markdown",
   "metadata": {},
   "source": [
    "## 4.1.8 여러 엑셀 파일의 중복을 제거한 후 통합 저장"
   ]
  },
  {
   "cell_type": "code",
   "execution_count": 40,
   "metadata": {},
   "outputs": [
    {
     "data": {
      "text/html": [
       "<div>\n",
       "<style scoped>\n",
       "    .dataframe tbody tr th:only-of-type {\n",
       "        vertical-align: middle;\n",
       "    }\n",
       "\n",
       "    .dataframe tbody tr th {\n",
       "        vertical-align: top;\n",
       "    }\n",
       "\n",
       "    .dataframe thead th {\n",
       "        text-align: right;\n",
       "    }\n",
       "</style>\n",
       "<table border=\"1\" class=\"dataframe\">\n",
       "  <thead>\n",
       "    <tr style=\"text-align: right;\">\n",
       "      <th></th>\n",
       "      <th>content</th>\n",
       "      <th>date</th>\n",
       "      <th>like</th>\n",
       "      <th>place</th>\n",
       "      <th>tags</th>\n",
       "    </tr>\n",
       "  </thead>\n",
       "  <tbody>\n",
       "    <tr>\n",
       "      <th>0</th>\n",
       "      <td>✨해월정 서귀포해월정의 푸짐한 한 상 차림💕다양하고 맛있는 진짜 보말의 맛을 만나세...</td>\n",
       "      <td>2020-11-27</td>\n",
       "      <td>0</td>\n",
       "      <td>NaN</td>\n",
       "      <td>['#제주도맛집', '#제주맛집', '#중문맛집', '#제주중문맛집', '#서귀포맛...</td>\n",
       "    </tr>\n",
       "    <tr>\n",
       "      <th>1</th>\n",
       "      <td>11월 28일 토요일오전10시~밤12시까지 오늘도 정상 영업합니다뷰맛집ㆍ뷰카페상호 ...</td>\n",
       "      <td>2020-11-27</td>\n",
       "      <td>0</td>\n",
       "      <td>NaN</td>\n",
       "      <td>['#제주성산맛집', '#성산일출봉맛집', '#제주맛집', '#성산맛집', '#제주...</td>\n",
       "    </tr>\n",
       "    <tr>\n",
       "      <th>2</th>\n",
       "      <td>여러분이 편안하게 쉬어갈수있게 성산일출봉 뷰 빈백이준비 되어있고~👍⠀가성비 좋은 맛...</td>\n",
       "      <td>2020-11-27</td>\n",
       "      <td>0</td>\n",
       "      <td>NaN</td>\n",
       "      <td>['#제주도맛집', '#성산일출봉카페', '#애월맛집', '#세화카페', '#제주공...</td>\n",
       "    </tr>\n",
       "    <tr>\n",
       "      <th>3</th>\n",
       "      <td>산도롱맨도롱----------🍜제주 유일무이 고기국수 맛집🍜제주도 여행 필수코스 산...</td>\n",
       "      <td>2020-11-27</td>\n",
       "      <td>0</td>\n",
       "      <td>NaN</td>\n",
       "      <td>['#제주도맛집', '#제주맛집', '#제주도고기국수', '#성산일출봉맛집', '#...</td>\n",
       "    </tr>\n",
       "    <tr>\n",
       "      <th>4</th>\n",
       "      <td>&lt;광고&gt;지금 제주도여행중이시라면 차 한 잔에 천상의맛 카이막 드시러 오세요😘💙 사회...</td>\n",
       "      <td>2020-11-28</td>\n",
       "      <td>0</td>\n",
       "      <td>NaN</td>\n",
       "      <td>['#쉬어갓', '#제주맛집', '#제주도맛집', '#표선맛집', '#성산맛집', ...</td>\n",
       "    </tr>\n",
       "  </tbody>\n",
       "</table>\n",
       "</div>"
      ],
      "text/plain": [
       "                                             content        date like place  \\\n",
       "0  ✨해월정 서귀포해월정의 푸짐한 한 상 차림💕다양하고 맛있는 진짜 보말의 맛을 만나세...  2020-11-27    0   NaN   \n",
       "1  11월 28일 토요일오전10시~밤12시까지 오늘도 정상 영업합니다뷰맛집ㆍ뷰카페상호 ...  2020-11-27    0   NaN   \n",
       "2  여러분이 편안하게 쉬어갈수있게 성산일출봉 뷰 빈백이준비 되어있고~👍⠀가성비 좋은 맛...  2020-11-27    0   NaN   \n",
       "3  산도롱맨도롱----------🍜제주 유일무이 고기국수 맛집🍜제주도 여행 필수코스 산...  2020-11-27    0   NaN   \n",
       "4  <광고>지금 제주도여행중이시라면 차 한 잔에 천상의맛 카이막 드시러 오세요😘💙 사회...  2020-11-28    0   NaN   \n",
       "\n",
       "                                                tags  \n",
       "0  ['#제주도맛집', '#제주맛집', '#중문맛집', '#제주중문맛집', '#서귀포맛...  \n",
       "1  ['#제주성산맛집', '#성산일출봉맛집', '#제주맛집', '#성산맛집', '#제주...  \n",
       "2  ['#제주도맛집', '#성산일출봉카페', '#애월맛집', '#세화카페', '#제주공...  \n",
       "3  ['#제주도맛집', '#제주맛집', '#제주도고기국수', '#성산일출봉맛집', '#...  \n",
       "4  ['#쉬어갓', '#제주맛집', '#제주도맛집', '#표선맛집', '#성산맛집', ...  "
      ]
     },
     "execution_count": 40,
     "metadata": {},
     "output_type": "execute_result"
    }
   ],
   "source": [
    "import pandas as pd\n",
    "\n",
    "jeju_insta_df = pd.DataFrame()\n",
    "\n",
    "folder = 'files/'\n",
    "f_list = ['crawling_jejudoMatJip.xlsx', 'crawling_jejuMatJip.xlsx', 'crawling_jejuYeoHang.xlsx', 'crawling_jejuGwanGwang.xlsx']\n",
    "\n",
    "for fname in f_list:\n",
    "    fpath = folder + fname\n",
    "    temp = pd.read_excel(fpath)\n",
    "    jeju_insta_df = jeju_insta_df.append(temp, ignore_index=True)\n",
    "    \n",
    "jeju_insta_df.columns = ['content', 'date', 'like', 'place', 'tags']\n",
    "\n",
    "jeju_insta_df.head()"
   ]
  },
  {
   "cell_type": "code",
   "execution_count": 43,
   "metadata": {},
   "outputs": [],
   "source": [
    "# 중복 데이터 제거하고 저장하기\n",
    "# content 데이터의 내용 중복성을 보고 제거\n",
    "# inplace=True: 원본 데이터를 아예 변경\n",
    "# 기본적으로 pandas는 복구가 용이하도록 inplace=False로 지정되어 있다.\n",
    "jeju_insta_df.drop_duplicates(subset = ['content'], inplace=True)\n",
    "jeju_insta_df.to_excel('files/insta_total_jeju_crawling.xlsx')"
   ]
  },
  {
   "cell_type": "markdown",
   "metadata": {},
   "source": [
    "# 4.2 워드 클라우드\n",
    "- 텍스트 내에서 출현하는 단어들의 출연 빈도수에 비례하는 크기로 표출한 그래프"
   ]
  },
  {
   "cell_type": "markdown",
   "metadata": {},
   "source": [
    "## 4.2.1 워드 클라우드 만드는 과정\n",
    "- 해시태그 데이터를 이용하여 빈도수를 집계한다.\n",
    "- 그래프로 살펴봐 불필요한 해시태그는 제거하고 의미 있는 해시태크들로 워드 클라우드를 생성해본다."
   ]
  },
  {
   "cell_type": "markdown",
   "metadata": {},
   "source": [
    "## 4.2.2 해시태그 데이터 불러오기"
   ]
  },
  {
   "cell_type": "code",
   "execution_count": 23,
   "metadata": {},
   "outputs": [
    {
     "data": {
      "text/plain": [
       "0    ['#제주도맛집', '#제주맛집', '#중문맛집', '#제주중문맛집', '#서귀포맛...\n",
       "1    ['#제주성산맛집', '#성산일출봉맛집', '#제주맛집', '#성산맛집', '#제주...\n",
       "2    ['#제주도맛집', '#성산일출봉카페', '#애월맛집', '#세화카페', '#제주공...\n",
       "Name: tags, dtype: object"
      ]
     },
     "execution_count": 23,
     "metadata": {},
     "output_type": "execute_result"
    }
   ],
   "source": [
    "import pandas as pd\n",
    "raw_total = pd.read_excel('files/insta_total_jeju_crawling.xlsx')\n",
    "raw_total['tags'][:3] # []기호가 포함된 문자열 데이터인 것을 확인"
   ]
  },
  {
   "cell_type": "code",
   "execution_count": 24,
   "metadata": {},
   "outputs": [],
   "source": [
    "tags_total = []\n",
    "\n",
    "for tags in raw_total['tags']:\n",
    "    tags_list = tags[2:-2].split(\"', '\")\n",
    "    for tag in tags_list:\n",
    "        tags_total.append(tag)"
   ]
  },
  {
   "cell_type": "markdown",
   "metadata": {},
   "source": [
    "## 4.2.3 해시태그 출현 빈도 집계"
   ]
  },
  {
   "cell_type": "code",
   "execution_count": 6,
   "metadata": {},
   "outputs": [],
   "source": [
    "from collections import Counter\n",
    "# Counter를 이용하면 그룹 내 원소의 종류별로 빈도수를 집계할 수 있다.\n",
    "tag_counts = Counter(tags_total)"
   ]
  },
  {
   "cell_type": "code",
   "execution_count": 7,
   "metadata": {},
   "outputs": [
    {
     "data": {
      "text/plain": [
       "[('#제주도맛집', 246),\n",
       " ('#제주맛집', 110),\n",
       " ('', 110),\n",
       " ('#제주도', 81),\n",
       " ('#제주도여행', 71),\n",
       " ('#제주여행', 65),\n",
       " ('#서귀포맛집', 54),\n",
       " ('#제주공항근처맛집', 50),\n",
       " ('#제주시맛집', 44),\n",
       " ('#제주', 38),\n",
       " ('#제주도카페', 36),\n",
       " ('#애월맛집', 33),\n",
       " ('#제주공항맛집', 31),\n",
       " ('#중문맛집', 26),\n",
       " ('#제주도가볼만한곳', 26),\n",
       " ('#제주카페', 25),\n",
       " ('#제주도민맛집', 25),\n",
       " ('#제주관광', 25),\n",
       " ('#제주가볼만한곳', 22),\n",
       " ('#제주흑돼지맛집', 22),\n",
       " ('#제주도맛집', 22),\n",
       " ('#제주도맛집추천', 21),\n",
       " ('#먹스타그램', 21),\n",
       " ('#제주도흑돼지맛집', 20),\n",
       " ('#jeju', 20),\n",
       " ('#제주핫플', 20),\n",
       " ('#협재맛집', 19),\n",
       " ('#제주흑돼지', 19),\n",
       " ('#제주도', 18),\n",
       " ('#일상', 17),\n",
       " ('#소통', 17),\n",
       " ('#제주현지인맛집', 16),\n",
       " ('#서귀포흑돼지맛집', 15),\n",
       " ('#중문흑돼지맛집', 15),\n",
       " ('#오설록맛집', 15),\n",
       " ('#맞팔', 15),\n",
       " ('#연동맛집', 15),\n",
       " ('#한림맛집', 14),\n",
       " ('#연동제주분식', 14),\n",
       " ('#제주맛집추천', 13),\n",
       " ('#맛스타그램', 13),\n",
       " ('#맛집', 13),\n",
       " ('#제주도여행코스', 13),\n",
       " ('#제주도여행', 13),\n",
       " ('#제주맛집', 13),\n",
       " ('#함덕맛집', 12),\n",
       " ('#제주도흑돼지맛집까망돼지', 12),\n",
       " ('#애월카페', 12),\n",
       " ('#서귀포', 12),\n",
       " ('#애월', 12)]"
      ]
     },
     "execution_count": 7,
     "metadata": {},
     "output_type": "execute_result"
    }
   ],
   "source": [
    "# 가장 많이 사용된 해시태그 확인\n",
    "tag_counts.most_common(50)"
   ]
  },
  {
   "cell_type": "code",
   "execution_count": 35,
   "metadata": {},
   "outputs": [],
   "source": [
    "# 데이터 정재: '제주도맛집'과 관련 없는 해시태그 제외\n",
    "STOPWORDS = ['#일상', '#소통', '#맞팔', '']"
   ]
  },
  {
   "cell_type": "code",
   "execution_count": 36,
   "metadata": {},
   "outputs": [],
   "source": [
    "tag_total_selected = []\n",
    "\n",
    "for tag in tags_total:\n",
    "    if tag not in STOPWORDS:\n",
    "        tag_total_selected.append(tag)"
   ]
  },
  {
   "cell_type": "code",
   "execution_count": 38,
   "metadata": {},
   "outputs": [
    {
     "data": {
      "text/plain": [
       "[('#제주도맛집', 246),\n",
       " ('#제주맛집', 110),\n",
       " ('#제주도', 81),\n",
       " ('#제주도여행', 71),\n",
       " ('#제주여행', 65),\n",
       " ('#서귀포맛집', 54),\n",
       " ('#제주공항근처맛집', 50),\n",
       " ('#제주시맛집', 44),\n",
       " ('#제주', 38),\n",
       " ('#제주도카페', 36),\n",
       " ('#애월맛집', 33),\n",
       " ('#제주공항맛집', 31),\n",
       " ('#중문맛집', 26),\n",
       " ('#제주도가볼만한곳', 26),\n",
       " ('#제주카페', 25),\n",
       " ('#제주도민맛집', 25),\n",
       " ('#제주관광', 25),\n",
       " ('#제주가볼만한곳', 22),\n",
       " ('#제주흑돼지맛집', 22),\n",
       " ('#제주도맛집', 22),\n",
       " ('#제주도맛집추천', 21),\n",
       " ('#먹스타그램', 21),\n",
       " ('#제주도흑돼지맛집', 20),\n",
       " ('#jeju', 20),\n",
       " ('#제주핫플', 20),\n",
       " ('#협재맛집', 19),\n",
       " ('#제주흑돼지', 19),\n",
       " ('#제주도', 18),\n",
       " ('#제주현지인맛집', 16),\n",
       " ('#서귀포흑돼지맛집', 15),\n",
       " ('#중문흑돼지맛집', 15),\n",
       " ('#오설록맛집', 15),\n",
       " ('#연동맛집', 15),\n",
       " ('#한림맛집', 14),\n",
       " ('#연동제주분식', 14),\n",
       " ('#제주맛집추천', 13),\n",
       " ('#맛스타그램', 13),\n",
       " ('#맛집', 13),\n",
       " ('#제주도여행코스', 13),\n",
       " ('#제주도여행', 13),\n",
       " ('#제주맛집', 13),\n",
       " ('#함덕맛집', 12),\n",
       " ('#제주도흑돼지맛집까망돼지', 12),\n",
       " ('#애월카페', 12),\n",
       " ('#서귀포', 12),\n",
       " ('#애월', 12),\n",
       " ('#좋아요', 12),\n",
       " ('#제주여행', 12),\n",
       " ('#제주도핫플레이스', 12),\n",
       " ('#성산맛집', 11)]"
      ]
     },
     "execution_count": 38,
     "metadata": {},
     "output_type": "execute_result"
    }
   ],
   "source": [
    "from collections import Counter\n",
    "# Counter를 이용하면 그룹 내 원소의 종류별로 빈도수를 집계할 수 있다.\n",
    "tag_counts = Counter(tag_total_selected)\n",
    "# 가장 많이 사용된 해시태그 확인\n",
    "tag_counts.most_common(50)"
   ]
  },
  {
   "cell_type": "markdown",
   "metadata": {},
   "source": [
    "## 4.2.4 막대차트로 해시태그 살펴보기"
   ]
  },
  {
   "cell_type": "code",
   "execution_count": 40,
   "metadata": {},
   "outputs": [],
   "source": [
    "# 시각화 라이브러리 임포트 및 글꼴 설정\n",
    "import matplotlib.pyplot as plt\n",
    "import seaborn as sns\n",
    "from matplotlib import font_manager, rc\n",
    "import sys\n",
    "\n",
    "if sys.platform in ['win32', 'win64']:\n",
    "    font_name = 'malgun gothic'\n",
    "elif sys.platform == 'darwin':\n",
    "    font_name == 'AppleGothic'\n",
    "    \n",
    "rc('font', family = font_name)"
   ]
  },
  {
   "cell_type": "code",
   "execution_count": 42,
   "metadata": {},
   "outputs": [],
   "source": [
    "# 데이터 준비\n",
    "tag_counts_df = pd.DataFrame(tag_counts.most_common(30))\n",
    "tag_counts_df.columns = ['tags', 'counts']"
   ]
  },
  {
   "cell_type": "code",
   "execution_count": 43,
   "metadata": {},
   "outputs": [
    {
     "data": {
      "text/html": [
       "<div>\n",
       "<style scoped>\n",
       "    .dataframe tbody tr th:only-of-type {\n",
       "        vertical-align: middle;\n",
       "    }\n",
       "\n",
       "    .dataframe tbody tr th {\n",
       "        vertical-align: top;\n",
       "    }\n",
       "\n",
       "    .dataframe thead th {\n",
       "        text-align: right;\n",
       "    }\n",
       "</style>\n",
       "<table border=\"1\" class=\"dataframe\">\n",
       "  <thead>\n",
       "    <tr style=\"text-align: right;\">\n",
       "      <th></th>\n",
       "      <th>tags</th>\n",
       "      <th>counts</th>\n",
       "    </tr>\n",
       "  </thead>\n",
       "  <tbody>\n",
       "    <tr>\n",
       "      <th>0</th>\n",
       "      <td>#제주도맛집</td>\n",
       "      <td>246</td>\n",
       "    </tr>\n",
       "    <tr>\n",
       "      <th>1</th>\n",
       "      <td>#제주맛집</td>\n",
       "      <td>110</td>\n",
       "    </tr>\n",
       "    <tr>\n",
       "      <th>2</th>\n",
       "      <td>#제주도</td>\n",
       "      <td>81</td>\n",
       "    </tr>\n",
       "    <tr>\n",
       "      <th>3</th>\n",
       "      <td>#제주도여행</td>\n",
       "      <td>71</td>\n",
       "    </tr>\n",
       "    <tr>\n",
       "      <th>4</th>\n",
       "      <td>#제주여행</td>\n",
       "      <td>65</td>\n",
       "    </tr>\n",
       "  </tbody>\n",
       "</table>\n",
       "</div>"
      ],
      "text/plain": [
       "     tags  counts\n",
       "0  #제주도맛집     246\n",
       "1   #제주맛집     110\n",
       "2    #제주도      81\n",
       "3  #제주도여행      71\n",
       "4   #제주여행      65"
      ]
     },
     "execution_count": 43,
     "metadata": {},
     "output_type": "execute_result"
    }
   ],
   "source": [
    "tag_counts_df.head()"
   ]
  },
  {
   "cell_type": "code",
   "execution_count": 44,
   "metadata": {},
   "outputs": [
    {
     "data": {
      "text/plain": [
       "<matplotlib.axes._subplots.AxesSubplot at 0x25477780780>"
      ]
     },
     "execution_count": 44,
     "metadata": {},
     "output_type": "execute_result"
    },
    {
     "data": {
      "image/png": "[encoded data removed]",
      "text/plain": [
       "<Figure size 720x576 with 1 Axes>"
      ]
     },
     "metadata": {
      "needs_background": "light"
     },
     "output_type": "display_data"
    }
   ],
   "source": [
    "# 막대 차트 그리기\n",
    "plt.figure(figsize = (10, 8))\n",
    "sns.barplot(x = 'counts', y='tags', data=tag_counts_df)"
   ]
  },
  {
   "cell_type": "markdown",
   "metadata": {},
   "source": [
    "## 4.2.5 워드 클라우드 그리기"
   ]
  },
  {
   "cell_type": "code",
   "execution_count": 47,
   "metadata": {},
   "outputs": [],
   "source": [
    "# 워드 클라우드 라이브러리 불러오기\n",
    "import matplotlib.pyplot as plt\n",
    "from wordcloud import WordCloud\n",
    "import platform\n",
    "\n",
    "if platform.system() == 'Windows':\n",
    "    font_path = 'C:/Windows/Fonts/malgun.ttf'\n",
    "elif platform.system() == 'Darwin':\n",
    "    font_path = '/Users/$USER/Library/Fonts/AppleGothic.ttf'"
   ]
  },
  {
   "cell_type": "code",
   "execution_count": 60,
   "metadata": {},
   "outputs": [
    {
     "data": {
      "image/png": "[encoded data removed]",
      "text/plain": [
       "<Figure size 1080x720 with 1 Axes>"
      ]
     },
     "metadata": {
      "needs_background": "light"
     },
     "output_type": "display_data"
    }
   ],
   "source": [
    "# 워드 클라우드 만들기\n",
    "wordcloud = WordCloud(font_path = font_path, # 글꼴\n",
    "                     background_color = 'white', # 배경색\n",
    "                     max_words = 100, # 최대 표현 단어\n",
    "                     relative_scaling = 0.3, # 글자들의 상대적 크기 #0부터 1까지\n",
    "                     width = 800,\n",
    "                     height = 400,\n",
    "                     ).generate_from_frequencies(tag_counts)\n",
    "plt.figure(figsize = (15,10))\n",
    "plt.imshow(wordcloud)\n",
    "plt.axis('off')\n",
    "plt.savefig('./files/tag-wordcloud.png')"
   ]
  },
  {
   "cell_type": "markdown",
   "metadata": {},
   "source": [
    "# 4.3 지도 시각화"
   ]
  },
  {
   "cell_type": "markdown",
   "metadata": {},
   "source": [
    "## 4.3.1 지도 시각화 과정\n",
    "- 위치 정보를 수집한 후 카카오 API를 활용해 위도/경도 좌표로 변환하고\n",
    "- folium 라이브러리를 활용해 지도에 표시해본다."
   ]
  },
  {
   "cell_type": "markdown",
   "metadata": {},
   "source": [
    "## 4.3.2 데이터 준비"
   ]
  },
  {
   "cell_type": "code",
   "execution_count": 1,
   "metadata": {},
   "outputs": [
    {
     "data": {
      "text/html": [
       "<div>\n",
       "<style scoped>\n",
       "    .dataframe tbody tr th:only-of-type {\n",
       "        vertical-align: middle;\n",
       "    }\n",
       "\n",
       "    .dataframe tbody tr th {\n",
       "        vertical-align: top;\n",
       "    }\n",
       "\n",
       "    .dataframe thead th {\n",
       "        text-align: right;\n",
       "    }\n",
       "</style>\n",
       "<table border=\"1\" class=\"dataframe\">\n",
       "  <thead>\n",
       "    <tr style=\"text-align: right;\">\n",
       "      <th></th>\n",
       "      <th>Unnamed: 0</th>\n",
       "      <th>content</th>\n",
       "      <th>date</th>\n",
       "      <th>like</th>\n",
       "      <th>place</th>\n",
       "      <th>tags</th>\n",
       "    </tr>\n",
       "  </thead>\n",
       "  <tbody>\n",
       "    <tr>\n",
       "      <th>0</th>\n",
       "      <td>0</td>\n",
       "      <td>✨해월정 서귀포해월정의 푸짐한 한 상 차림💕다양하고 맛있는 진짜 보말의 맛을 만나세...</td>\n",
       "      <td>2020-11-27</td>\n",
       "      <td>0</td>\n",
       "      <td>NaN</td>\n",
       "      <td>['#제주도맛집', '#제주맛집', '#중문맛집', '#제주중문맛집', '#서귀포맛...</td>\n",
       "    </tr>\n",
       "    <tr>\n",
       "      <th>1</th>\n",
       "      <td>1</td>\n",
       "      <td>11월 28일 토요일오전10시~밤12시까지 오늘도 정상 영업합니다뷰맛집ㆍ뷰카페상호 ...</td>\n",
       "      <td>2020-11-27</td>\n",
       "      <td>0</td>\n",
       "      <td>NaN</td>\n",
       "      <td>['#제주성산맛집', '#성산일출봉맛집', '#제주맛집', '#성산맛집', '#제주...</td>\n",
       "    </tr>\n",
       "    <tr>\n",
       "      <th>2</th>\n",
       "      <td>2</td>\n",
       "      <td>여러분이 편안하게 쉬어갈수있게 성산일출봉 뷰 빈백이준비 되어있고~👍⠀가성비 좋은 맛...</td>\n",
       "      <td>2020-11-27</td>\n",
       "      <td>0</td>\n",
       "      <td>NaN</td>\n",
       "      <td>['#제주도맛집', '#성산일출봉카페', '#애월맛집', '#세화카페', '#제주공...</td>\n",
       "    </tr>\n",
       "    <tr>\n",
       "      <th>3</th>\n",
       "      <td>3</td>\n",
       "      <td>산도롱맨도롱----------🍜제주 유일무이 고기국수 맛집🍜제주도 여행 필수코스 산...</td>\n",
       "      <td>2020-11-27</td>\n",
       "      <td>0</td>\n",
       "      <td>NaN</td>\n",
       "      <td>['#제주도맛집', '#제주맛집', '#제주도고기국수', '#성산일출봉맛집', '#...</td>\n",
       "    </tr>\n",
       "    <tr>\n",
       "      <th>4</th>\n",
       "      <td>4</td>\n",
       "      <td>&lt;광고&gt;지금 제주도여행중이시라면 차 한 잔에 천상의맛 카이막 드시러 오세요😘💙 사회...</td>\n",
       "      <td>2020-11-28</td>\n",
       "      <td>0</td>\n",
       "      <td>NaN</td>\n",
       "      <td>['#쉬어갓', '#제주맛집', '#제주도맛집', '#표선맛집', '#성산맛집', ...</td>\n",
       "    </tr>\n",
       "  </tbody>\n",
       "</table>\n",
       "</div>"
      ],
      "text/plain": [
       "   Unnamed: 0                                            content        date  \\\n",
       "0           0  ✨해월정 서귀포해월정의 푸짐한 한 상 차림💕다양하고 맛있는 진짜 보말의 맛을 만나세...  2020-11-27   \n",
       "1           1  11월 28일 토요일오전10시~밤12시까지 오늘도 정상 영업합니다뷰맛집ㆍ뷰카페상호 ...  2020-11-27   \n",
       "2           2  여러분이 편안하게 쉬어갈수있게 성산일출봉 뷰 빈백이준비 되어있고~👍⠀가성비 좋은 맛...  2020-11-27   \n",
       "3           3  산도롱맨도롱----------🍜제주 유일무이 고기국수 맛집🍜제주도 여행 필수코스 산...  2020-11-27   \n",
       "4           4  <광고>지금 제주도여행중이시라면 차 한 잔에 천상의맛 카이막 드시러 오세요😘💙 사회...  2020-11-28   \n",
       "\n",
       "  like place                                               tags  \n",
       "0    0   NaN  ['#제주도맛집', '#제주맛집', '#중문맛집', '#제주중문맛집', '#서귀포맛...  \n",
       "1    0   NaN  ['#제주성산맛집', '#성산일출봉맛집', '#제주맛집', '#성산맛집', '#제주...  \n",
       "2    0   NaN  ['#제주도맛집', '#성산일출봉카페', '#애월맛집', '#세화카페', '#제주공...  \n",
       "3    0   NaN  ['#제주도맛집', '#제주맛집', '#제주도고기국수', '#성산일출봉맛집', '#...  \n",
       "4    0   NaN  ['#쉬어갓', '#제주맛집', '#제주도맛집', '#표선맛집', '#성산맛집', ...  "
      ]
     },
     "execution_count": 1,
     "metadata": {},
     "output_type": "execute_result"
    }
   ],
   "source": [
    "import pandas as pd\n",
    "raw_total = pd.read_excel('files/insta_total_jeju_crawling.xlsx')\n",
    "raw_total.head()"
   ]
  },
  {
   "cell_type": "code",
   "execution_count": 6,
   "metadata": {},
   "outputs": [
    {
     "data": {
      "text/plain": [
       "Jeju                           14\n",
       "Jeju-do                        10\n",
       "제주도                             7\n",
       "환상의 섬 Jeju Island               6\n",
       "서귀포 신시가지                        6\n",
       "                               ..\n",
       "은희네해장국                          1\n",
       "성산일출봉 (Seongsan Ilchulbong)     1\n",
       "제주 성산일출봉                        1\n",
       "느루,온穩                           1\n",
       "Road129                         1\n",
       "Name: place, Length: 148, dtype: int64"
      ]
     },
     "execution_count": 6,
     "metadata": {},
     "output_type": "execute_result"
    }
   ],
   "source": [
    "# 위치 정보별로 빈도수 집계\n",
    "location_counts = raw_total['place'].value_counts()\n",
    "location_counts"
   ]
  },
  {
   "cell_type": "code",
   "execution_count": 3,
   "metadata": {},
   "outputs": [
    {
     "data": {
      "text/html": [
       "<div>\n",
       "<style scoped>\n",
       "    .dataframe tbody tr th:only-of-type {\n",
       "        vertical-align: middle;\n",
       "    }\n",
       "\n",
       "    .dataframe tbody tr th {\n",
       "        vertical-align: top;\n",
       "    }\n",
       "\n",
       "    .dataframe thead th {\n",
       "        text-align: right;\n",
       "    }\n",
       "</style>\n",
       "<table border=\"1\" class=\"dataframe\">\n",
       "  <thead>\n",
       "    <tr style=\"text-align: right;\">\n",
       "      <th></th>\n",
       "      <th>place</th>\n",
       "    </tr>\n",
       "  </thead>\n",
       "  <tbody>\n",
       "    <tr>\n",
       "      <th>Jeju</th>\n",
       "      <td>14</td>\n",
       "    </tr>\n",
       "    <tr>\n",
       "      <th>Jeju-do</th>\n",
       "      <td>10</td>\n",
       "    </tr>\n",
       "    <tr>\n",
       "      <th>제주도</th>\n",
       "      <td>7</td>\n",
       "    </tr>\n",
       "    <tr>\n",
       "      <th>환상의 섬 Jeju Island</th>\n",
       "      <td>6</td>\n",
       "    </tr>\n",
       "    <tr>\n",
       "      <th>서귀포 신시가지</th>\n",
       "      <td>6</td>\n",
       "    </tr>\n",
       "  </tbody>\n",
       "</table>\n",
       "</div>"
      ],
      "text/plain": [
       "                   place\n",
       "Jeju                  14\n",
       "Jeju-do               10\n",
       "제주도                    7\n",
       "환상의 섬 Jeju Island      6\n",
       "서귀포 신시가지               6"
      ]
     },
     "execution_count": 3,
     "metadata": {},
     "output_type": "execute_result"
    }
   ],
   "source": [
    "location_counts_df = pd.DataFrame(location_counts)\n",
    "location_counts_df.head()"
   ]
  },
  {
   "cell_type": "code",
   "execution_count": 4,
   "metadata": {},
   "outputs": [],
   "source": [
    "# 엑셀 파일로 저장\n",
    "location_counts_df.to_excel('files/jeju_location_counts.xlsx')"
   ]
  },
  {
   "cell_type": "code",
   "execution_count": 7,
   "metadata": {},
   "outputs": [
    {
     "data": {
      "text/plain": [
       "['Jeju',\n",
       " 'Jeju-do',\n",
       " '제주도',\n",
       " '환상의 섬 Jeju Island',\n",
       " '서귀포 신시가지',\n",
       " 'Jeju Island, South Korea - 제주도',\n",
       " '무릉외갓집',\n",
       " '제주 협재 해수욕장',\n",
       " '아르떼뮤지엄 Arte Museum',\n",
       " 'Enough, 이너프',\n",
       " '제주도 Jeju Island',\n",
       " '제주고산리유적',\n",
       " 'cafe_the_other_side',\n",
       " 'Umu Pudding , 우무',\n",
       " '제주도 애월읍',\n",
       " '한라진칼국수',\n",
       " '제주귀더크',\n",
       " '김녕 성세기 해변',\n",
       " '칠돈가',\n",
       " '아부오름',\n",
       " '앤트러사이트 제주 한림점',\n",
       " 'Busan, South Korea',\n",
       " '서귀포시',\n",
       " '이정의댁',\n",
       " '그림상회',\n",
       " 'Brne_stay / 부르네스테이',\n",
       " '클랭블루제주',\n",
       " '비밀의숲',\n",
       " '성수동',\n",
       " '닭머르',\n",
       " '월정리해변',\n",
       " '소길역',\n",
       " '코코마마성산점',\n",
       " '빛의 벙커 Bunker de Lumières',\n",
       " 'LOTTE HOTEL JEJU 롯데호텔제주',\n",
       " '제주 함덕 서우봉 해변',\n",
       " '오는정 김밥',\n",
       " '사려니숲길',\n",
       " '착한낙지 제주점',\n",
       " '카페차롱',\n",
       " '노형수산시장',\n",
       " '천연불맛 불쇼 미온당',\n",
       " '이호테우 목마등대',\n",
       " 'Seoul, Korea',\n",
       " '금능해수욕장',\n",
       " '헤이요목장',\n",
       " '집!집이라고!!',\n",
       " '제주시청',\n",
       " '푸른섬 제주도',\n",
       " '용머리해안',\n",
       " '섭지코지로',\n",
       " '대월회관',\n",
       " '새별오름',\n",
       " '위미리 동백군락지',\n",
       " 'Cafè 새빌',\n",
       " '애월해안도로',\n",
       " '용눈이오름',\n",
       " '테디스비치쉑',\n",
       " '뚱보집노형점',\n",
       " 'Jeonju, Korea',\n",
       " '정이가네국밥',\n",
       " '이호테우해변',\n",
       " 'cafe may飛 [카페 메이비] [cafe mayB.]',\n",
       " 'Saeyeon Bridge, Jeju Island',\n",
       " '영도',\n",
       " 'Seogwipo, Jeju Island, South Korea',\n",
       " '제주 크랩잭',\n",
       " '유군초밥',\n",
       " '곱들락',\n",
       " '머체왓숲길',\n",
       " '연돈',\n",
       " '제주어린왕자감귤밭',\n",
       " '제주도 여행',\n",
       " 'House of Women Divers',\n",
       " '숙성도 중문점',\n",
       " '슌식당旬食堂',\n",
       " 'Jeju Island, South Korea',\n",
       " '풀베개',\n",
       " '대춘해장국 노형점',\n",
       " '비양도',\n",
       " '가치 Kachi',\n",
       " '제주 애월',\n",
       " '서귀포 매일올레시장',\n",
       " '원담 회센터',\n",
       " '유루유루',\n",
       " '순천미향',\n",
       " '동문시장 Dongmoon Market 東門水産市場',\n",
       " '부산 기장',\n",
       " '제주도 한경면',\n",
       " 'Osulloc Tea Museum',\n",
       " '성산일출봉 Seongsan Sunrise Peak',\n",
       " '남양주',\n",
       " '하귀바다',\n",
       " '보래드베이커스',\n",
       " '은희네해장국 노형점',\n",
       " '찰리스',\n",
       " '용출횟집',\n",
       " '제주도 한림',\n",
       " '제주시 화북동',\n",
       " 'Seogwipo',\n",
       " '한라산',\n",
       " '진행수산',\n",
       " '명랑스낵',\n",
       " 'Randys Donuts KR',\n",
       " '제주도 서귀포시 성산읍',\n",
       " 'the cliff jeju - 더클리프 제주',\n",
       " 'Hyeopjae Beach',\n",
       " 'Cookhoon쿠쿤',\n",
       " '해왓',\n",
       " '동백별장',\n",
       " '이익새양과점',\n",
       " '클랭블루갤러리',\n",
       " 'Jeju_arvo',\n",
       " '솔지식당',\n",
       " 'One and only - 원앤온리 제주',\n",
       " '우도 牛岛 Udo Island, South Korea',\n",
       " '도너츠윤',\n",
       " '부산의중심 서면',\n",
       " '베케',\n",
       " '탱테일',\n",
       " '김녕리 가정식백반집 엄마의제주',\n",
       " '착한집',\n",
       " '방주교회',\n",
       " '웨딩카페나비인',\n",
       " '고집돌우럭-gozipfish',\n",
       " '허니문하우스',\n",
       " '호꼼스낵',\n",
       " '제주도 해안도로',\n",
       " '한림칼국수 (공항점)',\n",
       " '고집돌우럭중문점',\n",
       " '도두해녀의집',\n",
       " '인생밥집',\n",
       " '뷰스트 Viewst',\n",
       " '외도동',\n",
       " 'Jeongbang Waterfall',\n",
       " '제주도 세화해변',\n",
       " '협재해변',\n",
       " 'Jeju Island',\n",
       " '카멜리아 힐',\n",
       " '짬뽕에취한날',\n",
       " '제주 월정리',\n",
       " '효퇴국수',\n",
       " '한라산 백록담 Hallasan MT Jeju-do  제주도 濟州島 漢拏山 白鹿潭',\n",
       " '은희네해장국',\n",
       " '성산일출봉 (Seongsan Ilchulbong)',\n",
       " '제주 성산일출봉',\n",
       " '느루,온穩',\n",
       " 'Road129']"
      ]
     },
     "execution_count": 7,
     "metadata": {},
     "output_type": "execute_result"
    }
   ],
   "source": [
    "# 위치 정보의 종류 확인\n",
    "locations = list(location_counts.index)\n",
    "locations"
   ]
  },
  {
   "cell_type": "markdown",
   "metadata": {},
   "source": [
    "## 4.3.3 카카오 API 가입"
   ]
  },
  {
   "cell_type": "markdown",
   "metadata": {},
   "source": [
    "## 4.3.4 카카오 검색 API를 활용한 장소 검색"
   ]
  },
  {
   "cell_type": "code",
   "execution_count": 14,
   "metadata": {},
   "outputs": [
    {
     "data": {
      "text/plain": [
       "[{'address_name': '서울 마포구 서교동 395-166',\n",
       "  'category_group_code': 'CE7',\n",
       "  'category_group_name': '카페',\n",
       "  'category_name': '음식점 > 카페 > 커피전문점 > 스타벅스',\n",
       "  'distance': '',\n",
       "  'id': '26572121',\n",
       "  'phone': '',\n",
       "  'place_name': '스타벅스 서교점',\n",
       "  'place_url': 'http://place.map.kakao.com/26572121',\n",
       "  'road_address_name': '서울 마포구 양화로 78',\n",
       "  'x': '126.916980454434',\n",
       "  'y': '37.5514601750423'},\n",
       " {'address_name': '서울 마포구 합정동 472',\n",
       "  'category_group_code': 'CE7',\n",
       "  'category_group_name': '카페',\n",
       "  'category_name': '음식점 > 카페 > 커피전문점 > 스타벅스',\n",
       "  'distance': '',\n",
       "  'id': '2057327896',\n",
       "  'phone': '1522-3232',\n",
       "  'place_name': '스타벅스 합정점',\n",
       "  'place_url': 'http://place.map.kakao.com/2057327896',\n",
       "  'road_address_name': '서울 마포구 월드컵로1길 14',\n",
       "  'x': '126.91211392586314',\n",
       "  'y': '37.54981773755399'},\n",
       " {'address_name': '서울 마포구 서교동 490',\n",
       "  'category_group_code': 'CE7',\n",
       "  'category_group_name': '카페',\n",
       "  'category_name': '음식점 > 카페 > 커피전문점 > 스타벅스',\n",
       "  'distance': '',\n",
       "  'id': '288597324',\n",
       "  'phone': '',\n",
       "  'place_name': '스타벅스 합정폴리스R점',\n",
       "  'place_url': 'http://place.map.kakao.com/288597324',\n",
       "  'road_address_name': '서울 마포구 양화로 45',\n",
       "  'x': '126.91340049045',\n",
       "  'y': '37.5508989849269'},\n",
       " {'address_name': '서울 마포구 서교동 490',\n",
       "  'category_group_code': 'CE7',\n",
       "  'category_group_name': '카페',\n",
       "  'category_name': '음식점 > 카페 > 커피전문점 > 스타벅스',\n",
       "  'distance': '',\n",
       "  'id': '27076117',\n",
       "  'phone': '1522-3232',\n",
       "  'place_name': '스타벅스 합정메세나몰점',\n",
       "  'place_url': 'http://place.map.kakao.com/27076117',\n",
       "  'road_address_name': '서울 마포구 양화로 45',\n",
       "  'x': '126.913541853312',\n",
       "  'y': '37.5500016943689'},\n",
       " {'address_name': '서울 마포구 서교동 475-13',\n",
       "  'category_group_code': 'CE7',\n",
       "  'category_group_name': '카페',\n",
       "  'category_name': '음식점 > 카페 > 커피전문점 > 스타벅스',\n",
       "  'distance': '',\n",
       "  'id': '12776689',\n",
       "  'phone': '1522-3232',\n",
       "  'place_name': '스타벅스 망원역점',\n",
       "  'place_url': 'http://place.map.kakao.com/12776689',\n",
       "  'road_address_name': '서울 마포구 월드컵로 74',\n",
       "  'x': '126.91071941264',\n",
       "  'y': '37.5557803955969'},\n",
       " {'address_name': '서울 마포구 서교동 374-20',\n",
       "  'category_group_code': 'CE7',\n",
       "  'category_group_name': '카페',\n",
       "  'category_name': '음식점 > 카페 > 커피전문점 > 스타벅스',\n",
       "  'distance': '',\n",
       "  'id': '27416913',\n",
       "  'phone': '',\n",
       "  'place_name': '스타벅스 서교동사거리',\n",
       "  'place_url': 'http://place.map.kakao.com/27416913',\n",
       "  'road_address_name': '서울 마포구 양화로 105',\n",
       "  'x': '126.918607875358',\n",
       "  'y': '37.5534723352988'},\n",
       " {'address_name': '서울 마포구 서교동 353-5',\n",
       "  'category_group_code': 'CE7',\n",
       "  'category_group_name': '카페',\n",
       "  'category_name': '음식점 > 카페 > 커피전문점 > 스타벅스',\n",
       "  'distance': '',\n",
       "  'id': '1436512690',\n",
       "  'phone': '1522-3232',\n",
       "  'place_name': '스타벅스 홍대입구역사거리R점',\n",
       "  'place_url': 'http://place.map.kakao.com/1436512690',\n",
       "  'road_address_name': '서울 마포구 양화로 125',\n",
       "  'x': '126.920317785646',\n",
       "  'y': '37.5546231745866'},\n",
       " {'address_name': '서울 마포구 동교동 205-6',\n",
       "  'category_group_code': 'CE7',\n",
       "  'category_group_name': '카페',\n",
       "  'category_name': '음식점 > 카페 > 커피전문점 > 스타벅스',\n",
       "  'distance': '',\n",
       "  'id': '20705154',\n",
       "  'phone': '1522-3232',\n",
       "  'place_name': '스타벅스 동교점',\n",
       "  'place_url': 'http://place.map.kakao.com/20705154',\n",
       "  'road_address_name': '서울 마포구 월드컵북로 22',\n",
       "  'x': '126.919993980608',\n",
       "  'y': '37.5568646370831'},\n",
       " {'address_name': '서울 마포구 상수동 86-22',\n",
       "  'category_group_code': 'CE7',\n",
       "  'category_group_name': '카페',\n",
       "  'category_name': '음식점 > 카페 > 커피전문점 > 스타벅스',\n",
       "  'distance': '',\n",
       "  'id': '17127074',\n",
       "  'phone': '1522-3232',\n",
       "  'place_name': '스타벅스 홍대삼거리점',\n",
       "  'place_url': 'http://place.map.kakao.com/17127074',\n",
       "  'road_address_name': '서울 마포구 와우산로 64',\n",
       "  'x': '126.92326479924',\n",
       "  'y': '37.5501958209348'},\n",
       " {'address_name': '서울 마포구 동교동 159-1',\n",
       "  'category_group_code': 'CE7',\n",
       "  'category_group_name': '카페',\n",
       "  'category_name': '음식점 > 카페 > 커피전문점 > 스타벅스',\n",
       "  'distance': '',\n",
       "  'id': '22105109',\n",
       "  'phone': '',\n",
       "  'place_name': '스타벅스 홍대역점',\n",
       "  'place_url': 'http://place.map.kakao.com/22105109',\n",
       "  'road_address_name': '서울 마포구 양화로 165',\n",
       "  'x': '126.923637798148',\n",
       "  'y': '37.5572887166274'},\n",
       " {'address_name': '서울 마포구 서교동 343-10',\n",
       "  'category_group_code': 'CE7',\n",
       "  'category_group_name': '카페',\n",
       "  'category_name': '음식점 > 카페 > 커피전문점 > 스타벅스',\n",
       "  'distance': '',\n",
       "  'id': '7962302',\n",
       "  'phone': '1522-3232',\n",
       "  'place_name': '스타벅스 홍대갤러리점',\n",
       "  'place_url': 'http://place.map.kakao.com/7962302',\n",
       "  'road_address_name': '서울 마포구 와우산로 101',\n",
       "  'x': '126.924809884926',\n",
       "  'y': '37.5531989403216'},\n",
       " {'address_name': '서울 마포구 상수동 329-1',\n",
       "  'category_group_code': 'CE7',\n",
       "  'category_group_name': '카페',\n",
       "  'category_name': '음식점 > 카페 > 커피전문점 > 스타벅스',\n",
       "  'distance': '',\n",
       "  'id': '26848996',\n",
       "  'phone': '1522-3232',\n",
       "  'place_name': '스타벅스 상수역점',\n",
       "  'place_url': 'http://place.map.kakao.com/26848996',\n",
       "  'road_address_name': '서울 마포구 독막로 88',\n",
       "  'x': '126.923272022704',\n",
       "  'y': '37.5475649101839'},\n",
       " {'address_name': '서울 마포구 동교동 166-1',\n",
       "  'category_group_code': 'CE7',\n",
       "  'category_group_name': '카페',\n",
       "  'category_name': '음식점 > 카페 > 커피전문점 > 스타벅스',\n",
       "  'distance': '',\n",
       "  'id': '231272664',\n",
       "  'phone': '',\n",
       "  'place_name': '스타벅스 홍대공항철도역점',\n",
       "  'place_url': 'http://place.map.kakao.com/231272664',\n",
       "  'road_address_name': '서울 마포구 양화로 178',\n",
       "  'x': '126.92518582665798',\n",
       "  'y': '37.557509550972256'},\n",
       " {'address_name': '서울 마포구 창전동 130',\n",
       "  'category_group_code': 'CE7',\n",
       "  'category_group_name': '카페',\n",
       "  'category_name': '음식점 > 카페 > 커피전문점 > 스타벅스',\n",
       "  'distance': '',\n",
       "  'id': '1572099327',\n",
       "  'phone': '',\n",
       "  'place_name': '스타벅스 서강광흥창역점',\n",
       "  'place_url': 'http://place.map.kakao.com/1572099327',\n",
       "  'road_address_name': '서울 마포구 서강로 69',\n",
       "  'x': '126.931657893743',\n",
       "  'y': '37.5493756625598'},\n",
       " {'address_name': '서울 마포구 노고산동 54-1',\n",
       "  'category_group_code': 'CE7',\n",
       "  'category_group_name': '카페',\n",
       "  'category_name': '음식점 > 카페 > 커피전문점 > 스타벅스',\n",
       "  'distance': '',\n",
       "  'id': '1132693025',\n",
       "  'phone': '',\n",
       "  'place_name': '스타벅스 신촌오거리점',\n",
       "  'place_url': 'http://place.map.kakao.com/1132693025',\n",
       "  'road_address_name': '서울 마포구 신촌로16길 10',\n",
       "  'x': '126.934699199575',\n",
       "  'y': '37.5551906225976'}]"
      ]
     },
     "execution_count": 14,
     "metadata": {},
     "output_type": "execute_result"
    }
   ],
   "source": [
    "import requests\n",
    "\n",
    "searching = '합정 스타벅스' # 검색어\n",
    "url = 'https://dapi.kakao.com/v2/local/search/keyword.json?query={}'.format(searching)\n",
    "\n",
    "headers = {\n",
    "    \"Authorization\": \"KakaoAK 58a8f4c82dcb71b7ce3b177750af00a6\"\n",
    "    # 입력시 반드시  KakaoAK 뒤에 한 칸 띄우고 API키 값을 적어야 합니다. \n",
    "}\n",
    "\n",
    "# requests.get(url, headers = headers): url 주소에 정보 요청,\n",
    "# header에 아이디 패스워드 함께 전달\n",
    "# .json(): 전달받은 결과를 json형태로 불러옴\n",
    "# ['place']: 그 중 place 항목만 선택\n",
    "places = requests.get(url, headers = headers).json()['documents']\n",
    "places"
   ]
  },
  {
   "cell_type": "code",
   "execution_count": 15,
   "metadata": {},
   "outputs": [],
   "source": [
    "# 카카오 API를 활용한 장소 검색 함수 만들기\n",
    "def find_places(searching):\n",
    "    # 1. 접속URL 만들기\n",
    "    url = url = 'https://dapi.kakao.com/v2/local/search/keyword.json?query={}'.format(searching)\n",
    "    # 2. headers 입력하기\n",
    "    headers = {\n",
    "        \"Authorization\" : \"KakaoAK 58a8f4c82dcb71b7ce3b177750af00a6\"\n",
    "    }\n",
    "    # 3. API 요청 & 정보 받기\n",
    "    places = requests.get(url, headers=headers).json()['documents']\n",
    "    # 4. 필요한 정보 선택하기\n",
    "    place = places[0]\n",
    "    name = place['place_name']\n",
    "    x = place['x']\n",
    "    y = place['y']\n",
    "    data = [name, x, y, searching]\n",
    "    \n",
    "    return data"
   ]
  },
  {
   "cell_type": "code",
   "execution_count": 16,
   "metadata": {},
   "outputs": [
    {
     "data": {
      "text/plain": [
       "['제주국제공항', '126.492769004244', '33.5070789578184', '제주공항']"
      ]
     },
     "execution_count": 16,
     "metadata": {},
     "output_type": "execute_result"
    }
   ],
   "source": [
    "# 제주공항 검색 예시\n",
    "data = find_places('제주공항')\n",
    "data"
   ]
  },
  {
   "cell_type": "code",
   "execution_count": 17,
   "metadata": {},
   "outputs": [],
   "source": [
    "# 반복작업 진행 시 진행바 표시하기위한 라이브러리 tqdm 활용\n",
    "from tqdm.notebook import tqdm"
   ]
  },
  {
   "cell_type": "code",
   "execution_count": 18,
   "metadata": {},
   "outputs": [
    {
     "data": {
      "application/vnd.jupyter.widget-view+json": {
       "model_id": "4d53821a60104d72864561fdb8c5c1ec",
       "version_major": 2,
       "version_minor": 0
      },
      "text/plain": [
       "HBox(children=(FloatProgress(value=0.0, max=148.0), HTML(value='')))"
      ]
     },
     "metadata": {},
     "output_type": "display_data"
    },
    {
     "name": "stdout",
     "output_type": "stream",
     "text": [
      "\n"
     ]
    },
    {
     "data": {
      "text/plain": [
       "[['Jeju in aA', '126.83650369902168', '33.53833652360498', 'Jeju'],\n",
       " ['제주도', '126.545875710283', '33.3797769227161', '제주도'],\n",
       " ['신시가지 횟집', '126.506076220117', '33.2530089473833', '서귀포 신시가지'],\n",
       " ['무릉외갓집', '126.236917142939', '33.2746792813178', '무릉외갓집'],\n",
       " ['협재해수욕장', '126.239157539085', '33.3938660776221', '제주 협재 해수욕장'],\n",
       " ['이너프라운지', '126.93565842163994', '37.5452225040192', 'Enough, 이너프'],\n",
       " ['제주도', '126.545875710283', '33.3797769227161', '제주도 Jeju Island'],\n",
       " ['제주고산리유적', '126.1666521275124', '33.30508436596465', '제주고산리유적'],\n",
       " ['디아더사이드', '126.926087648183', '35.1474232264864', 'cafe_the_other_side'],\n",
       " ['올레길 17코스(광령-제주원도심 올레)', '126.439341083568', '33.4608856490895', '제주도 애월읍'],\n",
       " ['한라진칼국수', '126.438262100061', '33.4954080745064', '한라진칼국수'],\n",
       " ['귀더크', '126.282366800118', '33.4423007490057', '제주귀더크'],\n",
       " ['김녕해수욕장', '126.759313988844', '33.5574388587079', '김녕 성세기 해변'],\n",
       " ['칠돈가 본점', '126.51071724442507', '33.50232582709983', '칠돈가'],\n",
       " ['아부오름', '126.777214998455', '33.4485841755621', '아부오름'],\n",
       " ['앤트러사이트 제주한림점', '126.258149647652', '33.4077717708008', '앤트러사이트 제주 한림점'],\n",
       " ['올레길 7코스(서귀포-월평 올레)', '126.51531780746991', '33.237465168471545', '서귀포시'],\n",
       " ['이정의댁', '126.427816661163', '33.2562835928038', '이정의댁'],\n",
       " ['그림상회', '126.764913703678', '33.3261794709431', '그림상회'],\n",
       " ['부르네스테이', '126.484335607995', '33.5121615600947', 'Brne_stay / 부르네스테이'],\n",
       " ['클랭블루', '126.177301119874', '33.3448722920323', '클랭블루제주'],\n",
       " ['비밀의숲', '126.755874215783', '33.4532594088582', '비밀의숲'],\n",
       " ['서울숲카페거리', '127.043028992489', '37.5464440372535', '성수동'],\n",
       " ['닭머르', '126.612087338359', '33.5355459503005', '닭머르'],\n",
       " ['월정리해수욕장', '126.795805057888', '33.556469394054', '월정리해변'],\n",
       " ['소길역', '126.380285949868', '33.4381044106591', '소길역'],\n",
       " ['코코마마 성산점', '126.93431019985533', '33.46099545535249', '코코마마성산점'],\n",
       " ['빛의 벙커',\n",
       "  '126.89981825080305',\n",
       "  '33.43964477102691',\n",
       "  '빛의 벙커 Bunker de Lumières'],\n",
       " ['롯데시티호텔 제주',\n",
       "  '126.486477218467',\n",
       "  '33.4906945837847',\n",
       "  'LOTTE HOTEL JEJU 롯데호텔제주'],\n",
       " ['함덕해수욕장', '126.669238934013', '33.5430615661113', '제주 함덕 서우봉 해변'],\n",
       " ['오는정김밥', '126.567621058572', '33.2495955703083', '오는정 김밥'],\n",
       " ['사려니숲길', '126.62649730394567', '33.422032834994496', '사려니숲길'],\n",
       " ['카페차롱', '126.35422582237', '33.2596450787665', '카페차롱'],\n",
       " ['노형수산시장', '126.473086046319', '33.480380059743', '노형수산시장'],\n",
       " ['이호테우등대', '126.451961352582', '33.5017949651276', '이호테우 목마등대'],\n",
       " ['페이스뮤직', '126.915848984951', '37.5512791744838', 'Seoul, Korea'],\n",
       " ['금능해수욕장', '126.235889902253', '33.3904488156321', '금능해수욕장'],\n",
       " ['새별헤이요목장', '126.36294044329', '33.3623545160912', '헤이요목장'],\n",
       " ['나주곰탕원조집60년 남평할매집', '126.716674237343', '35.0315341230598', '집!집이라고!!'],\n",
       " ['제주시청', '126.531171087129', '33.4995342412698', '제주시청'],\n",
       " ['푸른섬게스트하우스', '126.812424476454', '33.3079427982969', '푸른섬 제주도'],\n",
       " ['용머리해안', '126.314736627312', '33.2316567556941', '용머리해안'],\n",
       " ['섭지코지', '126.930609241011', '33.4239380655993', '섭지코지로'],\n",
       " ['대월회관', '126.673267411671', '33.5414782457045', '대월회관'],\n",
       " ['새별오름', '126.357711941768', '33.3661936453469', '새별오름'],\n",
       " ['위미동백나무군락', '126.67473058287', '33.2729387205764', '위미리 동백군락지'],\n",
       " ['애월해안도로', '126.36867872098', '33.4781232943703', '애월해안도로'],\n",
       " ['용눈이오름', '126.83251014664', '33.4596996808185', '용눈이오름'],\n",
       " ['테디스비치쉑', '126.366009461959', '33.2358524873402', '테디스비치쉑'],\n",
       " ['뚱보집 제주노형점', '126.477865388415', '33.4905720446879', '뚱보집노형점'],\n",
       " ['전주고려병원', '127.16703747285135', '35.83991953035569', 'Jeonju, Korea'],\n",
       " ['정이가네 동홍2호점', '126.575707369739', '33.2550016464727', '정이가네국밥'],\n",
       " ['이호테우해수욕장', '126.452690819027', '33.4973768007144', '이호테우해변'],\n",
       " ['흰여울문화마을', '129.04528136992104', '35.077914827298564', '영도'],\n",
       " ['크랩잭 제주', '126.381855115396', '33.485514197938', '제주 크랩잭'],\n",
       " ['유군초밥', '126.528796300578', '33.4990879604924', '유군초밥'],\n",
       " ['곱들락 월정점', '126.794255493972', '33.5559979997502', '곱들락'],\n",
       " ['한남리머체왓숲길', '126.6663210996524', '33.332348080994805', '머체왓숲길'],\n",
       " ['연돈', '126.40716457908', '33.2588962209144', '연돈'],\n",
       " ['어린왕자감귤밭', '126.281527492081', '33.2535048155685', '제주어린왕자감귤밭'],\n",
       " ['올레길 7코스(서귀포-월평 올레)', '126.51531780746991', '33.237465168471545', '제주도 여행'],\n",
       " ['오조해녀의집', '126.92229348123', '33.4697350161441', 'House of Women Divers'],\n",
       " ['숙성도 중문지점', '126.407604356063', '33.2586116015878', '숙성도 중문점'],\n",
       " ['풀베개', '126.303224677035', '33.285512856952', '풀베개'],\n",
       " ['대춘해장국 노형점', '126.484395041581', '33.4876169200191', '대춘해장국 노형점'],\n",
       " ['비양도', '126.227348369237', '33.4102777124648', '비양도'],\n",
       " ['올레길 17코스(광령-제주원도심 올레)', '126.439341083568', '33.4608856490895', '제주 애월'],\n",
       " ['서귀포매일올레시장', '126.56384869150997', '33.24991509958467', '서귀포 매일올레시장'],\n",
       " ['유루유루', '129.1575591981059', '35.167330448417374', '유루유루'],\n",
       " ['순천미향', '126.3124867027795', '33.23565653706234', '순천미향'],\n",
       " ['임랑해수욕장', '129.264454138014', '35.3189745974743', '부산 기장'],\n",
       " ['올레길 13코스(용수-저지 올레)', '126.21230336658091', '33.328625315540165', '제주도 한경면'],\n",
       " ['오설록티뮤지엄', '126.289443017025', '33.3059265460649', 'Osulloc Tea Museum'],\n",
       " ['수락산', '127.081274474022', '37.6991691517477', '남양주'],\n",
       " ['하귀바다낚시', '126.401284345027', '33.480268581884', '하귀바다'],\n",
       " ['보래드베이커스', '126.59056615376942', '33.244398678150446', '보래드베이커스'],\n",
       " ['은희네해장국 원노형점', '126.484598574552', '33.4852267446676', '은희네해장국 노형점'],\n",
       " ['찰리스', '126.369613603707', '33.2353622904288', '찰리스'],\n",
       " ['용출횟집', '126.507728589866', '33.516220112387', '용출횟집'],\n",
       " ['올레길 14코스(저지-한림 올레)', '126.22633963633878', '33.37028420751925', '제주도 한림'],\n",
       " ['별도봉', '126.552650155216', '33.5189329700715', '제주시 화북동'],\n",
       " ['서귀포잠수함', '126.558616052674', '33.2393033784206', 'Seogwipo'],\n",
       " ['한라산국립공원', '126.54222094512', '33.3766655632143', '한라산'],\n",
       " ['진행수산', '126.528317554257', '33.4962848903769', '진행수산'],\n",
       " ['명랑스낵', '126.258817154541', '33.4091714181718', '명랑스낵'],\n",
       " ['올레길 1코스(시흥-광치기 올레)',\n",
       "  '126.895884668397',\n",
       "  '33.4771917795597',\n",
       "  '제주도 서귀포시 성산읍'],\n",
       " ['협재해수욕장', '126.239157539085', '33.3938660776221', 'Hyeopjae Beach'],\n",
       " ['해왓', '126.917189510552', '33.4384927031139', '해왓'],\n",
       " ['동백별장', '126.481435627565', '33.4866056081701', '동백별장'],\n",
       " ['이익새', '126.265540410067', '33.4073649482759', '이익새양과점'],\n",
       " ['솔지식당', '126.4725778908595', '33.4923275899154', '솔지식당'],\n",
       " ['원앤온리', '126.319192490757', '33.2392223486155', 'One and only - 원앤온리 제주'],\n",
       " ['도너츠윤 방배점', '126.984179147229', '37.4874522054656', '도너츠윤'],\n",
       " ['베케', '126.60492258733058', '33.26190881355424', '베케'],\n",
       " ['탱테일', '126.48365633777', '33.4873505795764', '탱테일'],\n",
       " ['착한집', '126.462934158811', '33.4787550924095', '착한집'],\n",
       " ['방주교회', '126.387439255121', '33.305048981119', '방주교회'],\n",
       " ['웨딩카페나비인', '126.426281474685', '33.4375287134529', '웨딩카페나비인'],\n",
       " ['허니문하우스', '126.578712696609', '33.244155324551', '허니문하우스'],\n",
       " ['호꼼스낵', '126.641034375052', '33.2648322993639', '호꼼스낵'],\n",
       " ['형제해안도로', '126.293352563779', '33.2167542093081', '제주도 해안도로'],\n",
       " ['한림칼국수 제주공항점', '126.467628199553', '33.47893763031', '한림칼국수 (공항점)'],\n",
       " ['고집돌우럭 중문점', '126.416704762779', '33.2579811121134', '고집돌우럭중문점'],\n",
       " ['도두해녀의집', '126.466634898645', '33.5061830189212', '도두해녀의집'],\n",
       " ['인생밥집', '126.26462747576373', '33.41135177289947', '인생밥집'],\n",
       " ['몽돌해변', '126.440972666982', '33.4962606130134', '외도동'],\n",
       " ['세화해변', '126.86025618946', '33.5251436596119', '제주도 세화해변'],\n",
       " ['협재해수욕장', '126.239157539085', '33.3938660776221', '협재해변'],\n",
       " ['제주도', '126.545875710283', '33.3797769227161', 'Jeju Island'],\n",
       " ['카멜리아힐', '126.370009467525', '33.2896344311608', '카멜리아 힐'],\n",
       " ['짬뽕에취한날', '126.497824368321', '33.4911882761068', '짬뽕에취한날'],\n",
       " ['월정리해수욕장', '126.795805057888', '33.556469394054', '제주 월정리'],\n",
       " ['효퇴국수', '126.51960543996081', '33.50154015955687', '효퇴국수'],\n",
       " ['은희네해장국', '126.43172212260477', '33.2511009434454', '은희네해장국'],\n",
       " ['성산일출봉',\n",
       "  '126.940537521366',\n",
       "  '33.4591349705437',\n",
       "  '성산일출봉 (Seongsan Ilchulbong)'],\n",
       " ['성산일출봉', '126.940537521366', '33.4591349705437', '제주 성산일출봉'],\n",
       " ['로드129', '126.321048106969', '33.4643081022978', 'Road129']]"
      ]
     },
     "execution_count": 18,
     "metadata": {},
     "output_type": "execute_result"
    }
   ],
   "source": [
    "# 인스타그램 위치명 위치정보 검색하기\n",
    "# 검색 시 시간이 많이 걸려, 현재 작업 진행현황을 볼 수 있는 tqdm 활용\n",
    "import time\n",
    "locations_inform = []\n",
    "for location in tqdm(locations):\n",
    "    try:\n",
    "        data = find_places(location)\n",
    "        locations_inform.append(data)\n",
    "        time.sleep(0.5)\n",
    "    except:\n",
    "        pass\n",
    "locations_inform"
   ]
  },
  {
   "cell_type": "markdown",
   "metadata": {},
   "source": [
    "## 4.3.5 위치 정보별 인스타 게시량 정리"
   ]
  },
  {
   "cell_type": "code",
   "execution_count": 22,
   "metadata": {},
   "outputs": [],
   "source": [
    "# 위치정보 저장하기\n",
    "locations_inform_df = pd.DataFrame(locations_inform)\n",
    "locations_inform_df.columns = ['name_official', '경도', '위도', '인스타위치명']\n",
    "locations_inform_df.to_excel('files/insta_kakaoAPI_locations.xlsx', index=False)"
   ]
  },
  {
   "cell_type": "code",
   "execution_count": 23,
   "metadata": {},
   "outputs": [],
   "source": [
    "# 인스타 게시량 및 위치정보 데이터 불러오기\n",
    "location_counts_df = pd.read_excel('files/jeju_location_counts.xlsx', index_col = 0)\n",
    "locations_inform_df = pd.read_excel('files/insta_kakaoAPI_locations.xlsx')"
   ]
  },
  {
   "cell_type": "code",
   "execution_count": 24,
   "metadata": {},
   "outputs": [
    {
     "data": {
      "text/html": [
       "<div>\n",
       "<style scoped>\n",
       "    .dataframe tbody tr th:only-of-type {\n",
       "        vertical-align: middle;\n",
       "    }\n",
       "\n",
       "    .dataframe tbody tr th {\n",
       "        vertical-align: top;\n",
       "    }\n",
       "\n",
       "    .dataframe thead th {\n",
       "        text-align: right;\n",
       "    }\n",
       "</style>\n",
       "<table border=\"1\" class=\"dataframe\">\n",
       "  <thead>\n",
       "    <tr style=\"text-align: right;\">\n",
       "      <th></th>\n",
       "      <th>name_official</th>\n",
       "      <th>경도</th>\n",
       "      <th>위도</th>\n",
       "      <th>인스타위치명</th>\n",
       "      <th>place</th>\n",
       "    </tr>\n",
       "  </thead>\n",
       "  <tbody>\n",
       "    <tr>\n",
       "      <th>1</th>\n",
       "      <td>제주도</td>\n",
       "      <td>126.545876</td>\n",
       "      <td>33.379777</td>\n",
       "      <td>제주도</td>\n",
       "      <td>7</td>\n",
       "    </tr>\n",
       "    <tr>\n",
       "      <th>6</th>\n",
       "      <td>제주도</td>\n",
       "      <td>126.545876</td>\n",
       "      <td>33.379777</td>\n",
       "      <td>제주도 Jeju Island</td>\n",
       "      <td>7</td>\n",
       "    </tr>\n",
       "    <tr>\n",
       "      <th>108</th>\n",
       "      <td>제주도</td>\n",
       "      <td>126.545876</td>\n",
       "      <td>33.379777</td>\n",
       "      <td>Jeju Island</td>\n",
       "      <td>7</td>\n",
       "    </tr>\n",
       "    <tr>\n",
       "      <th>3</th>\n",
       "      <td>무릉외갓집</td>\n",
       "      <td>126.236917</td>\n",
       "      <td>33.274679</td>\n",
       "      <td>무릉외갓집</td>\n",
       "      <td>4</td>\n",
       "    </tr>\n",
       "    <tr>\n",
       "      <th>7</th>\n",
       "      <td>제주고산리유적</td>\n",
       "      <td>126.166652</td>\n",
       "      <td>33.305084</td>\n",
       "      <td>제주고산리유적</td>\n",
       "      <td>3</td>\n",
       "    </tr>\n",
       "  </tbody>\n",
       "</table>\n",
       "</div>"
      ],
      "text/plain": [
       "    name_official          경도         위도           인스타위치명  place\n",
       "1             제주도  126.545876  33.379777              제주도      7\n",
       "6             제주도  126.545876  33.379777  제주도 Jeju Island      7\n",
       "108           제주도  126.545876  33.379777      Jeju Island      7\n",
       "3           무릉외갓집  126.236917  33.274679            무릉외갓집      4\n",
       "7         제주고산리유적  126.166652  33.305084          제주고산리유적      3"
      ]
     },
     "execution_count": 24,
     "metadata": {},
     "output_type": "execute_result"
    }
   ],
   "source": [
    "# 위치 데이터 병합하기\n",
    "location_data = pd.merge(locations_inform_df, location_counts_df,\n",
    "                        how = 'inner', left_on='name_official', right_index=True)\n",
    "# inner: 양쪽에 모두 있는 데이터만\n",
    "# left_on: 'name_official'칼럼의 데이터를 기준으로 병합\n",
    "# right_index: 오른쪽 location_counts_df 데이터에서는 인덱스를 기준 병합하게 함\n",
    "\n",
    "location_data.head()"
   ]
  },
  {
   "cell_type": "code",
   "execution_count": 25,
   "metadata": {},
   "outputs": [
    {
     "data": {
      "text/plain": [
       "제주도          3\n",
       "진행수산         1\n",
       "한라진칼국수       1\n",
       "호꼼스낵         1\n",
       "은희네해장국       1\n",
       "풀베개          1\n",
       "닭머르          1\n",
       "이정의댁         1\n",
       "효퇴국수         1\n",
       "해왓           1\n",
       "유루유루         1\n",
       "탱테일          1\n",
       "웨딩카페나비인      1\n",
       "노형수산시장       1\n",
       "카페차롱         1\n",
       "제주시청         1\n",
       "명랑스낵         1\n",
       "아부오름         1\n",
       "인생밥집         1\n",
       "도두해녀의집       1\n",
       "방주교회         1\n",
       "사려니숲길        1\n",
       "무릉외갓집        1\n",
       "용머리해안        1\n",
       "연돈           1\n",
       "새별오름         1\n",
       "대월회관         1\n",
       "허니문하우스       1\n",
       "테디스비치쉑       1\n",
       "유군초밥         1\n",
       "짬뽕에취한날       1\n",
       "그림상회         1\n",
       "착한집          1\n",
       "용출횟집         1\n",
       "순천미향         1\n",
       "비양도          1\n",
       "금능해수욕장       1\n",
       "소길역          1\n",
       "대춘해장국 노형점    1\n",
       "베케           1\n",
       "용눈이오름        1\n",
       "솔지식당         1\n",
       "동백별장         1\n",
       "비밀의숲         1\n",
       "애월해안도로       1\n",
       "제주고산리유적      1\n",
       "찰리스          1\n",
       "보래드베이커스      1\n",
       "Name: name_official, dtype: int64"
      ]
     },
     "execution_count": 25,
     "metadata": {},
     "output_type": "execute_result"
    }
   ],
   "source": [
    "# 데이터 중복 점검하기\n",
    "location_data['name_official'].value_counts()"
   ]
  },
  {
   "cell_type": "code",
   "execution_count": 26,
   "metadata": {},
   "outputs": [],
   "source": [
    "# 병합한 데이터 저장\n",
    "location_data.to_excel('files/final_location_inform.xlsx', index = False)"
   ]
  },
  {
   "cell_type": "markdown",
   "metadata": {},
   "source": [
    "## 4.3.6 folium을 이용한 지도 시각화1 - 개별 표시\n",
    "- 지도 시각화를 위해서는 지도의 중심 위치 좌표와 위치별 위도/경도 데이터 필요"
   ]
  },
  {
   "cell_type": "code",
   "execution_count": 4,
   "metadata": {},
   "outputs": [
    {
     "name": "stdout",
     "output_type": "stream",
     "text": [
      "<class 'pandas.core.frame.DataFrame'>\n",
      "RangeIndex: 50 entries, 0 to 49\n",
      "Data columns (total 5 columns):\n",
      " #   Column         Non-Null Count  Dtype  \n",
      "---  ------         --------------  -----  \n",
      " 0   name_official  50 non-null     object \n",
      " 1   경도             50 non-null     float64\n",
      " 2   위도             50 non-null     float64\n",
      " 3   인스타위치명         50 non-null     object \n",
      " 4   place          50 non-null     int64  \n",
      "dtypes: float64(2), int64(1), object(2)\n",
      "memory usage: 2.1+ KB\n"
     ]
    }
   ],
   "source": [
    "import pandas as pd\n",
    "# 데이터 불러오기\n",
    "location_data = pd.read_excel('files/final_location_inform.xlsx')\n",
    "location_data.info()"
   ]
  },
  {
   "cell_type": "code",
   "execution_count": 9,
   "metadata": {},
   "outputs": [],
   "source": [
    "# 한라산을 중심 위치로 지정\n",
    "\n",
    "import folium\n",
    "\n",
    "Mt_Hanla = [33.362500, 126.533694]\n",
    "map_jeju = folium.Map(location = Mt_Hanla, zoom_start = 11)\n",
    "\n",
    "for i in range(len(location_data)):\n",
    "    name = location_data['name_official'][i] # 공식명칭\n",
    "    count = location_data['place'][i] # 게시글 개수\n",
    "    size = int(count) * 8\n",
    "    long = float(location_data['위도'][i])\n",
    "    lat = float(location_data['경도'][i])\n",
    "    folium.CircleMarker((long,lat), radius = size, color = 'red', popup=name).add_to(map_jeju)\n",
    "    \n",
    "    map_jeju"
   ]
  },
  {
   "cell_type": "code",
   "execution_count": 10,
   "metadata": {},
   "outputs": [],
   "source": [
    "map_jeju.save('files/jeju_map.html')"
   ]
  },
  {
   "cell_type": "markdown",
   "metadata": {},
   "source": [
    "## 4.3.7 folium을 이용한 지도 시각화2 - 그룹으로 표시"
   ]
  },
  {
   "cell_type": "code",
   "execution_count": 11,
   "metadata": {},
   "outputs": [
    {
     "data": {
      "text/html": [
       "<div style=\"width:100%;\"><div style=\"position:relative;width:100%;height:0;padding-bottom:60%;\"><span style=\"color:#565656\">Make this Notebook Trusted to load map: File -> Trust Notebook</span><iframe src=\"about:blank\" style=\"position:absolute;width:100%;height:100%;left:0;top:0;border:none !important;\" data-html=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 onload=\"this.contentDocument.open();this.contentDocument.write(atob(this.getAttribute('data-html')));this.contentDocument.close();\" allowfullscreen webkitallowfullscreen mozallowfullscreen></iframe></div></div>"
      ],
      "text/plain": [
       "<folium.folium.Map at 0x1bd637c1a90>"
      ]
     },
     "execution_count": 11,
     "metadata": {},
     "output_type": "execute_result"
    }
   ],
   "source": [
    "from folium.plugins import MarkerCluster\n",
    "\n",
    "locations = []\n",
    "names = []\n",
    "\n",
    "for i in range(len(location_data)):\n",
    "    data = location_data.iloc[i] # 행 하나씩\n",
    "    locations.append((float(data['위도']), float(data['경도']))) # 위도 경도순\n",
    "    names.append(data['name_official'])\n",
    "    \n",
    "Mt_Hanla = [33.362500, 126.533694]\n",
    "map_jeju2 = folium.Map(location = Mt_Hanla, zoom_start = 11)\n",
    "\n",
    "marker_cluster = MarkerCluster(\n",
    "    locations = locations, popups = names,\n",
    "    name='Jeju',\n",
    "    overlay=True,\n",
    "    control=True\n",
    ")\n",
    "\n",
    "marker_cluster.add_to(map_jeju2)\n",
    "folium.LayerControl().add_to(map_jeju2)\n",
    "\n",
    "map_jeju2"
   ]
  },
  {
   "cell_type": "code",
   "execution_count": 12,
   "metadata": {},
   "outputs": [],
   "source": [
    "map_jeju2.save('files/jeju2_map.html')"
   ]
  },
  {
   "cell_type": "markdown",
   "metadata": {},
   "source": [
    "# 4.4 특정 단어 포함 게시글 찾기"
   ]
  },
  {
   "cell_type": "markdown",
   "metadata": {},
   "source": [
    "## 4.4.1 데이터 준비"
   ]
  },
  {
   "cell_type": "code",
   "execution_count": 14,
   "metadata": {},
   "outputs": [
    {
     "data": {
      "text/html": [
       "<div>\n",
       "<style scoped>\n",
       "    .dataframe tbody tr th:only-of-type {\n",
       "        vertical-align: middle;\n",
       "    }\n",
       "\n",
       "    .dataframe tbody tr th {\n",
       "        vertical-align: top;\n",
       "    }\n",
       "\n",
       "    .dataframe thead th {\n",
       "        text-align: right;\n",
       "    }\n",
       "</style>\n",
       "<table border=\"1\" class=\"dataframe\">\n",
       "  <thead>\n",
       "    <tr style=\"text-align: right;\">\n",
       "      <th></th>\n",
       "      <th>Unnamed: 0</th>\n",
       "      <th>content</th>\n",
       "      <th>date</th>\n",
       "      <th>like</th>\n",
       "      <th>place</th>\n",
       "      <th>tags</th>\n",
       "    </tr>\n",
       "  </thead>\n",
       "  <tbody>\n",
       "    <tr>\n",
       "      <th>0</th>\n",
       "      <td>0</td>\n",
       "      <td>✨해월정 서귀포해월정의 푸짐한 한 상 차림💕다양하고 맛있는 진짜 보말의 맛을 만나세...</td>\n",
       "      <td>2020-11-27</td>\n",
       "      <td>0</td>\n",
       "      <td>NaN</td>\n",
       "      <td>['#제주도맛집', '#제주맛집', '#중문맛집', '#제주중문맛집', '#서귀포맛...</td>\n",
       "    </tr>\n",
       "    <tr>\n",
       "      <th>1</th>\n",
       "      <td>1</td>\n",
       "      <td>11월 28일 토요일오전10시~밤12시까지 오늘도 정상 영업합니다뷰맛집ㆍ뷰카페상호 ...</td>\n",
       "      <td>2020-11-27</td>\n",
       "      <td>0</td>\n",
       "      <td>NaN</td>\n",
       "      <td>['#제주성산맛집', '#성산일출봉맛집', '#제주맛집', '#성산맛집', '#제주...</td>\n",
       "    </tr>\n",
       "    <tr>\n",
       "      <th>2</th>\n",
       "      <td>2</td>\n",
       "      <td>여러분이 편안하게 쉬어갈수있게 성산일출봉 뷰 빈백이준비 되어있고~👍⠀가성비 좋은 맛...</td>\n",
       "      <td>2020-11-27</td>\n",
       "      <td>0</td>\n",
       "      <td>NaN</td>\n",
       "      <td>['#제주도맛집', '#성산일출봉카페', '#애월맛집', '#세화카페', '#제주공...</td>\n",
       "    </tr>\n",
       "    <tr>\n",
       "      <th>3</th>\n",
       "      <td>3</td>\n",
       "      <td>산도롱맨도롱----------🍜제주 유일무이 고기국수 맛집🍜제주도 여행 필수코스 산...</td>\n",
       "      <td>2020-11-27</td>\n",
       "      <td>0</td>\n",
       "      <td>NaN</td>\n",
       "      <td>['#제주도맛집', '#제주맛집', '#제주도고기국수', '#성산일출봉맛집', '#...</td>\n",
       "    </tr>\n",
       "    <tr>\n",
       "      <th>4</th>\n",
       "      <td>4</td>\n",
       "      <td>&lt;광고&gt;지금 제주도여행중이시라면 차 한 잔에 천상의맛 카이막 드시러 오세요😘💙 사회...</td>\n",
       "      <td>2020-11-28</td>\n",
       "      <td>0</td>\n",
       "      <td>NaN</td>\n",
       "      <td>['#쉬어갓', '#제주맛집', '#제주도맛집', '#표선맛집', '#성산맛집', ...</td>\n",
       "    </tr>\n",
       "  </tbody>\n",
       "</table>\n",
       "</div>"
      ],
      "text/plain": [
       "   Unnamed: 0                                            content        date  \\\n",
       "0           0  ✨해월정 서귀포해월정의 푸짐한 한 상 차림💕다양하고 맛있는 진짜 보말의 맛을 만나세...  2020-11-27   \n",
       "1           1  11월 28일 토요일오전10시~밤12시까지 오늘도 정상 영업합니다뷰맛집ㆍ뷰카페상호 ...  2020-11-27   \n",
       "2           2  여러분이 편안하게 쉬어갈수있게 성산일출봉 뷰 빈백이준비 되어있고~👍⠀가성비 좋은 맛...  2020-11-27   \n",
       "3           3  산도롱맨도롱----------🍜제주 유일무이 고기국수 맛집🍜제주도 여행 필수코스 산...  2020-11-27   \n",
       "4           4  <광고>지금 제주도여행중이시라면 차 한 잔에 천상의맛 카이막 드시러 오세요😘💙 사회...  2020-11-28   \n",
       "\n",
       "  like place                                               tags  \n",
       "0    0   NaN  ['#제주도맛집', '#제주맛집', '#중문맛집', '#제주중문맛집', '#서귀포맛...  \n",
       "1    0   NaN  ['#제주성산맛집', '#성산일출봉맛집', '#제주맛집', '#성산맛집', '#제주...  \n",
       "2    0   NaN  ['#제주도맛집', '#성산일출봉카페', '#애월맛집', '#세화카페', '#제주공...  \n",
       "3    0   NaN  ['#제주도맛집', '#제주맛집', '#제주도고기국수', '#성산일출봉맛집', '#...  \n",
       "4    0   NaN  ['#쉬어갓', '#제주맛집', '#제주도맛집', '#표선맛집', '#성산맛집', ...  "
      ]
     },
     "execution_count": 14,
     "metadata": {},
     "output_type": "execute_result"
    }
   ],
   "source": [
    "import pandas as pd\n",
    "raw_total = pd.read_excel('files/insta_total_jeju_crawling.xlsx')\n",
    "raw_total.head()"
   ]
  },
  {
   "cell_type": "markdown",
   "metadata": {},
   "source": [
    "## 4.4.2 단어 선택하기"
   ]
  },
  {
   "cell_type": "code",
   "execution_count": 16,
   "metadata": {},
   "outputs": [
    {
     "data": {
      "text/html": [
       "<div>\n",
       "<style scoped>\n",
       "    .dataframe tbody tr th:only-of-type {\n",
       "        vertical-align: middle;\n",
       "    }\n",
       "\n",
       "    .dataframe tbody tr th {\n",
       "        vertical-align: top;\n",
       "    }\n",
       "\n",
       "    .dataframe thead th {\n",
       "        text-align: right;\n",
       "    }\n",
       "</style>\n",
       "<table border=\"1\" class=\"dataframe\">\n",
       "  <thead>\n",
       "    <tr style=\"text-align: right;\">\n",
       "      <th></th>\n",
       "      <th>Unnamed: 0</th>\n",
       "      <th>content</th>\n",
       "      <th>date</th>\n",
       "      <th>like</th>\n",
       "      <th>place</th>\n",
       "      <th>tags</th>\n",
       "    </tr>\n",
       "  </thead>\n",
       "  <tbody>\n",
       "    <tr>\n",
       "      <th>7</th>\n",
       "      <td>7</td>\n",
       "      <td>(광고)제주도에서 해산물을 배터지게 먹고 싶다면~서귀포에 있는 큰갯물식당에서!-사장...</td>\n",
       "      <td>2020-11-27</td>\n",
       "      <td>0</td>\n",
       "      <td>NaN</td>\n",
       "      <td>['#제주도맛집', '#제주맛집투어', '#제주맛집베스트', '#제주맛집추천', '...</td>\n",
       "    </tr>\n",
       "    <tr>\n",
       "      <th>11</th>\n",
       "      <td>11</td>\n",
       "      <td>❤넓은 주차장 (가게 앞, 뒤)❤단체환영❤포장가능❤쾌적하고 깔끔한 매장❤도민이 인정...</td>\n",
       "      <td>2020-11-28</td>\n",
       "      <td>0</td>\n",
       "      <td>NaN</td>\n",
       "      <td>['#큰집어멍', '#제주은갈치', '#제주은갈치조림', '#제주롯데호텔맛집', '...</td>\n",
       "    </tr>\n",
       "    <tr>\n",
       "      <th>13</th>\n",
       "      <td>13</td>\n",
       "      <td>서귀포시내 나 중문에 있으신분들 필독하세요~!!제주도에만 있는 흑돼지전문점 ‘까망돼...</td>\n",
       "      <td>2020-11-28</td>\n",
       "      <td>0</td>\n",
       "      <td>NaN</td>\n",
       "      <td>['#서귀포흑돼지맛집', '#제주이색맛집', '#제주도갈치조림맛집', '#올레시장맛...</td>\n",
       "    </tr>\n",
       "    <tr>\n",
       "      <th>22</th>\n",
       "      <td>28</td>\n",
       "      <td>우연히 길가다가 폭풍검색으로 방문한 까망돼지!!!여긴 특이하게 오겹으로 근고기가 두...</td>\n",
       "      <td>2020-11-28</td>\n",
       "      <td>0</td>\n",
       "      <td>NaN</td>\n",
       "      <td>['#제주도카페', '#서귀포맛집까망돼지', '#중문맛집', '#중문흑돼지맛집', ...</td>\n",
       "    </tr>\n",
       "    <tr>\n",
       "      <th>31</th>\n",
       "      <td>41</td>\n",
       "      <td>제주도에서 가장 오겹이 맛있는곳 까망돼지~ 업체명이 까망돼지에요!!육지체인점이아니라...</td>\n",
       "      <td>2020-11-28</td>\n",
       "      <td>0</td>\n",
       "      <td>NaN</td>\n",
       "      <td>['#제주도맛집', '#중문맛집추천', '#서귀포흑돼지맛집', '#제주도맛집', '...</td>\n",
       "    </tr>\n",
       "  </tbody>\n",
       "</table>\n",
       "</div>"
      ],
      "text/plain": [
       "    Unnamed: 0                                            content        date  \\\n",
       "7            7  (광고)제주도에서 해산물을 배터지게 먹고 싶다면~서귀포에 있는 큰갯물식당에서!-사장...  2020-11-27   \n",
       "11          11  ❤넓은 주차장 (가게 앞, 뒤)❤단체환영❤포장가능❤쾌적하고 깔끔한 매장❤도민이 인정...  2020-11-28   \n",
       "13          13  서귀포시내 나 중문에 있으신분들 필독하세요~!!제주도에만 있는 흑돼지전문점 ‘까망돼...  2020-11-28   \n",
       "22          28  우연히 길가다가 폭풍검색으로 방문한 까망돼지!!!여긴 특이하게 오겹으로 근고기가 두...  2020-11-28   \n",
       "31          41  제주도에서 가장 오겹이 맛있는곳 까망돼지~ 업체명이 까망돼지에요!!육지체인점이아니라...  2020-11-28   \n",
       "\n",
       "   like place                                               tags  \n",
       "7     0   NaN  ['#제주도맛집', '#제주맛집투어', '#제주맛집베스트', '#제주맛집추천', '...  \n",
       "11    0   NaN  ['#큰집어멍', '#제주은갈치', '#제주은갈치조림', '#제주롯데호텔맛집', '...  \n",
       "13    0   NaN  ['#서귀포흑돼지맛집', '#제주이색맛집', '#제주도갈치조림맛집', '#올레시장맛...  \n",
       "22    0   NaN  ['#제주도카페', '#서귀포맛집까망돼지', '#중문맛집', '#중문흑돼지맛집', ...  \n",
       "31    0   NaN  ['#제주도맛집', '#중문맛집추천', '#서귀포흑돼지맛집', '#제주도맛집', '...  "
      ]
     },
     "execution_count": 16,
     "metadata": {},
     "output_type": "execute_result"
    }
   ],
   "source": [
    "select_word = '갈치'\n",
    "\n",
    "check_list = []\n",
    "for content in raw_total['content']:\n",
    "    if select_word in content:\n",
    "        check_list.append(True)\n",
    "    else:\n",
    "        check_list.append(False)\n",
    "        \n",
    "select_df = raw_total[check_list]\n",
    "select_df.head()"
   ]
  },
  {
   "cell_type": "code",
   "execution_count": 17,
   "metadata": {},
   "outputs": [
    {
     "name": "stdout",
     "output_type": "stream",
     "text": [
      "(광고)제주도에서 해산물을 배터지게 먹고 싶다면~서귀포에 있는 큰갯물식당에서!-사장님께서 잡아서 떠주셔서신선함도 최고! 비주얼, 실내 인테리어 전부 고급스러움의 끝판왕-한치회, 고등어회, 갈치회, 다금바리이 모든것이 전부 신선하고 상다리 부러지게 나온다!!제주도 필수 메뉴인 고등어회도 먹을 수 있고!다금바리는 제주도에서도 하는 집이 많지 않다구?바로가자!-큰갯물횟집＊064-738-1625＊제주 서귀포시 대포로 161＊단체석 , 주차 , 예약#제주도맛집 #제주맛집투어 #제주맛집베스트 #제주맛집추천 #제주맛 #휴애리근처맛집 #휴애리맛집 #여미지식물원맛집 #중문관광단지맛집\n",
      "--------------------------------------------------\n",
      "❤넓은 주차장 (가게 앞, 뒤)❤단체환영❤포장가능❤쾌적하고 깔끔한 매장❤도민이 인정한 맛집❤정성을 다한 반찬❤밥이 맛있는집, 돌솥밥!_✅전복해물탕✅♦산 전복이 폭탄처럼 들어있는 인기만점, 영양만점 해물탕!♦해장, 아침식사로 강추!_✅은갈치구이✅♦제주산 은갈치를 겉바속촉 구워냈습니다.♦전복장이 함께 나와요☺_✅은갈치조림✅♦제주산 은갈치를 매콤달콤한 비법 양념과 함께!_✅전복성게미역국✅♦해장, 아침식사로 강추!_✅옥돔구이/고등어구이/전복구이✅♦직화로 바로 구워 맛을 up! UP!_✅큰집어멍 예약문의운영시간:매일 09:00 - 22:00☎064-739-8295☑제주 서귀포시 중문관광로 336_#큰집어멍 #제주은갈치 #제주은갈치조림 #제주롯데호텔맛집 #제주해물탕 #중문아침식사 #제주신라호텔맛집 #제주여행 #중문카페 #중문갈치조림 #제주중문맛집 #중문맛집 #중문맛집추천 #제주맛집 #제주도맛집 #서귀포맛집 #제주갈치조림맛집 #제주갈치조림 #제주갈치구이 #제주은갈치구이 #서귀포갈치구이 #서귀포해물탕 #신화역사공원맛집 #중문해물탕 #중문갈치구이 #제주먹거리 #중문관광단지맛집 #서귀포갈치조림\n",
      "--------------------------------------------------\n",
      "서귀포시내 나 중문에 있으신분들 필독하세요~!!제주도에만 있는 흑돼지전문점 ‘까망돼지’에서 이색소스와 오겹살을 즐겨 보시길 추천드립니다 오로지 까망돼지에서만 제공하는 4가지 이색소스와 함께 육즙가득한 흑돼지 한번 드셔보시고 후회없는 제주여행 되세요~ 까망돼지 꼭방문해보세요~#서귀포흑돼지맛집#제주이색맛집#제주도갈치조림맛집#올레시장맛집#제주흑돼지#제주중문맛집까망돼지#제주흑돼지맛집#서귀포갈치조림맛집#서귀포가볼만한곳까망돼지#제주도맛집#제주맛집#중문흑돼지맛집#서귀포맛집#중문해수욕장#서귀포맛집추천#제주도가볼만한곳#제주도흑돼지맛집까망돼지#제주도맛집추천#서귀포맛집#서귀포올레길까망돼지#중문흑돼지맛집#중문맛집\n",
      "--------------------------------------------------\n",
      "우연히 길가다가 폭풍검색으로 방문한 까망돼지!!!여긴 특이하게 오겹으로 근고기가 두둥~!@!한입 베어무는 순간 육즙이 터져나오고 4가지 이색소스와 함께 특이하게 즐길수있는곳멸치젓갈은 기본이요 치즈콘소스 마늘소스 그리고 정말특이한 감귤소스 까지 대한민국에서 여기 제주도에서만 즐길수 있는 흑돼지와 소스들 꼭 한번 방문해보세요~까망돼지 꼭 기억하세요~#제주도카페#서귀포맛집까망돼지#중문맛집#중문흑돼지맛집#제주도가볼만한곳#서귀포올레길까망돼지#중문해수욕장#제주흑돼지맛집#제주도맛집#서귀포가볼만한곳까망돼지#제주도맛집#서귀포맛집#제주도가볼만한곳#제주도맛집추천#제주도갈치조림맛집#제주근고기맛집#제주더본호텔맛집#제주흑돼지#중문맛집#제주도커플여행#제주도고기국수맛집#중문관광단지맛집\n",
      "--------------------------------------------------\n",
      "제주도에서 가장 오겹이 맛있는곳 까망돼지~ 업체명이 까망돼지에요!!육지체인점이아니라 제주도에만 사장님께서 2군데 운영하신다하시네요 일반흑돼지 근고기가아니라 육즙가득한 오겹을 좋아하신다면 꼭 한번 방문해보세요~#제주도맛집#중문맛집추천#서귀포흑돼지맛집#제주도맛집#중문고기국수맛집#신화월드맛집#서귀포흑돼지맛집#색달해수욕장#중문해수욕장#제주근고기맛집#서귀포맛집#서귀포올레시장#제주먹방#제주흑돼지맛집#제주도여행코스#제주도흑돼지맛집까망돼지#서귀포맛집#제주도핫플까망돼지#중문갈치조림맛집#제주중문맛집#서귀포올레길까망돼지\n",
      "--------------------------------------------------\n",
      "❤넓은 주차장 (가게 앞, 뒤)❤단체환영❤포장가능❤쾌적하고 깔끔한 매장❤도민이 인정한 맛집❤정성을 다한 반찬❤밥이 맛있는집, 돌솥밥!_✅전복해물탕✅♦산 전복이 폭탄처럼 들어있는 인기만점, 영양만점 해물탕!♦해장, 아침식사로 강추!_✅은갈치구이✅♦제주산 은갈치를 겉바속촉 구워냈습니다.♦전복장이 함께 나와요☺_✅은갈치조림✅♦제주산 은갈치를 매콤달콤한 비법 양념과 함께!_✅전복성게미역국✅♦해장, 아침식사로 강추!_✅옥돔구이/고등어구이/전복구이✅♦직화로 바로 구워 맛을 up! UP!_✅큰집어멍 예약문의운영시간:매일 09:00 - 22:00☎064-739-8295☑제주 서귀포시 중문관광로 336_#큰집어멍 #중문아침식사 #제주신라호텔맛집 #제주여행 #중문카페 #중문갈치조림 #중문갈치구이 #중문관광단지맛집 #서귀포갈치조림 #서귀포갈치구이 #서귀포해물탕 #신화역사공원맛집 #중문해물탕 #제주중문맛집 #중문맛집 #중문맛집추천 #제주맛집 #제주도맛집 #서귀포맛집 #제주갈치조림맛집 #제주갈치조림 #제주갈치구이 #제주은갈치구이 #제주은갈치 #제주은갈치조림 #제주스타그램 #제주시맛집 #제주먹거리\n",
      "--------------------------------------------------\n",
      "🌴제주 안녕^_^.......#제주도 #여행 #travel #jejuisland #제주도여행 #제주도맛집 #휴가 #휴양 #여행사진 #추억쌓기 #photo #일상 #데일리룩 #소중한하루하루 #trip #food #맛집탐방 #올래국수 #제주도갈치 #또가쟝💕\n",
      "--------------------------------------------------\n",
      "우연히 길가다가 폭풍검색으로 방문한 까망돼지!!!여긴 특이하게 오겹으로 근고기가 두둥~!@!한입 베어무는 순간 육즙이 터져나오고 4가지 이색소스와 함께 특이하게 즐길수있는곳멸치젓갈은 기본이요 치즈콘소스 마늘소스 그리고 정말특이한 감귤소스 까지 대한민국에서 여기 제주도에서만 즐길수 있는 흑돼지와 소스들 꼭 한번 방문해보세요~까망돼지 꼭 기억하세요~#제주도맛집#올레시장맛집#서귀포흑돼지맛집#서귀포가볼만한곳#제주도갈치조림맛집#제주중문맛집까망돼지#중문흑돼지맛집#제주도올레길#오설록맛집#제주도맛집추천#서귀포맛집#제주근고기맛집#신화월드맛집#서귀포고기국수맛집#서귀포맛집#중문해수욕장#제주도맛집까망돼지#제주이색맛집#제주신라호텔맛집#서귀포흑돼지맛집#중문흑돼지맛집\n",
      "--------------------------------------------------\n",
      "제주도에서 가장 오겹이 맛있는곳 까망돼지~ 업체명이 까망돼지에요!!육지체인점이아니라 제주도에만 사장님께서 2군데 운영하신다하시네요 일반흑돼지 근고기가아니라 육즙가득한 오겹을 좋아하신다면 꼭 한번 방문해보세요~#제주중문맛집#제주신라호텔맛집#제주도맛집까망돼지#제주도여행코스#제주흑돼지맛집#서귀포맛집까망돼지#오설록맛집#중문맛집#제주도가볼만한곳#제주흑돼지#제주도갈치조림맛집#서귀포맛집#제주도흑돼지맛집까망돼지#제주근고기맛집#제주도맛집추천#서귀포올레길까망돼지#제주도맛집#제주신화월드맛집#제주맛집#서귀포올레시장#제주도흑돼지맛집\n",
      "--------------------------------------------------\n",
      "이색4가지소스와 함께 즐길 수 있는 흑돼지 전문점 까망돼지육지체인점이 아닌 제주도에서만 2군데 매장을 운영하시고 오로지 흑돼지만취급하는곳정말 육즙가득한 흑돼지를 맛보고 싶으신 분들은 꼭한번씩 방문해보시길!!까망돼지는 오로지 제주도 서귀포시내와 중문점 2곳만 운영하고 있습니다#서귀포올레길까망돼지#서귀포맛집까망돼지#서귀포고기국수맛집#제주도핫플까망돼지#서귀포맛집#제주도흑돼지#제주맛집#제주도흑돼지맛집#제주흑돼지#오설록맛집#서귀포흑돼지#제주더본호텔맛집#중문맛집#중문관광단지맛집#제주도맛집#중문흑돼지맛집#제주고기국수맛집#서귀포올레시장맛집#제주도카페#제주도카페까망돼지#제주도갈치조림맛집#서귀포맛집\n",
      "--------------------------------------------------\n",
      "1년 3제주는 기본 아닌가요 ㅋㅋㅋ또 먹었다웨이팅 30분만에 성공!#제주도맛집 #제주도 #갈치조림 #고등어조림 #맛집 #맛나식당 #성산맛집 #먹스타그램 #음식스타그램 #여행스타그램 #일상스타그램 #맛집스타그램\n",
      "--------------------------------------------------\n",
      "제주도와서 밥다운밥 먹었다~얘기한 밥집~^^전체적으로 깔끔하고 맛난~테이블이 두개뿐이라 조금만 늦었어도 기다릴뻔~재방문하고싶은 밥집~닭볶음은 써비스~^^#제주도여행 #가족여행 #제주도맛집#엄마의제주 #돈두부찌개 #제육볶음정식#제주갈치조림정식\n",
      "--------------------------------------------------\n",
      "서귀포시내 나 중문에 있으신분들 필독하세요~!!제주도에만 있는 흑돼지전문점 ‘까망돼지’에서 이색소스와 오겹살을 즐겨 보시길 추천드립니다 오로지 까망돼지에서만 제공하는 4가지 이색소스와 함께 육즙가득한 흑돼지 한번 드셔보시고 후회없는 제주여행 되세요~ 까망돼지 꼭방문해보세요~#제주도카페#제주도올레길#제주도맛집#서귀포갈치조림맛집#제주도맛집까망돼지#천제연폭포#서귀포흑돼지맛집#제주도가볼만한곳#서귀포카페#서귀포흑돼지#제주도먹방#중문흑돼지맛집까망돼지#중문관광단지맛집#제주도가볼만한곳까망돼지#제주도핫플까망돼지#서귀포맛집#제주도흑돼지맛집까망돼지#제주도고기국수맛집#제주도카페#제주도카페까망돼지#제주도흑돼지맛집까망돼지#제주맛집까망돼지\n",
      "--------------------------------------------------\n",
      "첫제주도 첫음식 역시 굿!. . . . . #제주협재맛집 #제주도맛집 #오만정성 #제주맛집 #제주갈치조림맛집 #제주시맛집 #한림맛집 #제주한림맛집 #협재해수욕장맛집 #제주해물뚝배기 #제주현지인맛집 #제주애월맛집 #협재맛집 #제주해물탕맛집\n",
      "--------------------------------------------------\n",
      "#제주#제주도#제주여행#제주도여행#제주서쪽#신창해안도로#싱계물공원#판포포구#제주맛집#제주도맛집#한경면맛집#금자매식당#협재맛집#협재#제주서쪽맛집#신창해안도로맛집#금능#금능맛집#월령맛집#판포리맛집#전복돌솥밥맛집#판포포구맛집#제주도민맛집#전복돌솥밥#신창풍차해안도로맛집 ...엄마가 주방에 밥 더 가지러 자리를 비운 사이.사람인척 떡하고 앉아있는 갈치 좋아하는 검둥개.#나도먹고싶어갈치#안돼당장내려가#동공지진#우거지갈치조림#갈치조림맛집\n",
      "--------------------------------------------------\n",
      "이걸 보시는 녀러분들은 네이버로 고고합니다 찰리스를 검색하여 예약을 신청하게 됩니다 (튕김주의)#대평리맛집 #찰리스#갈치파스타 #서귀포맛집 #제주도맛집\n",
      "--------------------------------------------------\n",
      "❤넓은 주차장 (가게 앞, 뒤)❤단체환영❤포장가능❤쾌적하고 깔끔한 매장❤도민이 인정한 맛집❤정성을 다한 반찬❤밥이 맛있는집, 돌솥밥!_✅전복해물탕✅♦산 전복이 폭탄처럼 들어있는 인기만점, 영양만점 해물탕!♦해장, 아침식사로 강추!_✅은갈치구이✅♦제주산 은갈치를 겉바속촉 구워냈습니다.♦전복장이 함께 나와요☺_✅은갈치조림✅♦제주산 은갈치를 매콤달콤한 비법 양념과 함께!_✅전복성게미역국✅♦해장, 아침식사로 강추!_✅옥돔구이/고등어구이/전복구이✅♦직화로 바로 구워 맛을 up! UP!_✅큰집어멍 예약문의운영시간:매일 09:00 - 22:00☎064-739-8295☑제주 서귀포시 중문관광로 336_#큰집어멍 #제주중문맛집 #중문맛집 #중문맛집추천 #제주맛집 #제주도맛집 #서귀포맛집 #제주갈치조림맛집 #제주갈치조림 #제주갈치구이 #제주은갈치구이 #제주은갈치 #제주은갈치조림 #제주롯데호텔맛집 #제주해물탕 #중문아침식사 #제주신라호텔맛집 #제주여행 #중문카페 #중문갈치조림 #중문갈치구이 #중문관광단지맛집 #서귀포갈치조림 #서귀포갈치구이 #서귀포해물탕 #제주시맛집 #신화역사공원맛집 #중문해물탕\n",
      "--------------------------------------------------\n",
      "서귀포시내 나 중문에 있으신분들 필독하세요~!!제주도에만 있는 흑돼지전문점 ‘까망돼지’에서 이색소스와 오겹살을 즐겨 보시길 추천드립니다 오로지 까망돼지에서만 제공하는 4가지 이색소스와 함께 육즙가득한 흑돼지 한번 드셔보시고 후회없는 제주여행 되세요~ 까망돼지 꼭방문해보세요~#서귀포흑돼지맛집#서귀포올레시장맛집#제주근고기맛집#제주중문맛집까망돼지#서귀포갈치조림맛집#서귀포카페까망돼지#중문흑돼지맛집까망돼지#제주도핫플레이스#제주맛집#제주도먹방#제주중문맛집까망돼지#오설록맛집#제주맛집#서귀포맛집#제주흑돼지맛집#제주도맛집#제주도핫플#제주도흑돼지맛집까망돼지#중문맛집추천#제주흑돼지맛집#서귀포흑돼지맛집\n",
      "--------------------------------------------------\n",
      "우연히 길가다가 폭풍검색으로 방문한 까망돼지!!!여긴 특이하게 오겹으로 근고기가 두둥~!@!한입 베어무는 순간 육즙이 터져나오고 4가지 이색소스와 함께 특이하게 즐길수있는곳멸치젓갈은 기본이요 치즈콘소스 마늘소스 그리고 정말특이한 감귤소스 까지 대한민국에서 여기 제주도에서만 즐길수 있는 흑돼지와 소스들 꼭 한번 방문해보세요~까망돼지 꼭 기억하세요~#제주도핫플#서귀포맛집#서귀포맛집#중문맛집까망돼지#제주도카페#제주도카페까망돼지#서귀포맛집까망돼지#제주흑돼지#제주도맛집#제주갈치조림맛집#중문맛집#중문흑돼지#제주도먹방#서귀포맛집추천#제주도핫플#색달해수욕장#중문흑돼지맛집까망돼지#제주이색맛집#제주도가볼만한곳#중문관광단지맛집#제주도맛집베스트#오설록맛집\n",
      "--------------------------------------------------\n",
      "육지체인점이아닌 제주도에만 있는 까망돼지! 이름이 귀엽죠?까망돼지!!사장님께서 가게를 2군데다 운영하신다해요! 처음에는 중문본점에서 시작했는데  장사가 너무잘되서 이번에 서귀포시내쪽에 분점으로 오픈하였다하니 얼마나 맛있는지알겠죠?? 서귀포시내점 제주도 서귀포시 일주동로8524(동선면옥)064 732 6542서귀포중문점 제주도 서귀포시 색달중앙로21(여미지하우스)064 738 65434가지이색소스 멸젓 치즈콘소스 마늘소스 감귤소스가 존재하는 이색맛집♡♡목살근고기도 맛있지만  특이하게 제주도 유일한  오겹 근고기전문점!! 오겹근고기에다가 고사리구워서 치즈콘소스에 같이 먹으면 대한민국 어디서도 먹어보지 못한 오겹삼합탄생 !! 여기다가 중문점은 픽업도 가능하다하니 사장님 센스짱겨울엔 직접수확하신 감귤을 한봉지씩드리고 무더운 여름에는 직접만든 우유빙수를 후식으로 주신다 하시니 여름에 꼭 방문하시길사장님센스만큼이나 고기도 두껍고  맛도 짱이니  매번 생각날거같네요영업시간은 !! 12시부터 23시 까지에요 점심은 물론 늦은 저녁까지 가능해요~~!#제주도가볼만한곳#제주이색맛집#제주맛집까망돼지#서귀포흑돼지맛집#서귀포올레시장맛집#제주도올레길#제주도맛집추천#중문맛집까망돼지#제주도이색맛집까망돼지.#제주이색맛집까망돼지#제주도여행코스#중문흑돼지#제주도흑돼지맛집까망돼지#중문갈치조림맛집#제주도맛집까망돼지#서귀포맛집까망돼지#제주도가볼만한곳#쇠소깍맛집#제주도올레길까망돼지#제주고기국수맛집#서귀포가볼만한곳까망돼지#제주도맛집#제주도흑돼지맛집\n",
      "--------------------------------------------------\n",
      "챨리님 좋은 곳 소개 고마워요~. . . . . #제주현지인맛집 #협재해수욕장맛집 #제주시맛집 #제주도맛집 #오만정성 #제주협재맛집 #제주애월맛집 #제주맛집 #협재갈치조림맛집 #제주한림맛집 #제주해물뚝배기\n",
      "--------------------------------------------------\n",
      "제주도에서 가장 오겹이 맛있는곳 까망돼지~ 업체명이 까망돼지에요!!육지체인점이아니라 제주도에만 사장님께서 2군데 운영하신다하시네요 일반흑돼지 근고기가아니라 육즙가득한 오겹을 좋아하신다면 꼭 한번 방문해보세요~#중문맛집#제주도맛집#제주도고기국수맛집#신화월드맛집#제주도고기국수맛집#제주도맛집추천#제주히든클리프맛집#제주도올레길까망돼지#서귀포올레시장맛집#중문갈치조림맛집#제주도가볼만한곳까망돼지#제주중문맛집까망돼지#제주도핫플레이스#서귀포가볼만한곳#제주도맛집투어#제주도가족여행#중문흑돼지#제주맛집까망돼지#제주흑돼지#제주도흑돼지#서귀포흑돼지\n",
      "--------------------------------------------------\n",
      "제주여행 가시는분 꼭 참고하세요^^. . . . #협재해수욕장맛집 #제주도맛집 #한림맛집 #제주협재맛집 #오만정성 #제주애월맛집 #제주갈치조림맛집 #제주시맛집 #제주한림맛집 #제주해물탕맛집\n",
      "--------------------------------------------------\n"
     ]
    }
   ],
   "source": [
    "# 선택 데이터 확인하기\n",
    "for i in select_df.index:\n",
    "    print(select_df.loc[i, 'content'])\n",
    "    print('-'*50)"
   ]
  },
  {
   "cell_type": "code",
   "execution_count": 18,
   "metadata": {},
   "outputs": [],
   "source": [
    "# 선택 데이터 저장하기\n",
    "fpath = f'files/select_data_{select_word}.xlsx'\n",
    "select_df.to_excel(fpath)"
   ]
  },
  {
   "cell_type": "code",
   "execution_count": 19,
   "metadata": {},
   "outputs": [],
   "source": [
    "# 여러개의 단어 선택/추출/저장하기\n",
    "select_word_list = ['바다','흑돼지','렌트','게스트하우스','회']\n",
    "\n",
    "for select_word in select_word_list:\n",
    "    check_list = []\n",
    "    for content in raw_total['content']:\n",
    "        if select_word in content:\n",
    "            check_list.append(True)\n",
    "        else:\n",
    "            check_list.append(False)\n",
    "\n",
    "    select_df = raw_total[check_list]\n",
    "    fpath = f'files/4_select_data_{select_word}.xlsx'\n",
    "    select_df.to_excel(fpath)"
   ]
  },
  {
   "cell_type": "code",
   "execution_count": null,
   "metadata": {},
   "outputs": [],
   "source": []
  },
  {
   "cell_type": "code",
   "execution_count": null,
   "metadata": {},
   "outputs": [],
   "source": []
  }
 ],
 "metadata": {
  "kernelspec": {
   "display_name": "Python 3",
   "language": "python",
   "name": "python3"
  },
  "language_info": {
   "codemirror_mode": {
    "name": "ipython",
    "version": 3
   },
   "file_extension": ".py",
   "mimetype": "text/x-python",
   "name": "python",
   "nbconvert_exporter": "python",
   "pygments_lexer": "ipython3",
   "version": "3.6.10"
  }
 },
 "nbformat": 4,
 "nbformat_minor": 4
}
